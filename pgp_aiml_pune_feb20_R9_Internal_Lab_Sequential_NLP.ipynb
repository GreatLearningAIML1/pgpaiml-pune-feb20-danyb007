{
  "nbformat": 4,
  "nbformat_minor": 0,
  "metadata": {
    "colab": {
      "name": "pgp-aiml-pune-feb20-R9 Internal Lab Question Notebook.ipynb",
      "provenance": [],
      "collapsed_sections": []
    },
    "kernelspec": {
      "name": "python3",
      "display_name": "Python 3"
    }
  },
  "cells": [
    {
      "cell_type": "markdown",
      "metadata": {
        "id": "PHYs6Z84xV8E"
      },
      "source": [
        "<img src=\"http://drive.google.com/uc?export=view&id=1tpOCamr9aWz817atPnyXus8w5gJ3mIts\" width=500px>\n",
        "\n",
        "Proprietary content. © Great Learning. All Rights Reserved. Unauthorized use or distribution prohibited."
      ]
    },
    {
      "cell_type": "markdown",
      "metadata": {
        "id": "FbwHYUXhxaqD"
      },
      "source": [
        "## Problem Statement\n",
        "\n"
      ]
    },
    {
      "cell_type": "markdown",
      "metadata": {
        "id": "5QQxgAmWzSye"
      },
      "source": [
        "# Samsung Internal SSD Reviews prediction\n",
        "\n",
        "Rating predictions using reviews written by users can be a useful problem statement in E-commerce domain and can be used for recommending similar products that may interest users. The dataset in this problem statement comprises reviews pertaining to Samsung Internal SSD product specifically SAMSUNG 850 EVO 2.5\" 250GB SATA III 3D NAND Internal Solid State Drive (SSD) MZ-75E250B/AM from the NewEgg Store website.  We will build a Natural Language processing model using Glove embeddings which is trained on reviews given by customers that have used the product and try to predict ratings given a new rating.\n",
        "\n",
        "\n",
        "\n",
        "\n",
        "### Objective:\n",
        "Given the reviews provided by customers, can you train a model that accurately predicts the corresponding rating of a review?"
      ]
    },
    {
      "cell_type": "markdown",
      "metadata": {
        "id": "CI7usguRzeox"
      },
      "source": [
        "### Package version\n",
        "\n",
        "- tensorflow==2.3.0\n",
        "- scikit-learn==0.22.2.post1\n",
        "- pandas==1.0.5\n",
        "- numpy==1.18.5\n",
        "- matplotlib==3.2.2\n",
        "- google==2.0.3"
      ]
    },
    {
      "cell_type": "markdown",
      "metadata": {
        "id": "aiMdVjHRH7NR"
      },
      "source": [
        "### Data Dictionary \n",
        "\n",
        "- review_title : The Title for the customer review\n",
        "\n",
        "- overall_review: The whole customer review details\n",
        "\n",
        "- pros: The customer opinion about the good things in this product\n",
        "\n",
        "- cons: The customer opinion about the bad things in this product\n",
        "\n",
        "- ownership_pariod: How long the customer owned this product\n",
        "\n",
        "- date: When the review was written\n",
        "\n",
        "- rating_stars: The product rating from 1 to 5\n",
        "\n",
        "- year: In which year the review was written\n",
        "\n",
        "- month: In which month the review was written\n",
        "\n",
        "- day: In which day the review was written"
      ]
    },
    {
      "cell_type": "markdown",
      "metadata": {
        "id": "cEn52o8jznJK"
      },
      "source": [
        "## Table of Content\n",
        "\n",
        "1. Import Libraries\n",
        "\n",
        "2. Setting options\n",
        "\n",
        "3. Read Data\n",
        "\n",
        "4. Data Analysis and Preparation\n",
        "\n",
        "5. Model Building\n",
        "\n",
        "6. Conclusion and Interpretation\n",
        "\n",
        "7. Food for thought"
      ]
    },
    {
      "cell_type": "markdown",
      "metadata": {
        "id": "x_Lom6cXzqn7"
      },
      "source": [
        "## 1. Import Libraries"
      ]
    },
    {
      "cell_type": "markdown",
      "metadata": {
        "id": "FZtVstH8zre2"
      },
      "source": [
        "Let us start by mounting the drive"
      ]
    },
    {
      "cell_type": "code",
      "metadata": {
        "id": "jSsg8JHkIh2k",
        "colab": {
          "base_uri": "https://localhost:8080/"
        },
        "outputId": "aed95389-4b31-4812-f23d-2fc2a31e5f8a"
      },
      "source": [
        "from google.colab import drive\n",
        "drive.mount('/content/drive/',force_remount=True)"
      ],
      "execution_count": 1,
      "outputs": [
        {
          "output_type": "stream",
          "text": [
            "Mounted at /content/drive/\n"
          ],
          "name": "stdout"
        }
      ]
    },
    {
      "cell_type": "markdown",
      "metadata": {
        "id": "Gv-tZoFjz2WD"
      },
      "source": [
        "Let us check for the version of installed tensorflow."
      ]
    },
    {
      "cell_type": "code",
      "metadata": {
        "id": "eiuUVBuDzzn9",
        "colab": {
          "base_uri": "https://localhost:8080/"
        },
        "outputId": "6c6d5204-751e-4e22-ac8b-24b11f3b93ab"
      },
      "source": [
        "# used to supress display of warnings\n",
        "import warnings\n",
        "\n",
        "# os is used to provide a way of using operating system dependent functionality\n",
        "# We use it for setting working folder\n",
        "import os\n",
        "\n",
        "# Pandas is used for data manipulation and analysis\n",
        "import pandas as pd \n",
        "\n",
        "# Numpy is used for large, multi-dimensional arrays and matrices, along with mathematical operators on these arrays\n",
        "import numpy as np\n",
        "\n",
        "# Matplotlib is a data visualization library for 2D plots of arrays, built on NumPy arrays \n",
        "# and designed to work with the broader SciPy stack\n",
        "import matplotlib.pyplot as plt\n",
        "%matplotlib inline\n",
        "from matplotlib import pyplot\n",
        "\n",
        "# Seaborn is based on matplotlib, which aids in drawing attractive and informative statistical graphics.\n",
        "import seaborn as sns\n",
        "import tensorflow \n",
        "print(tensorflow.__version__)"
      ],
      "execution_count": 2,
      "outputs": [
        {
          "output_type": "stream",
          "text": [
            "2.5.0\n"
          ],
          "name": "stdout"
        }
      ]
    },
    {
      "cell_type": "markdown",
      "metadata": {
        "id": "fze-aokU0ukH"
      },
      "source": [
        "## 2. Setting Options"
      ]
    },
    {
      "cell_type": "code",
      "metadata": {
        "id": "T3FALggG0xXa"
      },
      "source": [
        "# suppress display of warnings\n",
        "warnings.filterwarnings('ignore')\n",
        "\n",
        "# display all dataframe columns\n",
        "pd.options.display.max_columns = None\n",
        "\n",
        "# to set the limit to 3 decimals\n",
        "pd.options.display.float_format = '{:.7f}'.format\n",
        "\n",
        "# display all dataframe rows\n",
        "pd.options.display.max_rows = None"
      ],
      "execution_count": 3,
      "outputs": []
    },
    {
      "cell_type": "markdown",
      "metadata": {
        "id": "ZT1P1WdK1vfZ"
      },
      "source": [
        "## 3. Read Data"
      ]
    },
    {
      "cell_type": "markdown",
      "metadata": {
        "id": "NnnvF56gfwav"
      },
      "source": [
        "### Read the dataset and check top 5 rows"
      ]
    },
    {
      "cell_type": "code",
      "metadata": {
        "colab": {
          "base_uri": "https://localhost:8080/",
          "height": 35
        },
        "id": "nMKN6iFKqN9Z",
        "outputId": "ca3bd764-3272-42a7-b7dd-69348bef7f5b"
      },
      "source": [
        "project_path = r\"/content/drive/MyDrive/Colab Notebooks/Great_Learning/Lab AIML/Sequence model NLP\"\n",
        "os.chdir(project_path)\n",
        "os.getcwd()"
      ],
      "execution_count": 4,
      "outputs": [
        {
          "output_type": "execute_result",
          "data": {
            "application/vnd.google.colaboratory.intrinsic+json": {
              "type": "string"
            },
            "text/plain": [
              "'/content/drive/MyDrive/Colab Notebooks/Great_Learning/Lab AIML/Sequence model NLP'"
            ]
          },
          "metadata": {
            "tags": []
          },
          "execution_count": 4
        }
      ]
    },
    {
      "cell_type": "code",
      "metadata": {
        "id": "imj2VbNpf383",
        "colab": {
          "base_uri": "https://localhost:8080/",
          "height": 346
        },
        "outputId": "e85a2804-0d2c-410f-f42d-e44b3d5af168"
      },
      "source": [
        "data_raw = pd.read_csv('ssd_reviews.csv')\n",
        "data_raw.head(5)"
      ],
      "execution_count": 5,
      "outputs": [
        {
          "output_type": "execute_result",
          "data": {
            "text/html": [
              "<div>\n",
              "<style scoped>\n",
              "    .dataframe tbody tr th:only-of-type {\n",
              "        vertical-align: middle;\n",
              "    }\n",
              "\n",
              "    .dataframe tbody tr th {\n",
              "        vertical-align: top;\n",
              "    }\n",
              "\n",
              "    .dataframe thead th {\n",
              "        text-align: right;\n",
              "    }\n",
              "</style>\n",
              "<table border=\"1\" class=\"dataframe\">\n",
              "  <thead>\n",
              "    <tr style=\"text-align: right;\">\n",
              "      <th></th>\n",
              "      <th>Unnamed: 0</th>\n",
              "      <th>review_title</th>\n",
              "      <th>overall_review</th>\n",
              "      <th>pros</th>\n",
              "      <th>cons</th>\n",
              "      <th>ownership_pariod</th>\n",
              "      <th>date</th>\n",
              "      <th>rating_stars</th>\n",
              "      <th>year</th>\n",
              "      <th>month</th>\n",
              "      <th>day</th>\n",
              "    </tr>\n",
              "  </thead>\n",
              "  <tbody>\n",
              "    <tr>\n",
              "      <th>0</th>\n",
              "      <td>0</td>\n",
              "      <td>solid</td>\n",
              "      <td>buy it you will not regret this purchase</td>\n",
              "      <td>reliable fast silent cool running drive highly...</td>\n",
              "      <td>NaN</td>\n",
              "      <td>years</td>\n",
              "      <td>2019-12-05 12:58:58</td>\n",
              "      <td>5</td>\n",
              "      <td>2019</td>\n",
              "      <td>12</td>\n",
              "      <td>5</td>\n",
              "    </tr>\n",
              "    <tr>\n",
              "      <th>1</th>\n",
              "      <td>1</td>\n",
              "      <td>nice drive for price even cheaper by todays costs</td>\n",
              "      <td>good drive price</td>\n",
              "      <td>been running almost constantly since when i pu...</td>\n",
              "      <td>NaN</td>\n",
              "      <td>years</td>\n",
              "      <td>2019-11-01 08:25:45</td>\n",
              "      <td>5</td>\n",
              "      <td>2019</td>\n",
              "      <td>11</td>\n",
              "      <td>1</td>\n",
              "    </tr>\n",
              "    <tr>\n",
              "      <th>2</th>\n",
              "      <td>2</td>\n",
              "      <td>perfect</td>\n",
              "      <td>used this drive as my boot drive and only data...</td>\n",
              "      <td>good value decently fast good longevity</td>\n",
              "      <td>none so far</td>\n",
              "      <td>years</td>\n",
              "      <td>2019-10-27 17:05:49</td>\n",
              "      <td>5</td>\n",
              "      <td>2019</td>\n",
              "      <td>10</td>\n",
              "      <td>27</td>\n",
              "    </tr>\n",
              "    <tr>\n",
              "      <th>3</th>\n",
              "      <td>3</td>\n",
              "      <td>very snappy</td>\n",
              "      <td>os boots quicker os menus pop up quicker gamin...</td>\n",
              "      <td>noticeable improvement in os performance over ...</td>\n",
              "      <td>samsung magician software causes some games to...</td>\n",
              "      <td>years</td>\n",
              "      <td>2019-10-24 18:29:43</td>\n",
              "      <td>5</td>\n",
              "      <td>2019</td>\n",
              "      <td>10</td>\n",
              "      <td>24</td>\n",
              "    </tr>\n",
              "    <tr>\n",
              "      <th>4</th>\n",
              "      <td>4</td>\n",
              "      <td>worth the hype</td>\n",
              "      <td>this was the sdd that everyone said to get and...</td>\n",
              "      <td>NaN</td>\n",
              "      <td>NaN</td>\n",
              "      <td>years</td>\n",
              "      <td>2019-09-11 19:21:03</td>\n",
              "      <td>5</td>\n",
              "      <td>2019</td>\n",
              "      <td>9</td>\n",
              "      <td>11</td>\n",
              "    </tr>\n",
              "  </tbody>\n",
              "</table>\n",
              "</div>"
            ],
            "text/plain": [
              "   Unnamed: 0                                       review_title  \\\n",
              "0           0                                              solid   \n",
              "1           1  nice drive for price even cheaper by todays costs   \n",
              "2           2                                            perfect   \n",
              "3           3                                        very snappy   \n",
              "4           4                                     worth the hype   \n",
              "\n",
              "                                      overall_review  \\\n",
              "0           buy it you will not regret this purchase   \n",
              "1                                   good drive price   \n",
              "2  used this drive as my boot drive and only data...   \n",
              "3  os boots quicker os menus pop up quicker gamin...   \n",
              "4  this was the sdd that everyone said to get and...   \n",
              "\n",
              "                                                pros  \\\n",
              "0  reliable fast silent cool running drive highly...   \n",
              "1  been running almost constantly since when i pu...   \n",
              "2            good value decently fast good longevity   \n",
              "3  noticeable improvement in os performance over ...   \n",
              "4                                                NaN   \n",
              "\n",
              "                                                cons ownership_pariod  \\\n",
              "0                                                NaN            years   \n",
              "1                                                NaN            years   \n",
              "2                                        none so far            years   \n",
              "3  samsung magician software causes some games to...            years   \n",
              "4                                                NaN            years   \n",
              "\n",
              "                  date  rating_stars  year  month  day  \n",
              "0  2019-12-05 12:58:58             5  2019     12    5  \n",
              "1  2019-11-01 08:25:45             5  2019     11    1  \n",
              "2  2019-10-27 17:05:49             5  2019     10   27  \n",
              "3  2019-10-24 18:29:43             5  2019     10   24  \n",
              "4  2019-09-11 19:21:03             5  2019      9   11  "
            ]
          },
          "metadata": {
            "tags": []
          },
          "execution_count": 5
        }
      ]
    },
    {
      "cell_type": "markdown",
      "metadata": {
        "id": "RGluIi5Sf5Rp"
      },
      "source": [
        "### Check info of the dataset and write your findings"
      ]
    },
    {
      "cell_type": "code",
      "metadata": {
        "id": "Pldlew5Mf9gA",
        "colab": {
          "base_uri": "https://localhost:8080/"
        },
        "outputId": "2159d553-48ff-405d-b7ee-600138eb184d"
      },
      "source": [
        "data_raw.info()"
      ],
      "execution_count": 6,
      "outputs": [
        {
          "output_type": "stream",
          "text": [
            "<class 'pandas.core.frame.DataFrame'>\n",
            "RangeIndex: 2227 entries, 0 to 2226\n",
            "Data columns (total 11 columns):\n",
            " #   Column            Non-Null Count  Dtype \n",
            "---  ------            --------------  ----- \n",
            " 0   Unnamed: 0        2227 non-null   int64 \n",
            " 1   review_title      2131 non-null   object\n",
            " 2   overall_review    1448 non-null   object\n",
            " 3   pros              2205 non-null   object\n",
            " 4   cons              2216 non-null   object\n",
            " 5   ownership_pariod  2159 non-null   object\n",
            " 6   date              2227 non-null   object\n",
            " 7   rating_stars      2227 non-null   int64 \n",
            " 8   year              2227 non-null   int64 \n",
            " 9   month             2227 non-null   int64 \n",
            " 10  day               2227 non-null   int64 \n",
            "dtypes: int64(5), object(6)\n",
            "memory usage: 191.5+ KB\n"
          ],
          "name": "stdout"
        }
      ]
    },
    {
      "cell_type": "markdown",
      "metadata": {
        "id": "Dz7ztxI6rHOO"
      },
      "source": [
        "### Inferences:-\n",
        "### 1. Total of 2000+ entries with 4 attributes of int datatype and 6 attributes with object datatype. \n",
        "### 2. Some of the values seems to be missing in the following attributes \"review_title\", \"overall_review\", \"pros\", \"cons\" and \"ownership_period\".\n"
      ]
    },
    {
      "cell_type": "markdown",
      "metadata": {
        "id": "rED6DbDBKTjM"
      },
      "source": [
        "## 4.  Data Analysis and Preparation"
      ]
    },
    {
      "cell_type": "markdown",
      "metadata": {
        "id": "7VSqr0Seiy7g"
      },
      "source": [
        "### 4.1 Checking missing values\n",
        "#### Check for missing values (along with the percentage of null values)"
      ]
    },
    {
      "cell_type": "code",
      "metadata": {
        "id": "Il4yi7kdmnYQ",
        "colab": {
          "base_uri": "https://localhost:8080/",
          "height": 229
        },
        "outputId": "f8ebf025-580a-41c9-cbe1-a8795f77eda2"
      },
      "source": [
        "# Checking for missing values\n",
        "def missing_zero_values_table(df):\n",
        "        zero_val = (df == 0.00).astype(int).sum(axis=0)\n",
        "        mis_val = df.isnull().sum()\n",
        "        mis_val_percent = 100 * df.isnull().sum() / len(df)\n",
        "        mz_table = pd.concat([zero_val, mis_val, mis_val_percent], axis=1)\n",
        "        mz_table = mz_table.rename(\n",
        "        columns = {0 : 'Zero Values', 1 : 'Missing Values', 2 : '% of Total Values'})\n",
        "        mz_table['Total Zero Missing Values'] = mz_table['Zero Values'] + mz_table['Missing Values']\n",
        "        mz_table['% Total Zero Missing Values'] = 100 * mz_table['Total Zero Missing Values'] / len(df)\n",
        "        mz_table['Data Type'] = df.dtypes\n",
        "        mz_table = mz_table[\n",
        "            mz_table.iloc[:,1] != 0].sort_values(\n",
        "        '% of Total Values', ascending=False).round(1)\n",
        "        print (\"Your selected dataframe has \" + str(df.shape[1]) + \" columns and \" + str(df.shape[0]) + \" Rows.\\n\"      \n",
        "            \"There are \" + str(mz_table.shape[0]) +\n",
        "              \" columns that have missing values.\")\n",
        "        return mz_table\n",
        "\n",
        "missing_zero_values_table(data_raw)"
      ],
      "execution_count": 7,
      "outputs": [
        {
          "output_type": "stream",
          "text": [
            "Your selected dataframe has 11 columns and 2227 Rows.\n",
            "There are 5 columns that have missing values.\n"
          ],
          "name": "stdout"
        },
        {
          "output_type": "execute_result",
          "data": {
            "text/html": [
              "<div>\n",
              "<style scoped>\n",
              "    .dataframe tbody tr th:only-of-type {\n",
              "        vertical-align: middle;\n",
              "    }\n",
              "\n",
              "    .dataframe tbody tr th {\n",
              "        vertical-align: top;\n",
              "    }\n",
              "\n",
              "    .dataframe thead th {\n",
              "        text-align: right;\n",
              "    }\n",
              "</style>\n",
              "<table border=\"1\" class=\"dataframe\">\n",
              "  <thead>\n",
              "    <tr style=\"text-align: right;\">\n",
              "      <th></th>\n",
              "      <th>Zero Values</th>\n",
              "      <th>Missing Values</th>\n",
              "      <th>% of Total Values</th>\n",
              "      <th>Total Zero Missing Values</th>\n",
              "      <th>% Total Zero Missing Values</th>\n",
              "      <th>Data Type</th>\n",
              "    </tr>\n",
              "  </thead>\n",
              "  <tbody>\n",
              "    <tr>\n",
              "      <th>overall_review</th>\n",
              "      <td>0</td>\n",
              "      <td>779</td>\n",
              "      <td>35.0000000</td>\n",
              "      <td>779</td>\n",
              "      <td>35.0000000</td>\n",
              "      <td>object</td>\n",
              "    </tr>\n",
              "    <tr>\n",
              "      <th>review_title</th>\n",
              "      <td>0</td>\n",
              "      <td>96</td>\n",
              "      <td>4.3000000</td>\n",
              "      <td>96</td>\n",
              "      <td>4.3000000</td>\n",
              "      <td>object</td>\n",
              "    </tr>\n",
              "    <tr>\n",
              "      <th>ownership_pariod</th>\n",
              "      <td>0</td>\n",
              "      <td>68</td>\n",
              "      <td>3.1000000</td>\n",
              "      <td>68</td>\n",
              "      <td>3.1000000</td>\n",
              "      <td>object</td>\n",
              "    </tr>\n",
              "    <tr>\n",
              "      <th>pros</th>\n",
              "      <td>0</td>\n",
              "      <td>22</td>\n",
              "      <td>1.0000000</td>\n",
              "      <td>22</td>\n",
              "      <td>1.0000000</td>\n",
              "      <td>object</td>\n",
              "    </tr>\n",
              "    <tr>\n",
              "      <th>cons</th>\n",
              "      <td>0</td>\n",
              "      <td>11</td>\n",
              "      <td>0.5000000</td>\n",
              "      <td>11</td>\n",
              "      <td>0.5000000</td>\n",
              "      <td>object</td>\n",
              "    </tr>\n",
              "  </tbody>\n",
              "</table>\n",
              "</div>"
            ],
            "text/plain": [
              "                  Zero Values  Missing Values  % of Total Values  \\\n",
              "overall_review              0             779         35.0000000   \n",
              "review_title                0              96          4.3000000   \n",
              "ownership_pariod            0              68          3.1000000   \n",
              "pros                        0              22          1.0000000   \n",
              "cons                        0              11          0.5000000   \n",
              "\n",
              "                  Total Zero Missing Values  % Total Zero Missing Values  \\\n",
              "overall_review                          779                   35.0000000   \n",
              "review_title                             96                    4.3000000   \n",
              "ownership_pariod                         68                    3.1000000   \n",
              "pros                                     22                    1.0000000   \n",
              "cons                                     11                    0.5000000   \n",
              "\n",
              "                 Data Type  \n",
              "overall_review      object  \n",
              "review_title        object  \n",
              "ownership_pariod    object  \n",
              "pros                object  \n",
              "cons                object  "
            ]
          },
          "metadata": {
            "tags": []
          },
          "execution_count": 7
        }
      ]
    },
    {
      "cell_type": "markdown",
      "metadata": {
        "id": "Hx3IlBivF6SZ"
      },
      "source": [
        "### Inferences: \n",
        "### 1.The above tabular data shows the missing value details.\n",
        "### 2.\"overall_reivew\" attribute has the most values missing about 35.00% ."
      ]
    },
    {
      "cell_type": "markdown",
      "metadata": {
        "id": "SB40EGirmVjo"
      },
      "source": [
        "### 4.2 Analyzing the target column (Rating_stars)"
      ]
    },
    {
      "cell_type": "markdown",
      "metadata": {
        "id": "MoRvWVk-is6Y"
      },
      "source": [
        "#### Check the value counts of 'rating_stars' and write your comments"
      ]
    },
    {
      "cell_type": "code",
      "metadata": {
        "id": "LOVFp6Diiy0n",
        "colab": {
          "base_uri": "https://localhost:8080/"
        },
        "outputId": "1099bbc6-8747-4f57-c895-94e9fb3c82aa"
      },
      "source": [
        "data_raw['rating_stars'].value_counts()"
      ],
      "execution_count": 8,
      "outputs": [
        {
          "output_type": "execute_result",
          "data": {
            "text/plain": [
              "5    1756\n",
              "4     181\n",
              "1     153\n",
              "3      77\n",
              "2      60\n",
              "Name: rating_stars, dtype: int64"
            ]
          },
          "metadata": {
            "tags": []
          },
          "execution_count": 8
        }
      ]
    },
    {
      "cell_type": "code",
      "metadata": {
        "id": "Rhr2gnY2lc9h",
        "colab": {
          "base_uri": "https://localhost:8080/",
          "height": 297
        },
        "outputId": "dc321895-8d92-4b5f-9e9a-4241b57fa27e"
      },
      "source": [
        "sns.countplot(x=\"rating_stars\", data=data_raw, palette=\"husl\", order = data_raw['rating_stars'].value_counts().index)"
      ],
      "execution_count": 9,
      "outputs": [
        {
          "output_type": "execute_result",
          "data": {
            "text/plain": [
              "<matplotlib.axes._subplots.AxesSubplot at 0x7f0fe80f5dd0>"
            ]
          },
          "metadata": {
            "tags": []
          },
          "execution_count": 9
        },
        {
          "output_type": "display_data",
          "data": {
            "image/png": "[encoded data removed]",
            "text/plain": [
              "<Figure size 432x288 with 1 Axes>"
            ]
          },
          "metadata": {
            "tags": [],
            "needs_background": "light"
          }
        }
      ]
    },
    {
      "cell_type": "markdown",
      "metadata": {
        "id": "ADrj-rxrtS7B"
      },
      "source": [
        "### Inferences:- \n",
        "### 1.Samsung SSD seems to be good and reliable product as most ratings are of value \"5\" which is the max rating.(about 1700+ in count which is more than 75% of the total reviews)\n",
        "### 2.There is a imbalance in the dataset as maximum data is of rating \"5\"."
      ]
    },
    {
      "cell_type": "markdown",
      "metadata": {
        "id": "ZL_BQlb5mE4O"
      },
      "source": [
        "### 4.3 Let's analyze other features like year, month, and day etc.\n",
        "#### Check value counts of 'year' and write your observations., Comment on the range of years, frequency of ratings in each year."
      ]
    },
    {
      "cell_type": "code",
      "metadata": {
        "id": "YAtEigKEmM-Z",
        "colab": {
          "base_uri": "https://localhost:8080/"
        },
        "outputId": "37a9c1e3-a5ba-4f6b-a8ec-7d8e705c079e"
      },
      "source": [
        "data_raw['year'].value_counts()"
      ],
      "execution_count": 10,
      "outputs": [
        {
          "output_type": "execute_result",
          "data": {
            "text/plain": [
              "2015    1006\n",
              "2016     605\n",
              "2017     370\n",
              "2018     187\n",
              "2019      46\n",
              "2014      13\n",
              "Name: year, dtype: int64"
            ]
          },
          "metadata": {
            "tags": []
          },
          "execution_count": 10
        }
      ]
    },
    {
      "cell_type": "markdown",
      "metadata": {
        "id": "Xx7r9rUqHgyU"
      },
      "source": [
        "### Inference:- 2015 is the year when maximum ratings and review have been recieved."
      ]
    },
    {
      "cell_type": "code",
      "metadata": {
        "colab": {
          "base_uri": "https://localhost:8080/"
        },
        "id": "FJUBs1uXuUEC",
        "outputId": "06d187c9-c113-4521-b252-72fdc988cdc1"
      },
      "source": [
        "data_raw.groupby('year')['rating_stars'].value_counts().sort_values(ascending=False)"
      ],
      "execution_count": 11,
      "outputs": [
        {
          "output_type": "execute_result",
          "data": {
            "text/plain": [
              "year  rating_stars\n",
              "2015  5               763\n",
              "2016  5               505\n",
              "2017  5               298\n",
              "2018  5               144\n",
              "2015  4               102\n",
              "      1                65\n",
              "      3                45\n",
              "2016  1                37\n",
              "      4                36\n",
              "2019  5                34\n",
              "2015  2                31\n",
              "2017  4                26\n",
              "      1                25\n",
              "2018  1                22\n",
              "2016  3                17\n",
              "2017  2                13\n",
              "2014  5                12\n",
              "2018  4                12\n",
              "2016  2                10\n",
              "2017  3                 8\n",
              "2018  3                 5\n",
              "      2                 4\n",
              "2019  1                 4\n",
              "      4                 4\n",
              "      2                 2\n",
              "      3                 2\n",
              "2014  4                 1\n",
              "Name: rating_stars, dtype: int64"
            ]
          },
          "metadata": {
            "tags": []
          },
          "execution_count": 11
        }
      ]
    },
    {
      "cell_type": "markdown",
      "metadata": {
        "id": "lmeG7v6SHwQL"
      },
      "source": [
        "### Inferences:- \n",
        "### 1. Max rating of \"5\" in counts was received in year 2015 about 763.\n",
        "### 2. Min rating of \"1\" in counts was recieved in year 2015 only about 65."
      ]
    },
    {
      "cell_type": "markdown",
      "metadata": {
        "id": "M-pWwPhRmsAz"
      },
      "source": [
        "#### Check mean rating for each year and write your findings"
      ]
    },
    {
      "cell_type": "code",
      "metadata": {
        "id": "sqWWhlLemwG8",
        "colab": {
          "base_uri": "https://localhost:8080/"
        },
        "outputId": "21508fab-5cb7-4e5a-e5c0-fc9778cd6a29"
      },
      "source": [
        "data_raw.groupby('year')['rating_stars'].mean().sort_values(ascending=False)"
      ],
      "execution_count": 12,
      "outputs": [
        {
          "output_type": "execute_result",
          "data": {
            "text/plain": [
              "year\n",
              "2014   4.9230769\n",
              "2016   4.5900826\n",
              "2017   4.5108108\n",
              "2015   4.4582505\n",
              "2019   4.3478261\n",
              "2018   4.3475936\n",
              "Name: rating_stars, dtype: float64"
            ]
          },
          "metadata": {
            "tags": []
          },
          "execution_count": 12
        }
      ]
    },
    {
      "cell_type": "markdown",
      "metadata": {
        "id": "9sh7PAatNRA6"
      },
      "source": [
        "### Inference:  Max mean rating was recieved in the year of 2014 and the min mean rating was recieved in the year of 2018. But the mean rating ranges between 4.3 and 4.9 over the years."
      ]
    },
    {
      "cell_type": "markdown",
      "metadata": {
        "id": "enoYYTDunPsT"
      },
      "source": [
        "#### Check value counts of 'month' and write your observations. Comment on the frequency of ratings and discuss if the rating count and mean rating is higher/low on certain months."
      ]
    },
    {
      "cell_type": "code",
      "metadata": {
        "id": "T0yhG8s1pTZD",
        "colab": {
          "base_uri": "https://localhost:8080/"
        },
        "outputId": "cb32a573-ad27-460b-8513-5f3bb40491d5"
      },
      "source": [
        "data_raw['month'].value_counts()"
      ],
      "execution_count": 13,
      "outputs": [
        {
          "output_type": "execute_result",
          "data": {
            "text/plain": [
              "12    278\n",
              "2     239\n",
              "3     234\n",
              "1     221\n",
              "4     205\n",
              "11    191\n",
              "5     158\n",
              "9     157\n",
              "7     144\n",
              "10    141\n",
              "6     140\n",
              "8     119\n",
              "Name: month, dtype: int64"
            ]
          },
          "metadata": {
            "tags": []
          },
          "execution_count": 13
        }
      ]
    },
    {
      "cell_type": "markdown",
      "metadata": {
        "id": "m3R-4t8U9rdU"
      },
      "source": [
        "### Inference: 12th month is when maximum ratings and review have been recieved."
      ]
    },
    {
      "cell_type": "code",
      "metadata": {
        "colab": {
          "base_uri": "https://localhost:8080/"
        },
        "id": "889CH5sluq1f",
        "outputId": "43946b6a-4170-4166-8c3f-ee682ee80a22"
      },
      "source": [
        "data_raw.groupby('month')['rating_stars'].value_counts().sort_values(ascending=False)"
      ],
      "execution_count": 14,
      "outputs": [
        {
          "output_type": "execute_result",
          "data": {
            "text/plain": [
              "month  rating_stars\n",
              "12     5               210\n",
              "3      5               194\n",
              "1      5               182\n",
              "2      5               181\n",
              "4      5               157\n",
              "11     5               154\n",
              "7      5               128\n",
              "5      5               124\n",
              "9      5               121\n",
              "6      5               110\n",
              "10     5               103\n",
              "8      5                92\n",
              "12     1                29\n",
              "2      4                23\n",
              "12     4                22\n",
              "2      1                20\n",
              "11     1                18\n",
              "1      4                18\n",
              "4      4                17\n",
              "       1                17\n",
              "9      4                16\n",
              "3      4                16\n",
              "6      4                15\n",
              "10     1                14\n",
              "5      1                13\n",
              "10     4                13\n",
              "8      4                12\n",
              "5      4                12\n",
              "3      1                12\n",
              "12     3                11\n",
              "11     4                10\n",
              "8      1                10\n",
              "9      3                 9\n",
              "2      2                 9\n",
              "3      3                 9\n",
              "4      3                 8\n",
              "1      3                 8\n",
              "       2                 7\n",
              "10     2                 7\n",
              "7      4                 7\n",
              "6      2                 7\n",
              "2      3                 6\n",
              "1      1                 6\n",
              "12     2                 6\n",
              "4      2                 6\n",
              "9      2                 6\n",
              "11     3                 6\n",
              "5      2                 5\n",
              "6      1                 5\n",
              "8      3                 5\n",
              "9      1                 5\n",
              "5      3                 4\n",
              "7      1                 4\n",
              "       3                 4\n",
              "10     3                 4\n",
              "3      2                 3\n",
              "11     2                 3\n",
              "6      3                 3\n",
              "7      2                 1\n",
              "Name: rating_stars, dtype: int64"
            ]
          },
          "metadata": {
            "tags": []
          },
          "execution_count": 14
        }
      ]
    },
    {
      "cell_type": "markdown",
      "metadata": {
        "id": "tJBfQDG196ro"
      },
      "source": [
        "### Inferences:- \n",
        "### 1. Max rating of \"5\" in counts was received in the 12th month which is about 210.\n",
        "### 2. Min rating of \"1\" in counts was recieved in the 12th month only which is about 29."
      ]
    },
    {
      "cell_type": "code",
      "metadata": {
        "colab": {
          "base_uri": "https://localhost:8080/"
        },
        "id": "hFdQPXpu-zEF",
        "outputId": "64b9e02f-4af1-4fac-f5e6-3182b42c136b"
      },
      "source": [
        "data_raw.groupby('month')['rating_stars'].mean().sort_values(ascending=False)"
      ],
      "execution_count": 15,
      "outputs": [
        {
          "output_type": "execute_result",
          "data": {
            "text/plain": [
              "month\n",
              "7    4.7638889\n",
              "1    4.6425339\n",
              "3    4.6111111\n",
              "6    4.5571429\n",
              "9    4.5414013\n",
              "8    4.4789916\n",
              "11   4.4607330\n",
              "5    4.4493671\n",
              "4    4.4195122\n",
              "2    4.4058577\n",
              "12   4.3597122\n",
              "10   4.3049645\n",
              "Name: rating_stars, dtype: float64"
            ]
          },
          "metadata": {
            "tags": []
          },
          "execution_count": 15
        }
      ]
    },
    {
      "cell_type": "markdown",
      "metadata": {
        "id": "Wd9hk72J-17n"
      },
      "source": [
        "### Inference:  Max mean rating was recieved in the 7th month and the min mean rating was recieved in the 10th month. But the mean rating ranges between 4.3 and 4.7 over the months."
      ]
    },
    {
      "cell_type": "markdown",
      "metadata": {
        "id": "lWofLqeJpTtI"
      },
      "source": [
        "### 4.4 Combine text features\n",
        "#### Drop all the numerical features ['Unnamed: 0','date', 'year', 'month', 'day', 'ownership_pariod'] and ['rating_stars']"
      ]
    },
    {
      "cell_type": "code",
      "metadata": {
        "id": "8VAMgNJkqn0h"
      },
      "source": [
        "Numeric_Columns = ['Unnamed: 0','date', 'year', 'month', 'day', 'ownership_pariod']\n",
        "Labels = ['rating_stars']"
      ],
      "execution_count": 16,
      "outputs": []
    },
    {
      "cell_type": "code",
      "metadata": {
        "id": "CZr_sR_Tqs1x",
        "colab": {
          "base_uri": "https://localhost:8080/",
          "height": 195
        },
        "outputId": "bf9f0aa9-ad70-444a-a591-26ba69f4d1b6"
      },
      "source": [
        "to_drop = Numeric_Columns + Labels\n",
        "text_data = data_raw.drop(to_drop, axis=1)\n",
        "text_data.sample(5)"
      ],
      "execution_count": 17,
      "outputs": [
        {
          "output_type": "execute_result",
          "data": {
            "text/html": [
              "<div>\n",
              "<style scoped>\n",
              "    .dataframe tbody tr th:only-of-type {\n",
              "        vertical-align: middle;\n",
              "    }\n",
              "\n",
              "    .dataframe tbody tr th {\n",
              "        vertical-align: top;\n",
              "    }\n",
              "\n",
              "    .dataframe thead th {\n",
              "        text-align: right;\n",
              "    }\n",
              "</style>\n",
              "<table border=\"1\" class=\"dataframe\">\n",
              "  <thead>\n",
              "    <tr style=\"text-align: right;\">\n",
              "      <th></th>\n",
              "      <th>review_title</th>\n",
              "      <th>overall_review</th>\n",
              "      <th>pros</th>\n",
              "      <th>cons</th>\n",
              "    </tr>\n",
              "  </thead>\n",
              "  <tbody>\n",
              "    <tr>\n",
              "      <th>1316</th>\n",
              "      <td>550 mb s read 540 mb s write</td>\n",
              "      <td>NaN</td>\n",
              "      <td>guys samsung will give you reliable products c...</td>\n",
              "      <td>a bit expensive compared to other brands and g...</td>\n",
              "    </tr>\n",
              "    <tr>\n",
              "      <th>667</th>\n",
              "      <td>NaN</td>\n",
              "      <td>NaN</td>\n",
              "      <td>great 500 gigabytes installation was easy</td>\n",
              "      <td>software was useless had to go to download dif...</td>\n",
              "    </tr>\n",
              "    <tr>\n",
              "      <th>1382</th>\n",
              "      <td>good hd replacement</td>\n",
              "      <td>just the thing to give my old laptop new life</td>\n",
              "      <td>faster seek than the original hd</td>\n",
              "      <td>a little more expensive than a standard hd</td>\n",
              "    </tr>\n",
              "    <tr>\n",
              "      <th>1294</th>\n",
              "      <td>i guess i got the lemon</td>\n",
              "      <td>i dont usually write reviews but im annoyed wi...</td>\n",
              "      <td>its not a car</td>\n",
              "      <td>well ive had it since october replacing a mush...</td>\n",
              "    </tr>\n",
              "    <tr>\n",
              "      <th>1641</th>\n",
              "      <td>have not used item yet hope its good</td>\n",
              "      <td>i think it will be a good ssd but hopefully i ...</td>\n",
              "      <td>will be coming shortly</td>\n",
              "      <td>none</td>\n",
              "    </tr>\n",
              "  </tbody>\n",
              "</table>\n",
              "</div>"
            ],
            "text/plain": [
              "                              review_title  \\\n",
              "1316          550 mb s read 540 mb s write   \n",
              "667                                    NaN   \n",
              "1382                   good hd replacement   \n",
              "1294               i guess i got the lemon   \n",
              "1641  have not used item yet hope its good   \n",
              "\n",
              "                                         overall_review  \\\n",
              "1316                                                NaN   \n",
              "667                                                 NaN   \n",
              "1382      just the thing to give my old laptop new life   \n",
              "1294  i dont usually write reviews but im annoyed wi...   \n",
              "1641  i think it will be a good ssd but hopefully i ...   \n",
              "\n",
              "                                                   pros  \\\n",
              "1316  guys samsung will give you reliable products c...   \n",
              "667           great 500 gigabytes installation was easy   \n",
              "1382                   faster seek than the original hd   \n",
              "1294                                      its not a car   \n",
              "1641                             will be coming shortly   \n",
              "\n",
              "                                                   cons  \n",
              "1316  a bit expensive compared to other brands and g...  \n",
              "667   software was useless had to go to download dif...  \n",
              "1382         a little more expensive than a standard hd  \n",
              "1294  well ive had it since october replacing a mush...  \n",
              "1641                                               none  "
            ]
          },
          "metadata": {
            "tags": []
          },
          "execution_count": 17
        }
      ]
    },
    {
      "cell_type": "markdown",
      "metadata": {
        "id": "HjRp0SgEqn9Z"
      },
      "source": [
        "#### Replace null values (NaN) with blanks"
      ]
    },
    {
      "cell_type": "code",
      "metadata": {
        "colab": {
          "base_uri": "https://localhost:8080/"
        },
        "id": "kHdt5ZqQwzXp",
        "outputId": "6f012acf-c9ba-411a-d64e-639617ebc5a8"
      },
      "source": [
        "text_data.isna().sum().sort_values(ascending=False)"
      ],
      "execution_count": 18,
      "outputs": [
        {
          "output_type": "execute_result",
          "data": {
            "text/plain": [
              "overall_review    779\n",
              "review_title       96\n",
              "pros               22\n",
              "cons               11\n",
              "dtype: int64"
            ]
          },
          "metadata": {
            "tags": []
          },
          "execution_count": 18
        }
      ]
    },
    {
      "cell_type": "code",
      "metadata": {
        "id": "12YuP6t8xB8y"
      },
      "source": [
        "text_data.fillna(\" \", inplace = True)"
      ],
      "execution_count": 19,
      "outputs": []
    },
    {
      "cell_type": "markdown",
      "metadata": {
        "id": "ykjSdW1tqs-z"
      },
      "source": [
        "#### Join all text items in a row that have a space in between and Add a new column (with the newly created combined reviews) to the dataframe."
      ]
    },
    {
      "cell_type": "code",
      "metadata": {
        "id": "9fJpSb-ZuSTr",
        "colab": {
          "base_uri": "https://localhost:8080/"
        },
        "outputId": "c6b5cb33-979d-452e-b312-faab9916b472"
      },
      "source": [
        "combined_data = text_data.apply( lambda x: \" \".join(x), axis=1)\n",
        "combined_data.sample(5)"
      ],
      "execution_count": 20,
      "outputs": [
        {
          "output_type": "execute_result",
          "data": {
            "text/plain": [
              "1257    great quality price i own a corsair 3 samsung ...\n",
              "670     huge difference after using ssd as my primary ...\n",
              "868     does the trick would buy again and recommend t...\n",
              "90      great product   very fast ans very sturdy this...\n",
              "594     super fast just what i needed highly recommend...\n",
              "dtype: object"
            ]
          },
          "metadata": {
            "tags": []
          },
          "execution_count": 20
        }
      ]
    },
    {
      "cell_type": "code",
      "metadata": {
        "id": "0VHzRd1gq1lY"
      },
      "source": [
        "data = pd.DataFrame(combined_data, columns=['combined_reviews'])"
      ],
      "execution_count": 21,
      "outputs": []
    },
    {
      "cell_type": "code",
      "metadata": {
        "colab": {
          "base_uri": "https://localhost:8080/",
          "height": 195
        },
        "id": "-1NxspQkyxsV",
        "outputId": "6d7fd608-6732-463a-e729-a235840a3ccd"
      },
      "source": [
        "data['rating_stars'] = data_raw['rating_stars']\n",
        "data.sample(5)"
      ],
      "execution_count": 22,
      "outputs": [
        {
          "output_type": "execute_result",
          "data": {
            "text/html": [
              "<div>\n",
              "<style scoped>\n",
              "    .dataframe tbody tr th:only-of-type {\n",
              "        vertical-align: middle;\n",
              "    }\n",
              "\n",
              "    .dataframe tbody tr th {\n",
              "        vertical-align: top;\n",
              "    }\n",
              "\n",
              "    .dataframe thead th {\n",
              "        text-align: right;\n",
              "    }\n",
              "</style>\n",
              "<table border=\"1\" class=\"dataframe\">\n",
              "  <thead>\n",
              "    <tr style=\"text-align: right;\">\n",
              "      <th></th>\n",
              "      <th>combined_reviews</th>\n",
              "      <th>rating_stars</th>\n",
              "    </tr>\n",
              "  </thead>\n",
              "  <tbody>\n",
              "    <tr>\n",
              "      <th>331</th>\n",
              "      <td>it s a samsung price is a steal what can you r...</td>\n",
              "      <td>5</td>\n",
              "    </tr>\n",
              "    <tr>\n",
              "      <th>348</th>\n",
              "      <td>always quality drives huge fan of the samsung ...</td>\n",
              "      <td>5</td>\n",
              "    </tr>\n",
              "    <tr>\n",
              "      <th>908</th>\n",
              "      <td>easy to install great performance 10 out o...</td>\n",
              "      <td>5</td>\n",
              "    </tr>\n",
              "    <tr>\n",
              "      <th>740</th>\n",
              "      <td>good ssd for great price   cheap and reliable ...</td>\n",
              "      <td>5</td>\n",
              "    </tr>\n",
              "    <tr>\n",
              "      <th>523</th>\n",
              "      <td>great ssd   fast bootup none</td>\n",
              "      <td>5</td>\n",
              "    </tr>\n",
              "  </tbody>\n",
              "</table>\n",
              "</div>"
            ],
            "text/plain": [
              "                                      combined_reviews  rating_stars\n",
              "331  it s a samsung price is a steal what can you r...             5\n",
              "348  always quality drives huge fan of the samsung ...             5\n",
              "908      easy to install great performance 10 out o...             5\n",
              "740  good ssd for great price   cheap and reliable ...             5\n",
              "523                       great ssd   fast bootup none             5"
            ]
          },
          "metadata": {
            "tags": []
          },
          "execution_count": 22
        }
      ]
    },
    {
      "cell_type": "markdown",
      "metadata": {
        "id": "QLnNIq2iJQBn"
      },
      "source": [
        "#### Check if there are any null values and drop NaN values if any"
      ]
    },
    {
      "cell_type": "code",
      "metadata": {
        "id": "QOf3hTpcszKC",
        "colab": {
          "base_uri": "https://localhost:8080/"
        },
        "outputId": "8f13cc90-1d9d-464d-edba-62e3b898521f"
      },
      "source": [
        "data.isna().sum()"
      ],
      "execution_count": 23,
      "outputs": [
        {
          "output_type": "execute_result",
          "data": {
            "text/plain": [
              "combined_reviews    0\n",
              "rating_stars        0\n",
              "dtype: int64"
            ]
          },
          "metadata": {
            "tags": []
          },
          "execution_count": 23
        }
      ]
    },
    {
      "cell_type": "markdown",
      "metadata": {
        "id": "qS5NmyvzHMws"
      },
      "source": [
        "#### Calculate the length of each review and add it to the dataframe"
      ]
    },
    {
      "cell_type": "code",
      "metadata": {
        "id": "TdMWM0jBHNzO",
        "colab": {
          "base_uri": "https://localhost:8080/",
          "height": 195
        },
        "outputId": "0dc44ade-7d96-4368-aa1c-2396d2f039f9"
      },
      "source": [
        "data['word_length'] = data['combined_reviews'].apply(lambda x : len(x.split(\" \" or \"  \")))\n",
        "data.sample(5)"
      ],
      "execution_count": 24,
      "outputs": [
        {
          "output_type": "execute_result",
          "data": {
            "text/html": [
              "<div>\n",
              "<style scoped>\n",
              "    .dataframe tbody tr th:only-of-type {\n",
              "        vertical-align: middle;\n",
              "    }\n",
              "\n",
              "    .dataframe tbody tr th {\n",
              "        vertical-align: top;\n",
              "    }\n",
              "\n",
              "    .dataframe thead th {\n",
              "        text-align: right;\n",
              "    }\n",
              "</style>\n",
              "<table border=\"1\" class=\"dataframe\">\n",
              "  <thead>\n",
              "    <tr style=\"text-align: right;\">\n",
              "      <th></th>\n",
              "      <th>combined_reviews</th>\n",
              "      <th>rating_stars</th>\n",
              "      <th>word_length</th>\n",
              "    </tr>\n",
              "  </thead>\n",
              "  <tbody>\n",
              "    <tr>\n",
              "      <th>110</th>\n",
              "      <td>amzing price a fast drive at a great price no ...</td>\n",
              "      <td>5</td>\n",
              "      <td>43</td>\n",
              "    </tr>\n",
              "    <tr>\n",
              "      <th>736</th>\n",
              "      <td>best decision i have made in a while you can t...</td>\n",
              "      <td>5</td>\n",
              "      <td>251</td>\n",
              "    </tr>\n",
              "    <tr>\n",
              "      <th>2120</th>\n",
              "      <td>very fast i found the software cd to be very g...</td>\n",
              "      <td>5</td>\n",
              "      <td>53</td>\n",
              "    </tr>\n",
              "    <tr>\n",
              "      <th>1747</th>\n",
              "      <td>these complaints should be addressed to sams...</td>\n",
              "      <td>3</td>\n",
              "      <td>121</td>\n",
              "    </tr>\n",
              "    <tr>\n",
              "      <th>1238</th>\n",
              "      <td>junk migration software ssd is worthless when ...</td>\n",
              "      <td>1</td>\n",
              "      <td>35</td>\n",
              "    </tr>\n",
              "  </tbody>\n",
              "</table>\n",
              "</div>"
            ],
            "text/plain": [
              "                                       combined_reviews  rating_stars  \\\n",
              "110   amzing price a fast drive at a great price no ...             5   \n",
              "736   best decision i have made in a while you can t...             5   \n",
              "2120  very fast i found the software cd to be very g...             5   \n",
              "1747    these complaints should be addressed to sams...             3   \n",
              "1238  junk migration software ssd is worthless when ...             1   \n",
              "\n",
              "      word_length  \n",
              "110            43  \n",
              "736           251  \n",
              "2120           53  \n",
              "1747          121  \n",
              "1238           35  "
            ]
          },
          "metadata": {
            "tags": []
          },
          "execution_count": 24
        }
      ]
    },
    {
      "cell_type": "markdown",
      "metadata": {
        "id": "8FyfpsW4uNN-"
      },
      "source": [
        "#### Check summary stats of the length column"
      ]
    },
    {
      "cell_type": "code",
      "metadata": {
        "id": "cMEp309bHPSm",
        "colab": {
          "base_uri": "https://localhost:8080/"
        },
        "outputId": "2d4a086f-8633-46f3-8043-d28317fa504d"
      },
      "source": [
        "data['word_length'].describe()"
      ],
      "execution_count": 25,
      "outputs": [
        {
          "output_type": "execute_result",
          "data": {
            "text/plain": [
              "count   2227.0000000\n",
              "mean      85.2752582\n",
              "std       87.3063671\n",
              "min        6.0000000\n",
              "25%       31.0000000\n",
              "50%       60.0000000\n",
              "75%      109.0000000\n",
              "max     1615.0000000\n",
              "Name: word_length, dtype: float64"
            ]
          },
          "metadata": {
            "tags": []
          },
          "execution_count": 25
        }
      ]
    },
    {
      "cell_type": "markdown",
      "metadata": {
        "id": "JtFWZfZjJSJY"
      },
      "source": [
        "### 4.5 Analyzing and preparing the text data\n"
      ]
    },
    {
      "cell_type": "markdown",
      "metadata": {
        "id": "FL0mW8oPJVyq"
      },
      "source": [
        "#### Set the max length of each review to 25 since it results in faster training (however, you are free to change this)\n",
        "#### Set max_features to 10000 and embedding size to 50"
      ]
    },
    {
      "cell_type": "code",
      "metadata": {
        "id": "T7Ma4u3kSOD3"
      },
      "source": [
        "max_features = 10000\n",
        "maxlen = 25\n",
        "embedding_size = 50"
      ],
      "execution_count": 26,
      "outputs": []
    },
    {
      "cell_type": "markdown",
      "metadata": {
        "id": "qph71mXtJyWM"
      },
      "source": [
        "#### Tokenize the cobined text data. You can use the Tokenizer from tensorflow.keras.preprocessing.text. Check the number of samples post tokenization."
      ]
    },
    {
      "cell_type": "code",
      "metadata": {
        "id": "hvn5Bssu6MoQ"
      },
      "source": [
        "from tensorflow.keras.preprocessing.text import Tokenizer"
      ],
      "execution_count": 27,
      "outputs": []
    },
    {
      "cell_type": "code",
      "metadata": {
        "colab": {
          "base_uri": "https://localhost:8080/"
        },
        "id": "JxmNPJB65RfB",
        "outputId": "2aa7cf6c-6770-44d1-9465-49e9a4d28ded"
      },
      "source": [
        "tokenizer = Tokenizer(num_words=max_features)\n",
        "tokenizer.fit_on_texts(data['combined_reviews'])\n",
        "X = tokenizer.texts_to_sequences(data['combined_reviews'])\n",
        "print(\"No. of Samples: \", len(X))\n",
        "print('-' * 25)\n",
        "print(X[0])"
      ],
      "execution_count": 28,
      "outputs": [
        {
          "output_type": "stream",
          "text": [
            "No. of Samples:  2227\n",
            "-------------------------\n",
            "[232, 93, 6, 19, 54, 22, 829, 10, 248, 162, 16, 830, 550, 145, 7, 264, 126]\n"
          ],
          "name": "stdout"
        }
      ]
    },
    {
      "cell_type": "markdown",
      "metadata": {
        "id": "HXy2gZrkJ0f_"
      },
      "source": [
        "#### Pad the above tokenized reviews data save it as independent features. Use max_len for the same."
      ]
    },
    {
      "cell_type": "code",
      "metadata": {
        "id": "mV-KtcR06OAr"
      },
      "source": [
        "from tensorflow.keras.preprocessing.sequence import pad_sequences"
      ],
      "execution_count": 29,
      "outputs": []
    },
    {
      "cell_type": "code",
      "metadata": {
        "colab": {
          "base_uri": "https://localhost:8080/"
        },
        "id": "LtOE9V0J7t6I",
        "outputId": "ac57cc93-98ec-413a-cfb8-bd8be2658fd0"
      },
      "source": [
        "X = pad_sequences(X, maxlen=maxlen)\n",
        "y = np.asarray(data['rating_stars'])\n",
        "\n",
        "print(\"Number of Labels: \", len(y))\n",
        "print('-' * 25)\n",
        "print(y[0])"
      ],
      "execution_count": 30,
      "outputs": [
        {
          "output_type": "stream",
          "text": [
            "Number of Labels:  2227\n",
            "-------------------------\n",
            "5\n"
          ],
          "name": "stdout"
        }
      ]
    },
    {
      "cell_type": "markdown",
      "metadata": {
        "id": "XVT7dRRUHsgR"
      },
      "source": [
        "#### Check the shape of X (padded tokenized review data) and y (rating_stars) data."
      ]
    },
    {
      "cell_type": "code",
      "metadata": {
        "id": "SXc3DOi9Hz6O",
        "colab": {
          "base_uri": "https://localhost:8080/"
        },
        "outputId": "40177a34-5516-4ace-c0fc-5298f3ffccda"
      },
      "source": [
        "X.shape"
      ],
      "execution_count": 31,
      "outputs": [
        {
          "output_type": "execute_result",
          "data": {
            "text/plain": [
              "(2227, 25)"
            ]
          },
          "metadata": {
            "tags": []
          },
          "execution_count": 31
        }
      ]
    },
    {
      "cell_type": "code",
      "metadata": {
        "id": "oR0W8MdX6V3A",
        "colab": {
          "base_uri": "https://localhost:8080/"
        },
        "outputId": "65944f0f-5d58-4857-e140-8795bb3bdfa0"
      },
      "source": [
        "X[0]"
      ],
      "execution_count": 32,
      "outputs": [
        {
          "output_type": "execute_result",
          "data": {
            "text/plain": [
              "array([  0,   0,   0,   0,   0,   0,   0,   0, 232,  93,   6,  19,  54,\n",
              "        22, 829,  10, 248, 162,  16, 830, 550, 145,   7, 264, 126],\n",
              "      dtype=int32)"
            ]
          },
          "metadata": {
            "tags": []
          },
          "execution_count": 32
        }
      ]
    },
    {
      "cell_type": "markdown",
      "metadata": {
        "id": "A5GlWwKnJ7ie"
      },
      "source": [
        "#### Check the total number of words in the dictionary (of tekenizer)"
      ]
    },
    {
      "cell_type": "code",
      "metadata": {
        "colab": {
          "base_uri": "https://localhost:8080/"
        },
        "id": "b6UKjaLL9wvu",
        "outputId": "5683aec4-852d-4091-a1b7-31e79f62c345"
      },
      "source": [
        "num_words = len(tokenizer.word_index) + 1\n",
        "print(\" Total no. of words in tokenizer: \", num_words)"
      ],
      "execution_count": 33,
      "outputs": [
        {
          "output_type": "stream",
          "text": [
            " Total no. of words in tokenizer:  8839\n"
          ],
          "name": "stdout"
        }
      ]
    },
    {
      "cell_type": "markdown",
      "metadata": {
        "id": "RKa3eYLDJ_yO"
      },
      "source": [
        "### 4.6 Compute the glove embeddings. Use the provided txt file for the same."
      ]
    },
    {
      "cell_type": "markdown",
      "metadata": {
        "id": "WNwPD9EmIbMt"
      },
      "source": [
        "#### Read the glove embeddings from the file provided titled ‘glove.6B.50d.txt’. And save it to a dictotionary having word and corresponding embedding vector."
      ]
    },
    {
      "cell_type": "code",
      "metadata": {
        "id": "bNd9ZFjuIp3g"
      },
      "source": [
        "embeddings = {}\n",
        "for g in open('glove.6B.50d.txt'):\n",
        "  word = g.split(\" \")[0]\n",
        "  embd = g.split(\" \")[1:]\n",
        "  embd = np.asarray(embd, dtype=np.float32)\n",
        "  embeddings[word] = embd"
      ],
      "execution_count": 34,
      "outputs": []
    },
    {
      "cell_type": "markdown",
      "metadata": {
        "id": "-DdpiQZ9_Fiq"
      },
      "source": [
        "#### Check length of the embedding"
      ]
    },
    {
      "cell_type": "code",
      "metadata": {
        "id": "8bcs-LtYILlO",
        "colab": {
          "base_uri": "https://localhost:8080/"
        },
        "outputId": "9438cdf3-c73d-49f8-eb95-2b5866ae4845"
      },
      "source": [
        "print(\"Length of embeddings: \", len(embeddings.values()))"
      ],
      "execution_count": 35,
      "outputs": [
        {
          "output_type": "stream",
          "text": [
            "Length of embeddings:  400000\n"
          ],
          "name": "stdout"
        }
      ]
    },
    {
      "cell_type": "markdown",
      "metadata": {
        "id": "EuolWkfmIqCJ"
      },
      "source": [
        "#### Create a weight matrix for words in the training docs"
      ]
    },
    {
      "cell_type": "code",
      "metadata": {
        "id": "BGHZ0nIaI0Ar"
      },
      "source": [
        "embedding_matrix = np.zeros((num_words, 50))\n",
        "for word, i in tokenizer.word_index.items():\n",
        "  embedding_vector = embeddings.get(word)\n",
        "  if embedding_vector is not None:\n",
        "    embedding_matrix[i] = embedding_vector"
      ],
      "execution_count": 36,
      "outputs": []
    },
    {
      "cell_type": "code",
      "metadata": {
        "colab": {
          "base_uri": "https://localhost:8080/"
        },
        "id": "ONHkLgSyC5N5",
        "outputId": "64d58e93-235d-4206-f109-efe5e542336c"
      },
      "source": [
        "embedding_matrix.shape"
      ],
      "execution_count": 37,
      "outputs": [
        {
          "output_type": "execute_result",
          "data": {
            "text/plain": [
              "(8839, 50)"
            ]
          },
          "metadata": {
            "tags": []
          },
          "execution_count": 37
        }
      ]
    },
    {
      "cell_type": "code",
      "metadata": {
        "colab": {
          "base_uri": "https://localhost:8080/"
        },
        "id": "SbX0A9QuDDu2",
        "outputId": "b2635a31-0f9d-4fa6-9251-9640f00a90f8"
      },
      "source": [
        "embedding_matrix[5]"
      ],
      "execution_count": 38,
      "outputs": [
        {
          "output_type": "execute_result",
          "data": {
            "text/plain": [
              "array([ 0.21705   ,  0.46515   , -0.46757001,  0.10082   ,  1.01349998,\n",
              "        0.74844998, -0.53104001, -0.26256001,  0.16812   ,  0.13181999,\n",
              "       -0.24909   , -0.44185001, -0.21739   ,  0.51003999,  0.13448   ,\n",
              "       -0.43141001, -0.03123   ,  0.20674001, -0.78138   , -0.20148   ,\n",
              "       -0.097401  ,  0.16088   , -0.61835998, -0.18504   , -0.12461   ,\n",
              "       -2.25259995, -0.22321001,  0.5043    ,  0.32257   ,  0.15312999,\n",
              "        3.96359992, -0.71364999, -0.67012   ,  0.28388   ,  0.21738   ,\n",
              "        0.14432999,  0.25926   ,  0.23434   ,  0.42739999, -0.44451001,\n",
              "        0.13812999,  0.36973   , -0.64288998,  0.024142  , -0.039315  ,\n",
              "       -0.26036999,  0.12017   , -0.043782  ,  0.41012999,  0.1796    ])"
            ]
          },
          "metadata": {
            "tags": []
          },
          "execution_count": 38
        }
      ]
    },
    {
      "cell_type": "markdown",
      "metadata": {
        "id": "xVPf3X5MKGpm"
      },
      "source": [
        "### 4.7 Target Feature:- One hot encode the target variable (rating_stars)"
      ]
    },
    {
      "cell_type": "code",
      "metadata": {
        "id": "7PVDBmkjJC4n",
        "colab": {
          "base_uri": "https://localhost:8080/"
        },
        "outputId": "97ef68ce-1afa-49d0-f5a6-09bc621f7ad0"
      },
      "source": [
        "from sklearn.preprocessing import OneHotEncoder\n",
        "enc = OneHotEncoder()\n",
        "y_encoded = enc.fit_transform(y.reshape(-1,1))\n",
        "print(y_encoded[0])"
      ],
      "execution_count": 39,
      "outputs": [
        {
          "output_type": "stream",
          "text": [
            "  (0, 4)\t1.0\n"
          ],
          "name": "stdout"
        }
      ]
    },
    {
      "cell_type": "code",
      "metadata": {
        "colab": {
          "base_uri": "https://localhost:8080/"
        },
        "id": "coKjFkyrI47I",
        "outputId": "7c9bc315-12e1-4ee0-9f4d-6de4b18dded8"
      },
      "source": [
        "y_encoded = y_encoded.todense()\n",
        "y_encoded"
      ],
      "execution_count": 40,
      "outputs": [
        {
          "output_type": "execute_result",
          "data": {
            "text/plain": [
              "matrix([[0., 0., 0., 0., 1.],\n",
              "        [0., 0., 0., 0., 1.],\n",
              "        [0., 0., 0., 0., 1.],\n",
              "        ...,\n",
              "        [0., 0., 0., 0., 1.],\n",
              "        [0., 0., 0., 0., 1.],\n",
              "        [0., 0., 0., 0., 1.]])"
            ]
          },
          "metadata": {
            "tags": []
          },
          "execution_count": 40
        }
      ]
    },
    {
      "cell_type": "markdown",
      "metadata": {
        "id": "5dqPXETLKN0h"
      },
      "source": [
        "### 4.8 Split the data into Train & Test sets"
      ]
    },
    {
      "cell_type": "code",
      "metadata": {
        "id": "FFJ1oEUmJEEW"
      },
      "source": [
        "from sklearn.model_selection import train_test_split\n",
        "X_train, X_test, y_train, y_test = train_test_split(X, y_encoded, shuffle = True, random_state = 10, test_size = 0.3, stratify = y_encoded)"
      ],
      "execution_count": 41,
      "outputs": []
    },
    {
      "cell_type": "code",
      "metadata": {
        "colab": {
          "base_uri": "https://localhost:8080/"
        },
        "id": "pDVJffZNJ2GP",
        "outputId": "3b3188cc-03e6-46b1-a8bf-25b1894351af"
      },
      "source": [
        "print(\"Shape of Training Data: \", X_train.shape)\n",
        "print('-' * 30)\n",
        "print(\"Shape of Testing Data: \", X_test.shape)"
      ],
      "execution_count": 42,
      "outputs": [
        {
          "output_type": "stream",
          "text": [
            "Shape of Training Data:  (1558, 25)\n",
            "------------------------------\n",
            "Shape of Testing Data:  (669, 25)\n"
          ],
          "name": "stdout"
        }
      ]
    },
    {
      "cell_type": "markdown",
      "metadata": {
        "id": "rhD1a-beKvE7"
      },
      "source": [
        "## 5. Model building"
      ]
    },
    {
      "cell_type": "markdown",
      "metadata": {
        "id": "bRmxklYnKvxk"
      },
      "source": [
        "### 5.1 Construct a neural network architecture using embedding and LSTM layers for building the rating prediction model.\n",
        "- Use the num_words, embedding_size from the above tokenizer and embeddings respectively\n",
        "- Use weights from the above embedding matrix\n",
        "- Use input length as the maxlen\n",
        "- Add LSTM layers"
      ]
    },
    {
      "cell_type": "code",
      "metadata": {
        "id": "gSGsebsiNA78"
      },
      "source": [
        "#Importing the libraries for model building\n",
        "from tensorflow.keras.models import Sequential\n",
        "from tensorflow.keras.layers import Embedding, LSTM, Dense, Dropout, Flatten\n",
        "from tensorflow.keras.backend import clear_session"
      ],
      "execution_count": 43,
      "outputs": []
    },
    {
      "cell_type": "code",
      "metadata": {
        "id": "r4Lvn4VDMC0G"
      },
      "source": [
        "# Base Model Architechture\n",
        "clear_session()\n",
        "model = Sequential()\n",
        "model.add(Embedding(num_words, embedding_size, weights = [embedding_matrix], input_length = maxlen))\n",
        "model.add(LSTM(128, return_sequences = True))\n",
        "model.add(Flatten())\n",
        "model.add(Dense(512, activation = 'relu'))\n",
        "model.add(Dense(256, activation = 'relu'))\n",
        "model.add(Dense(128, activation = 'relu'))\n",
        "model.add(Dense(64, activation = 'relu'))\n",
        "model.add(Dropout(0.3))\n",
        "model.add(Dense(5, activation = 'softmax'))"
      ],
      "execution_count": 44,
      "outputs": []
    },
    {
      "cell_type": "markdown",
      "metadata": {
        "id": "iN0P-a6X_jAb"
      },
      "source": [
        "### 5.2 Compile the model using appropriate loss, optimizer, and accuracy metric"
      ]
    },
    {
      "cell_type": "code",
      "metadata": {
        "id": "8Kyk9kPxNCMb"
      },
      "source": [
        "model.compile(loss = \"categorical_crossentropy\", optimizer = 'adam', metrics = ['accuracy'])"
      ],
      "execution_count": 45,
      "outputs": []
    },
    {
      "cell_type": "markdown",
      "metadata": {
        "id": "Eo_hUycElalV"
      },
      "source": [
        ""
      ]
    },
    {
      "cell_type": "code",
      "metadata": {
        "colab": {
          "base_uri": "https://localhost:8080/"
        },
        "id": "iFxh4mA1PPA3",
        "outputId": "9d4192a9-31b4-45ab-921a-e04560a60add"
      },
      "source": [
        "model.summary()"
      ],
      "execution_count": 46,
      "outputs": [
        {
          "output_type": "stream",
          "text": [
            "Model: \"sequential\"\n",
            "_________________________________________________________________\n",
            "Layer (type)                 Output Shape              Param #   \n",
            "=================================================================\n",
            "embedding (Embedding)        (None, 25, 50)            441950    \n",
            "_________________________________________________________________\n",
            "lstm (LSTM)                  (None, 25, 128)           91648     \n",
            "_________________________________________________________________\n",
            "flatten (Flatten)            (None, 3200)              0         \n",
            "_________________________________________________________________\n",
            "dense (Dense)                (None, 512)               1638912   \n",
            "_________________________________________________________________\n",
            "dense_1 (Dense)              (None, 256)               131328    \n",
            "_________________________________________________________________\n",
            "dense_2 (Dense)              (None, 128)               32896     \n",
            "_________________________________________________________________\n",
            "dense_3 (Dense)              (None, 64)                8256      \n",
            "_________________________________________________________________\n",
            "dropout (Dropout)            (None, 64)                0         \n",
            "_________________________________________________________________\n",
            "dense_4 (Dense)              (None, 5)                 325       \n",
            "=================================================================\n",
            "Total params: 2,345,315\n",
            "Trainable params: 2,345,315\n",
            "Non-trainable params: 0\n",
            "_________________________________________________________________\n"
          ],
          "name": "stdout"
        }
      ]
    },
    {
      "cell_type": "markdown",
      "metadata": {
        "id": "tIODqXJK_qrQ"
      },
      "source": [
        "### 5.3 Fit the model"
      ]
    },
    {
      "cell_type": "code",
      "metadata": {
        "id": "s44i84ouQFX5"
      },
      "source": [
        "batch_size = 128\n",
        "epochs = 30"
      ],
      "execution_count": 47,
      "outputs": []
    },
    {
      "cell_type": "code",
      "metadata": {
        "id": "fEX-_bd2NDPW",
        "colab": {
          "base_uri": "https://localhost:8080/"
        },
        "outputId": "4f29ff47-9d14-4e6c-d375-bd126c3682c6"
      },
      "source": [
        "history = model.fit(X_train, y_train, batch_size = batch_size, epochs = epochs, validation_data=(X_test, y_test))"
      ],
      "execution_count": 48,
      "outputs": [
        {
          "output_type": "stream",
          "text": [
            "Epoch 1/30\n",
            "13/13 [==============================] - 5s 190ms/step - loss: 1.0446 - accuracy: 0.7375 - val_loss: 0.7925 - val_accuracy: 0.7892\n",
            "Epoch 2/30\n",
            "13/13 [==============================] - 2s 141ms/step - loss: 0.7909 - accuracy: 0.7882 - val_loss: 0.6869 - val_accuracy: 0.7892\n",
            "Epoch 3/30\n",
            "13/13 [==============================] - 2s 144ms/step - loss: 0.7282 - accuracy: 0.7882 - val_loss: 0.6960 - val_accuracy: 0.7892\n",
            "Epoch 4/30\n",
            "13/13 [==============================] - 2s 139ms/step - loss: 0.6831 - accuracy: 0.7882 - val_loss: 0.6552 - val_accuracy: 0.7892\n",
            "Epoch 5/30\n",
            "13/13 [==============================] - 2s 141ms/step - loss: 0.6177 - accuracy: 0.7914 - val_loss: 0.6702 - val_accuracy: 0.7788\n",
            "Epoch 6/30\n",
            "13/13 [==============================] - 2s 141ms/step - loss: 0.5886 - accuracy: 0.7985 - val_loss: 0.6459 - val_accuracy: 0.7877\n",
            "Epoch 7/30\n",
            "13/13 [==============================] - 2s 142ms/step - loss: 0.5147 - accuracy: 0.8087 - val_loss: 0.6685 - val_accuracy: 0.7848\n",
            "Epoch 8/30\n",
            "13/13 [==============================] - 2s 140ms/step - loss: 0.4415 - accuracy: 0.8350 - val_loss: 0.7508 - val_accuracy: 0.7877\n",
            "Epoch 9/30\n",
            "13/13 [==============================] - 2s 141ms/step - loss: 0.3839 - accuracy: 0.8582 - val_loss: 0.7359 - val_accuracy: 0.7549\n",
            "Epoch 10/30\n",
            "13/13 [==============================] - 2s 139ms/step - loss: 0.2687 - accuracy: 0.9050 - val_loss: 0.8316 - val_accuracy: 0.7549\n",
            "Epoch 11/30\n",
            "13/13 [==============================] - 2s 142ms/step - loss: 0.1998 - accuracy: 0.9332 - val_loss: 1.0334 - val_accuracy: 0.7653\n",
            "Epoch 12/30\n",
            "13/13 [==============================] - 2s 140ms/step - loss: 0.1150 - accuracy: 0.9660 - val_loss: 1.3619 - val_accuracy: 0.7728\n",
            "Epoch 13/30\n",
            "13/13 [==============================] - 2s 139ms/step - loss: 0.0569 - accuracy: 0.9859 - val_loss: 1.4399 - val_accuracy: 0.7743\n",
            "Epoch 14/30\n",
            "13/13 [==============================] - 2s 142ms/step - loss: 0.0364 - accuracy: 0.9904 - val_loss: 1.6866 - val_accuracy: 0.7743\n",
            "Epoch 15/30\n",
            "13/13 [==============================] - 2s 138ms/step - loss: 0.0405 - accuracy: 0.9872 - val_loss: 1.6273 - val_accuracy: 0.7728\n",
            "Epoch 16/30\n",
            "13/13 [==============================] - 2s 137ms/step - loss: 0.0813 - accuracy: 0.9730 - val_loss: 1.5069 - val_accuracy: 0.7489\n",
            "Epoch 17/30\n",
            "13/13 [==============================] - 2s 141ms/step - loss: 0.0415 - accuracy: 0.9878 - val_loss: 1.4831 - val_accuracy: 0.7354\n",
            "Epoch 18/30\n",
            "13/13 [==============================] - 2s 138ms/step - loss: 0.0187 - accuracy: 0.9974 - val_loss: 1.5696 - val_accuracy: 0.7698\n",
            "Epoch 19/30\n",
            "13/13 [==============================] - 2s 142ms/step - loss: 0.0086 - accuracy: 0.9987 - val_loss: 1.7556 - val_accuracy: 0.7728\n",
            "Epoch 20/30\n",
            "13/13 [==============================] - 2s 138ms/step - loss: 0.0072 - accuracy: 0.9981 - val_loss: 1.7823 - val_accuracy: 0.7683\n",
            "Epoch 21/30\n",
            "13/13 [==============================] - 2s 137ms/step - loss: 0.0038 - accuracy: 0.9987 - val_loss: 1.9225 - val_accuracy: 0.7862\n",
            "Epoch 22/30\n",
            "13/13 [==============================] - 2s 138ms/step - loss: 0.0025 - accuracy: 0.9994 - val_loss: 1.7963 - val_accuracy: 0.7608\n",
            "Epoch 23/30\n",
            "13/13 [==============================] - 2s 139ms/step - loss: 0.0050 - accuracy: 0.9981 - val_loss: 2.0682 - val_accuracy: 0.7803\n",
            "Epoch 24/30\n",
            "13/13 [==============================] - 2s 140ms/step - loss: 0.0058 - accuracy: 0.9987 - val_loss: 2.0074 - val_accuracy: 0.7773\n",
            "Epoch 25/30\n",
            "13/13 [==============================] - 2s 141ms/step - loss: 0.0021 - accuracy: 1.0000 - val_loss: 2.0298 - val_accuracy: 0.7803\n",
            "Epoch 26/30\n",
            "13/13 [==============================] - 2s 140ms/step - loss: 0.0012 - accuracy: 1.0000 - val_loss: 2.0839 - val_accuracy: 0.7877\n",
            "Epoch 27/30\n",
            "13/13 [==============================] - 2s 139ms/step - loss: 7.3231e-04 - accuracy: 1.0000 - val_loss: 2.0557 - val_accuracy: 0.7788\n",
            "Epoch 28/30\n",
            "13/13 [==============================] - 2s 138ms/step - loss: 4.1353e-04 - accuracy: 1.0000 - val_loss: 2.0749 - val_accuracy: 0.7713\n",
            "Epoch 29/30\n",
            "13/13 [==============================] - 2s 138ms/step - loss: 4.0367e-04 - accuracy: 1.0000 - val_loss: 2.1208 - val_accuracy: 0.7728\n",
            "Epoch 30/30\n",
            "13/13 [==============================] - 2s 137ms/step - loss: 4.4781e-04 - accuracy: 1.0000 - val_loss: 2.1550 - val_accuracy: 0.7743\n"
          ],
          "name": "stdout"
        }
      ]
    },
    {
      "cell_type": "code",
      "metadata": {
        "id": "erNFghTpNK-j",
        "colab": {
          "base_uri": "https://localhost:8080/"
        },
        "outputId": "848e88c4-5ac1-471d-a497-f92bbee364c0"
      },
      "source": [
        "# Final evaluation of the model\n",
        "loss, acc = model.evaluate(X_train, y_train, verbose=0)\n",
        "print('Train Accuracy: %.3f%%' % (acc*100))\n",
        "print('Train Loss: %.3f'% loss)\n",
        "print()\n",
        "\n",
        "loss, acc = model.evaluate(X_test, y_test, verbose=0)\n",
        "print('Test Accuracy: %.3f%%' % (acc*100))\n",
        "print('Test Loss: %.3f'% loss)"
      ],
      "execution_count": 49,
      "outputs": [
        {
          "output_type": "stream",
          "text": [
            "Train Accuracy: 100.000%\n",
            "Train Loss: 0.000\n",
            "\n",
            "Test Accuracy: 77.429%\n",
            "Test Loss: 2.155\n"
          ],
          "name": "stdout"
        }
      ]
    },
    {
      "cell_type": "markdown",
      "metadata": {
        "id": "1iakHzMFNDsz"
      },
      "source": [
        "### 5.4 Predict ratings for test data and check accuracy and confusion matrix"
      ]
    },
    {
      "cell_type": "code",
      "metadata": {
        "id": "glNaXRZqNLBN",
        "colab": {
          "base_uri": "https://localhost:8080/"
        },
        "outputId": "3b9e801c-dbb2-44eb-c385-c3e54e89708d"
      },
      "source": [
        "# Predicting for all of test dataset \n",
        "predictions = model.predict(X_test)\n",
        "predictions[0]"
      ],
      "execution_count": 50,
      "outputs": [
        {
          "output_type": "execute_result",
          "data": {
            "text/plain": [
              "array([8.5867661e-08, 3.7210228e-08, 9.9070689e-08, 1.7268945e-05,\n",
              "       9.9998248e-01], dtype=float32)"
            ]
          },
          "metadata": {
            "tags": []
          },
          "execution_count": 50
        }
      ]
    },
    {
      "cell_type": "code",
      "metadata": {
        "colab": {
          "base_uri": "https://localhost:8080/"
        },
        "id": "lDAPSP0yR3Bl",
        "outputId": "b7e21665-4536-4721-a171-d241bf24ba1f"
      },
      "source": [
        "# Inversing the encoded test labels\n",
        "y_test_inv = enc.inverse_transform(y_test)\n",
        "y_test_inv[0]"
      ],
      "execution_count": 51,
      "outputs": [
        {
          "output_type": "execute_result",
          "data": {
            "text/plain": [
              "array([5])"
            ]
          },
          "metadata": {
            "tags": []
          },
          "execution_count": 51
        }
      ]
    },
    {
      "cell_type": "code",
      "metadata": {
        "colab": {
          "base_uri": "https://localhost:8080/"
        },
        "id": "MI4IF8nNSX4t",
        "outputId": "f283da7b-0d2a-4080-fc16-9fdb0c30c84f"
      },
      "source": [
        "# Inversing the predicted test labels\n",
        "y_pred_inv = enc.inverse_transform(np.around(predictions))\n",
        "y_pred_inv[0]"
      ],
      "execution_count": 52,
      "outputs": [
        {
          "output_type": "execute_result",
          "data": {
            "text/plain": [
              "array([5])"
            ]
          },
          "metadata": {
            "tags": []
          },
          "execution_count": 52
        }
      ]
    },
    {
      "cell_type": "code",
      "metadata": {
        "id": "BjmX1JE4VT3U"
      },
      "source": [
        "from sklearn.metrics import accuracy_score,confusion_matrix,classification_report, f1_score"
      ],
      "execution_count": 53,
      "outputs": []
    },
    {
      "cell_type": "code",
      "metadata": {
        "colab": {
          "base_uri": "https://localhost:8080/",
          "height": 869
        },
        "id": "7NlZL7cHVABl",
        "outputId": "a4f9e7b9-5918-4779-c7e8-139923a2b8e5"
      },
      "source": [
        "# Confusion Matrix\n",
        "\n",
        "cm = confusion_matrix(y_test_inv,y_pred_inv)\n",
        "plt.figure(figsize=(15,15))\n",
        "sns.heatmap(cm, annot = True, fmt = '.3f', linewidths = .5, square = True, cmap=\"YlGnBu\")\n",
        "plt.ylabel('Actual Label')\n",
        "plt.xlabel('Predicted Label')\n",
        "all_sample_title = 'Accuracy Score for CNN: {0}'.format(accuracy_score(y_test_inv,y_pred_inv))\n",
        "plt.title(all_sample_title, size = 20)"
      ],
      "execution_count": 54,
      "outputs": [
        {
          "output_type": "execute_result",
          "data": {
            "text/plain": [
              "Text(0.5, 1.0, 'Accuracy Score for CNN: 0.772795216741405')"
            ]
          },
          "metadata": {
            "tags": []
          },
          "execution_count": 54
        },
        {
          "output_type": "display_data",
          "data": {
            "image/png": "[encoded data removed]",
            "text/plain": [
              "<Figure size 1080x1080 with 2 Axes>"
            ]
          },
          "metadata": {
            "tags": [],
            "needs_background": "light"
          }
        }
      ]
    },
    {
      "cell_type": "markdown",
      "metadata": {
        "id": "UETSdLcLM9H9"
      },
      "source": [
        "### Inference: Model is predicting the majority rating well."
      ]
    },
    {
      "cell_type": "code",
      "metadata": {
        "colab": {
          "base_uri": "https://localhost:8080/"
        },
        "id": "wXeNM16YV09l",
        "outputId": "488405c3-fb40-4929-eacf-ffe1be304fe6"
      },
      "source": [
        "# Classification Report\n",
        "print(classification_report(y_test_inv, y_pred_inv, labels=[1, 2, 3, 4, 5]))"
      ],
      "execution_count": 55,
      "outputs": [
        {
          "output_type": "stream",
          "text": [
            "              precision    recall  f1-score   support\n",
            "\n",
            "           1       0.39      0.35      0.37        46\n",
            "           2       0.50      0.11      0.18        18\n",
            "           3       0.33      0.26      0.29        23\n",
            "           4       0.26      0.20      0.23        54\n",
            "           5       0.86      0.91      0.88       528\n",
            "\n",
            "    accuracy                           0.77       669\n",
            "   macro avg       0.47      0.37      0.39       669\n",
            "weighted avg       0.75      0.77      0.76       669\n",
            "\n"
          ],
          "name": "stdout"
        }
      ]
    },
    {
      "cell_type": "markdown",
      "metadata": {
        "id": "wbazk4A9NLmd"
      },
      "source": [
        "### Inference:- Macro F1 Score is very low hence the overall performance of model is not good."
      ]
    },
    {
      "cell_type": "markdown",
      "metadata": {
        "id": "lHyQA-RsNOXT"
      },
      "source": [
        "### 5.5 Display plot of training and validation loss/accuracy wrt to epochs"
      ]
    },
    {
      "cell_type": "code",
      "metadata": {
        "id": "gC7Lb0eSNawO",
        "colab": {
          "base_uri": "https://localhost:8080/",
          "height": 573
        },
        "outputId": "15f36a53-8bd4-490c-9011-2322933ea66a"
      },
      "source": [
        "# Plotting the accuracy history\n",
        "\n",
        "def plot_accuracy(history):\n",
        "  plt.figure()\n",
        "  plt.title(\"Accuracy Plot\")\n",
        "  plt.xlabel('Epoch ==>')\n",
        "  plt.ylabel('Accuracy (%) ==>')\n",
        "  plt.plot(history.epoch, np.array(history.history['accuracy']),\n",
        "           label='Train Accuracy')\n",
        "  plt.plot(history.epoch, np.array(history.history['val_accuracy']),\n",
        "           label = 'Val. Accuracy')\n",
        "  plt.legend()\n",
        "  plt.ylim([0.5, 1])\n",
        "\n",
        "# Plotting the loss history\n",
        "\n",
        "def plot_loss(history):\n",
        "  plt.figure()\n",
        "  plt.title(\"Loss Plot\")\n",
        "  plt.xlabel('Epoch ==>')\n",
        "  plt.ylabel('Loss ==>')\n",
        "  plt.plot(history.epoch, np.array(history.history['loss']),\n",
        "           label='Train /loss')\n",
        "  plt.plot(history.epoch, np.array(history.history['val_loss']),\n",
        "           label = 'Val. Loss')\n",
        "  plt.legend()\n",
        "\n",
        "plot_accuracy(history)\n",
        "plot_loss(history)"
      ],
      "execution_count": 56,
      "outputs": [
        {
          "output_type": "display_data",
          "data": {
            "image/png": "[encoded data removed]",
            "text/plain": [
              "<Figure size 432x288 with 1 Axes>"
            ]
          },
          "metadata": {
            "tags": [],
            "needs_background": "light"
          }
        },
        {
          "output_type": "display_data",
          "data": {
            "image/png": "[encoded data removed]",
            "text/plain": [
              "<Figure size 432x288 with 1 Axes>"
            ]
          },
          "metadata": {
            "tags": [],
            "needs_background": "light"
          }
        }
      ]
    },
    {
      "cell_type": "markdown",
      "metadata": {
        "id": "ncJYyzx5MpBz"
      },
      "source": [
        "### Inference:- Training accuracy shoots up after 4 epochs and reaches 100% in 15 epochs whereas the validation loss starts shooting up after 6 epochs."
      ]
    },
    {
      "cell_type": "code",
      "metadata": {
        "colab": {
          "base_uri": "https://localhost:8080/"
        },
        "id": "razIvPvK4Ooa",
        "outputId": "9666cd94-5807-4c8e-ad98-7bc54f6c41af"
      },
      "source": [
        "#Creating DataFrame for storing the accuracies of all different models\n",
        "col_names = ['Model', 'Accuracy', 'F1_Score']\n",
        "resultsdf = pd.DataFrame(columns = col_names)\n",
        "print(resultsdf)"
      ],
      "execution_count": 57,
      "outputs": [
        {
          "output_type": "stream",
          "text": [
            "Empty DataFrame\n",
            "Columns: [Model, Accuracy, F1_Score]\n",
            "Index: []\n"
          ],
          "name": "stdout"
        }
      ]
    },
    {
      "cell_type": "code",
      "metadata": {
        "colab": {
          "base_uri": "https://localhost:8080/",
          "height": 77
        },
        "id": "PRGrPgcp703-",
        "outputId": "f59e90f6-1bea-4d23-cbf8-a8f0783aee06"
      },
      "source": [
        "# Adding Final accuracy value to Results DataFrame\n",
        "tempResultsDf = pd.DataFrame({'Model':['Base Model'],'Accuracy': (accuracy_score(y_test_inv, y_pred_inv)), 'F1_Score':(f1_score(y_test_inv, y_pred_inv,average = 'macro'))},index={'1'})\n",
        "resultsdf = pd.concat([resultsdf, tempResultsDf])\n",
        "resultsdf"
      ],
      "execution_count": 58,
      "outputs": [
        {
          "output_type": "execute_result",
          "data": {
            "text/html": [
              "<div>\n",
              "<style scoped>\n",
              "    .dataframe tbody tr th:only-of-type {\n",
              "        vertical-align: middle;\n",
              "    }\n",
              "\n",
              "    .dataframe tbody tr th {\n",
              "        vertical-align: top;\n",
              "    }\n",
              "\n",
              "    .dataframe thead th {\n",
              "        text-align: right;\n",
              "    }\n",
              "</style>\n",
              "<table border=\"1\" class=\"dataframe\">\n",
              "  <thead>\n",
              "    <tr style=\"text-align: right;\">\n",
              "      <th></th>\n",
              "      <th>Model</th>\n",
              "      <th>Accuracy</th>\n",
              "      <th>F1_Score</th>\n",
              "    </tr>\n",
              "  </thead>\n",
              "  <tbody>\n",
              "    <tr>\n",
              "      <th>1</th>\n",
              "      <td>Base Model</td>\n",
              "      <td>0.7727952</td>\n",
              "      <td>0.3905429</td>\n",
              "    </tr>\n",
              "  </tbody>\n",
              "</table>\n",
              "</div>"
            ],
            "text/plain": [
              "        Model  Accuracy  F1_Score\n",
              "1  Base Model 0.7727952 0.3905429"
            ]
          },
          "metadata": {
            "tags": []
          },
          "execution_count": 58
        }
      ]
    },
    {
      "cell_type": "markdown",
      "metadata": {
        "id": "BnVjbDf3UlMe"
      },
      "source": [
        "### Inference:- Base model accuracy wise is not bad but since this is a multiclass classification with class imbalance macro f1 score would be a good predictor of performance. Macro F1 Score of base model is not up to the mark."
      ]
    },
    {
      "cell_type": "markdown",
      "metadata": {
        "id": "Ey7an7ukLxWB"
      },
      "source": [
        "## 6. Conclusion and Interpretation"
      ]
    },
    {
      "cell_type": "markdown",
      "metadata": {
        "id": "SVFeHKnjLT-S"
      },
      "source": [
        "### Inferences:- \n",
        "### 1.Model is overfitting and the dataset imbalance is being learnt by the model due to which the f1 score of rating \"5\" is higher compared to other ratings.\n",
        "### 2. This can be tackled by under sampling the majority rating or adding more data.\n",
        "### 3. Also k-fold cross validation can help to some extent.\n",
        "### 4. And finally hyperparameter tunning the model would help resolve this."
      ]
    },
    {
      "cell_type": "markdown",
      "metadata": {
        "id": "9nwOCcvqxVCH"
      },
      "source": [
        "## 7. Food for thought:\n",
        "\n",
        "1.) Change activation function (try leaky_relu or tanh) and see if it helps in improving model performance with the dataset that is highly imbalanced\n",
        "\n",
        "2.) Try with only the overall review feature and see if it leads to improvement in model performace\n",
        "\n",
        "3.) Change the hyperparameters of the model and compare the results "
      ]
    },
    {
      "cell_type": "markdown",
      "metadata": {
        "id": "J9hnxc-3ieK-"
      },
      "source": [
        "# 1a.Activation Function \"LeakyReLU\""
      ]
    },
    {
      "cell_type": "code",
      "metadata": {
        "id": "9tjUi1PMflWj"
      },
      "source": [
        "from tensorflow.keras.layers import LeakyReLU\n",
        "Leaky_Relu = LeakyReLU()"
      ],
      "execution_count": 59,
      "outputs": []
    },
    {
      "cell_type": "code",
      "metadata": {
        "id": "VCylm4X8Nfik"
      },
      "source": [
        "# Model Architecture with Leaky_ReLu\n",
        "clear_session()\n",
        "model_lr = Sequential()\n",
        "model_lr.add(Embedding(num_words, embedding_size, weights = [embedding_matrix], input_length = maxlen))\n",
        "model_lr.add(LSTM(128, return_sequences = True))\n",
        "model_lr.add(Flatten())\n",
        "model_lr.add(Dense(512, activation = Leaky_Relu))\n",
        "model_lr.add(Dense(256, activation = Leaky_Relu))\n",
        "model_lr.add(Dense(128, activation = Leaky_Relu))\n",
        "model_lr.add(Dense(64, activation = Leaky_Relu))\n",
        "model_lr.add(Dropout(0.3))\n",
        "model_lr.add(Dense(5, activation = 'softmax'))\n",
        "\n",
        "model_lr.compile(loss = \"categorical_crossentropy\", optimizer = 'adam', metrics = ['accuracy'])"
      ],
      "execution_count": 60,
      "outputs": []
    },
    {
      "cell_type": "code",
      "metadata": {
        "colab": {
          "base_uri": "https://localhost:8080/"
        },
        "id": "UQGBmZ4QfQAs",
        "outputId": "fbf0c2af-3d67-4c5e-fafd-3f9da759b656"
      },
      "source": [
        "model_lr.summary()"
      ],
      "execution_count": 61,
      "outputs": [
        {
          "output_type": "stream",
          "text": [
            "Model: \"sequential\"\n",
            "_________________________________________________________________\n",
            "Layer (type)                 Output Shape              Param #   \n",
            "=================================================================\n",
            "embedding (Embedding)        (None, 25, 50)            441950    \n",
            "_________________________________________________________________\n",
            "lstm (LSTM)                  (None, 25, 128)           91648     \n",
            "_________________________________________________________________\n",
            "flatten (Flatten)            (None, 3200)              0         \n",
            "_________________________________________________________________\n",
            "dense (Dense)                (None, 512)               1638912   \n",
            "_________________________________________________________________\n",
            "dense_1 (Dense)              (None, 256)               131328    \n",
            "_________________________________________________________________\n",
            "dense_2 (Dense)              (None, 128)               32896     \n",
            "_________________________________________________________________\n",
            "dense_3 (Dense)              (None, 64)                8256      \n",
            "_________________________________________________________________\n",
            "dropout (Dropout)            (None, 64)                0         \n",
            "_________________________________________________________________\n",
            "dense_4 (Dense)              (None, 5)                 325       \n",
            "=================================================================\n",
            "Total params: 2,345,315\n",
            "Trainable params: 2,345,315\n",
            "Non-trainable params: 0\n",
            "_________________________________________________________________\n"
          ],
          "name": "stdout"
        }
      ]
    },
    {
      "cell_type": "code",
      "metadata": {
        "colab": {
          "base_uri": "https://localhost:8080/"
        },
        "id": "MaPJSBf2fUHC",
        "outputId": "671e5c53-d2a7-419c-aa93-9c5e19a872a5"
      },
      "source": [
        "history_lr = model_lr.fit(X_train, y_train, batch_size = batch_size, epochs = epochs, validation_data=(X_test, y_test))"
      ],
      "execution_count": 62,
      "outputs": [
        {
          "output_type": "stream",
          "text": [
            "Epoch 1/30\n",
            "13/13 [==============================] - 5s 204ms/step - loss: 0.9884 - accuracy: 0.7253 - val_loss: 0.8185 - val_accuracy: 0.7892\n",
            "Epoch 2/30\n",
            "13/13 [==============================] - 2s 145ms/step - loss: 0.8216 - accuracy: 0.7888 - val_loss: 0.7037 - val_accuracy: 0.7892\n",
            "Epoch 3/30\n",
            "13/13 [==============================] - 2s 146ms/step - loss: 0.7004 - accuracy: 0.7895 - val_loss: 0.6768 - val_accuracy: 0.7818\n",
            "Epoch 4/30\n",
            "13/13 [==============================] - 2s 144ms/step - loss: 0.6407 - accuracy: 0.7920 - val_loss: 0.7002 - val_accuracy: 0.7892\n",
            "Epoch 5/30\n",
            "13/13 [==============================] - 2s 148ms/step - loss: 0.6181 - accuracy: 0.7978 - val_loss: 0.7354 - val_accuracy: 0.7459\n",
            "Epoch 6/30\n",
            "13/13 [==============================] - 2s 146ms/step - loss: 0.6094 - accuracy: 0.7927 - val_loss: 0.6732 - val_accuracy: 0.7937\n",
            "Epoch 7/30\n",
            "13/13 [==============================] - 2s 144ms/step - loss: 0.4809 - accuracy: 0.8280 - val_loss: 0.6675 - val_accuracy: 0.7907\n",
            "Epoch 8/30\n",
            "13/13 [==============================] - 2s 142ms/step - loss: 0.3948 - accuracy: 0.8671 - val_loss: 0.7516 - val_accuracy: 0.7877\n",
            "Epoch 9/30\n",
            "13/13 [==============================] - 2s 145ms/step - loss: 0.2808 - accuracy: 0.9024 - val_loss: 0.9096 - val_accuracy: 0.7683\n",
            "Epoch 10/30\n",
            "13/13 [==============================] - 2s 149ms/step - loss: 0.1626 - accuracy: 0.9467 - val_loss: 1.0418 - val_accuracy: 0.7519\n",
            "Epoch 11/30\n",
            "13/13 [==============================] - 2s 145ms/step - loss: 0.1027 - accuracy: 0.9679 - val_loss: 1.2173 - val_accuracy: 0.7862\n",
            "Epoch 12/30\n",
            "13/13 [==============================] - 2s 142ms/step - loss: 0.0805 - accuracy: 0.9730 - val_loss: 1.3132 - val_accuracy: 0.7668\n",
            "Epoch 13/30\n",
            "13/13 [==============================] - 2s 147ms/step - loss: 0.0382 - accuracy: 0.9878 - val_loss: 1.5646 - val_accuracy: 0.7788\n",
            "Epoch 14/30\n",
            "13/13 [==============================] - 2s 140ms/step - loss: 0.0230 - accuracy: 0.9949 - val_loss: 1.6615 - val_accuracy: 0.7803\n",
            "Epoch 15/30\n",
            "13/13 [==============================] - 2s 141ms/step - loss: 0.0103 - accuracy: 0.9968 - val_loss: 1.8016 - val_accuracy: 0.7728\n",
            "Epoch 16/30\n",
            "13/13 [==============================] - 2s 139ms/step - loss: 0.0074 - accuracy: 0.9974 - val_loss: 1.8539 - val_accuracy: 0.7564\n",
            "Epoch 17/30\n",
            "13/13 [==============================] - 2s 140ms/step - loss: 0.0050 - accuracy: 0.9994 - val_loss: 1.9856 - val_accuracy: 0.7848\n",
            "Epoch 18/30\n",
            "13/13 [==============================] - 2s 141ms/step - loss: 0.0048 - accuracy: 0.9987 - val_loss: 2.0105 - val_accuracy: 0.7593\n",
            "Epoch 19/30\n",
            "13/13 [==============================] - 2s 141ms/step - loss: 0.0052 - accuracy: 0.9994 - val_loss: 2.0390 - val_accuracy: 0.7848\n",
            "Epoch 20/30\n",
            "13/13 [==============================] - 2s 142ms/step - loss: 0.0041 - accuracy: 0.9994 - val_loss: 2.1258 - val_accuracy: 0.7803\n",
            "Epoch 21/30\n",
            "13/13 [==============================] - 2s 144ms/step - loss: 0.0024 - accuracy: 1.0000 - val_loss: 2.1960 - val_accuracy: 0.7698\n",
            "Epoch 22/30\n",
            "13/13 [==============================] - 2s 142ms/step - loss: 0.0017 - accuracy: 0.9994 - val_loss: 2.2719 - val_accuracy: 0.7743\n",
            "Epoch 23/30\n",
            "13/13 [==============================] - 2s 141ms/step - loss: 0.0016 - accuracy: 0.9994 - val_loss: 2.2741 - val_accuracy: 0.7578\n",
            "Epoch 24/30\n",
            "13/13 [==============================] - 2s 143ms/step - loss: 8.6961e-04 - accuracy: 1.0000 - val_loss: 2.3044 - val_accuracy: 0.7833\n",
            "Epoch 25/30\n",
            "13/13 [==============================] - 2s 143ms/step - loss: 4.9997e-04 - accuracy: 1.0000 - val_loss: 2.3374 - val_accuracy: 0.7788\n",
            "Epoch 26/30\n",
            "13/13 [==============================] - 2s 141ms/step - loss: 3.5234e-04 - accuracy: 1.0000 - val_loss: 2.3384 - val_accuracy: 0.7803\n",
            "Epoch 27/30\n",
            "13/13 [==============================] - 2s 140ms/step - loss: 2.3959e-04 - accuracy: 1.0000 - val_loss: 2.3623 - val_accuracy: 0.7788\n",
            "Epoch 28/30\n",
            "13/13 [==============================] - 2s 141ms/step - loss: 2.4023e-04 - accuracy: 1.0000 - val_loss: 2.3864 - val_accuracy: 0.7788\n",
            "Epoch 29/30\n",
            "13/13 [==============================] - 2s 141ms/step - loss: 1.6174e-04 - accuracy: 1.0000 - val_loss: 2.4111 - val_accuracy: 0.7788\n",
            "Epoch 30/30\n",
            "13/13 [==============================] - 2s 139ms/step - loss: 1.3820e-04 - accuracy: 1.0000 - val_loss: 2.4301 - val_accuracy: 0.7803\n"
          ],
          "name": "stdout"
        }
      ]
    },
    {
      "cell_type": "code",
      "metadata": {
        "colab": {
          "base_uri": "https://localhost:8080/"
        },
        "id": "o7izLlQCfZlS",
        "outputId": "20eca716-42f0-4fd2-89db-8482196b76e1"
      },
      "source": [
        "# Final evaluation of the model\n",
        "loss, acc = model_lr.evaluate(X_train, y_train, verbose=0)\n",
        "print('Train Accuracy: %.3f%%' % (acc*100))\n",
        "print('Train Loss: %.3f'% loss)\n",
        "print()\n",
        "\n",
        "loss, acc = model_lr.evaluate(X_test, y_test, verbose=0)\n",
        "print('Test Accuracy: %.3f%%' % (acc*100))\n",
        "print('Test Loss: %.3f'% loss)"
      ],
      "execution_count": 63,
      "outputs": [
        {
          "output_type": "stream",
          "text": [
            "Train Accuracy: 100.000%\n",
            "Train Loss: 0.000\n",
            "\n",
            "Test Accuracy: 78.027%\n",
            "Test Loss: 2.430\n"
          ],
          "name": "stdout"
        }
      ]
    },
    {
      "cell_type": "code",
      "metadata": {
        "colab": {
          "base_uri": "https://localhost:8080/"
        },
        "id": "UVfPYX7YhDDt",
        "outputId": "2e4c176a-ee3c-4339-8ee1-f06814e5709d"
      },
      "source": [
        "# Predicting for all of test dataset \n",
        "predictions_lr = model_lr.predict(X_test)\n",
        "predictions_lr[0]"
      ],
      "execution_count": 64,
      "outputs": [
        {
          "output_type": "execute_result",
          "data": {
            "text/plain": [
              "array([1.75828646e-07, 1.25264705e-05, 2.13957742e-06, 3.07607115e-04,\n",
              "       9.99677539e-01], dtype=float32)"
            ]
          },
          "metadata": {
            "tags": []
          },
          "execution_count": 64
        }
      ]
    },
    {
      "cell_type": "code",
      "metadata": {
        "colab": {
          "base_uri": "https://localhost:8080/"
        },
        "id": "11gegdvQh3_e",
        "outputId": "9de3fe9e-f884-42cb-d07f-948de1a00a6b"
      },
      "source": [
        "# Inversing the predicted test labels\n",
        "y_pred_inv_lr = enc.inverse_transform(np.around(predictions_lr))\n",
        "y_pred_inv_lr[0]"
      ],
      "execution_count": 65,
      "outputs": [
        {
          "output_type": "execute_result",
          "data": {
            "text/plain": [
              "array([5])"
            ]
          },
          "metadata": {
            "tags": []
          },
          "execution_count": 65
        }
      ]
    },
    {
      "cell_type": "code",
      "metadata": {
        "colab": {
          "base_uri": "https://localhost:8080/",
          "height": 869
        },
        "id": "AA-rtwRxheN9",
        "outputId": "1a477473-376f-4026-ad6a-a814a3bcf1e0"
      },
      "source": [
        "# Confusion Matrix\n",
        "\n",
        "cm = confusion_matrix(y_test_inv,y_pred_inv_lr)\n",
        "plt.figure(figsize=(15,15))\n",
        "sns.heatmap(cm, annot = True, fmt = '.3f', linewidths = .5, square = True, cmap=\"YlGnBu\")\n",
        "plt.ylabel('Actual Label')\n",
        "plt.xlabel('Predicted Label')\n",
        "all_sample_title = 'Accuracy Score for CNN: {0}'.format(accuracy_score(y_test_inv,y_pred_inv_lr))\n",
        "plt.title(all_sample_title, size = 20)"
      ],
      "execution_count": 66,
      "outputs": [
        {
          "output_type": "execute_result",
          "data": {
            "text/plain": [
              "Text(0.5, 1.0, 'Accuracy Score for CNN: 0.7817638266068759')"
            ]
          },
          "metadata": {
            "tags": []
          },
          "execution_count": 66
        },
        {
          "output_type": "display_data",
          "data": {
            "image/png": "[encoded data removed]",
            "text/plain": [
              "<Figure size 1080x1080 with 2 Axes>"
            ]
          },
          "metadata": {
            "tags": [],
            "needs_background": "light"
          }
        }
      ]
    },
    {
      "cell_type": "code",
      "metadata": {
        "colab": {
          "base_uri": "https://localhost:8080/"
        },
        "id": "_h-gfA3jiR_B",
        "outputId": "ef75bdf2-a2df-4dec-9207-82e74ad35e05"
      },
      "source": [
        "# Classification Report\n",
        "print(classification_report(y_test_inv, y_pred_inv_lr, labels=[1, 2, 3, 4, 5]))"
      ],
      "execution_count": 67,
      "outputs": [
        {
          "output_type": "stream",
          "text": [
            "              precision    recall  f1-score   support\n",
            "\n",
            "           1       0.46      0.41      0.44        46\n",
            "           2       0.25      0.11      0.15        18\n",
            "           3       0.25      0.13      0.17        23\n",
            "           4       0.29      0.24      0.26        54\n",
            "           5       0.86      0.92      0.89       528\n",
            "\n",
            "    accuracy                           0.78       669\n",
            "   macro avg       0.42      0.36      0.38       669\n",
            "weighted avg       0.75      0.78      0.76       669\n",
            "\n"
          ],
          "name": "stdout"
        }
      ]
    },
    {
      "cell_type": "code",
      "metadata": {
        "colab": {
          "base_uri": "https://localhost:8080/",
          "height": 106
        },
        "id": "mScZkoQCA2VK",
        "outputId": "d816f4ca-f585-450d-db07-eabe2282e5b9"
      },
      "source": [
        "# Adding Final accuracy value to Results DataFrame\n",
        "tempResultsDf = pd.DataFrame({'Model':['Leaky_ReLU'],'Accuracy': (accuracy_score(y_test_inv, y_pred_inv_lr)), 'F1_Score':(f1_score(y_test_inv, y_pred_inv_lr, average = 'macro'))},index={'2'})\n",
        "resultsdf = pd.concat([resultsdf, tempResultsDf])\n",
        "resultsdf"
      ],
      "execution_count": 68,
      "outputs": [
        {
          "output_type": "execute_result",
          "data": {
            "text/html": [
              "<div>\n",
              "<style scoped>\n",
              "    .dataframe tbody tr th:only-of-type {\n",
              "        vertical-align: middle;\n",
              "    }\n",
              "\n",
              "    .dataframe tbody tr th {\n",
              "        vertical-align: top;\n",
              "    }\n",
              "\n",
              "    .dataframe thead th {\n",
              "        text-align: right;\n",
              "    }\n",
              "</style>\n",
              "<table border=\"1\" class=\"dataframe\">\n",
              "  <thead>\n",
              "    <tr style=\"text-align: right;\">\n",
              "      <th></th>\n",
              "      <th>Model</th>\n",
              "      <th>Accuracy</th>\n",
              "      <th>F1_Score</th>\n",
              "    </tr>\n",
              "  </thead>\n",
              "  <tbody>\n",
              "    <tr>\n",
              "      <th>1</th>\n",
              "      <td>Base Model</td>\n",
              "      <td>0.7727952</td>\n",
              "      <td>0.3905429</td>\n",
              "    </tr>\n",
              "    <tr>\n",
              "      <th>2</th>\n",
              "      <td>Leaky_ReLU</td>\n",
              "      <td>0.7817638</td>\n",
              "      <td>0.3831217</td>\n",
              "    </tr>\n",
              "  </tbody>\n",
              "</table>\n",
              "</div>"
            ],
            "text/plain": [
              "        Model  Accuracy  F1_Score\n",
              "1  Base Model 0.7727952 0.3905429\n",
              "2  Leaky_ReLU 0.7817638 0.3831217"
            ]
          },
          "metadata": {
            "tags": []
          },
          "execution_count": 68
        }
      ]
    },
    {
      "cell_type": "markdown",
      "metadata": {
        "id": "tIpWjVptUEdy"
      },
      "source": [
        "### Inference:- ReLU Activation function is better than Leaky ReLU for this dataset."
      ]
    },
    {
      "cell_type": "markdown",
      "metadata": {
        "id": "62xRiGkvmLq_"
      },
      "source": [
        "# 1b.Activation Function \"TanH\""
      ]
    },
    {
      "cell_type": "code",
      "metadata": {
        "id": "fU82vUog8Fmx"
      },
      "source": [
        "# Model Architechture with \"TanH\" activation function\n",
        "clear_session()\n",
        "model_th = Sequential()\n",
        "model_th.add(Embedding(num_words, embedding_size, weights = [embedding_matrix], input_length = maxlen))\n",
        "model_th.add(LSTM(128, return_sequences = True))\n",
        "model_th.add(Flatten())\n",
        "model_th.add(Dense(512, activation = 'tanh'))\n",
        "model_th.add(Dense(256, activation = 'tanh'))\n",
        "model_th.add(Dense(128, activation = 'tanh'))\n",
        "model_th.add(Dense(64, activation = 'tanh'))\n",
        "model_th.add(Dropout(0.3))\n",
        "model_th.add(Dense(5, activation = 'softmax'))\n",
        "\n",
        "model_th.compile(loss = \"categorical_crossentropy\", optimizer = 'adam', metrics = ['accuracy'])"
      ],
      "execution_count": 69,
      "outputs": []
    },
    {
      "cell_type": "code",
      "metadata": {
        "colab": {
          "base_uri": "https://localhost:8080/"
        },
        "id": "Nq8aDR7e_ef8",
        "outputId": "97fab714-1b67-49f9-e55b-e570f6c9303d"
      },
      "source": [
        "model_th.summary()"
      ],
      "execution_count": 70,
      "outputs": [
        {
          "output_type": "stream",
          "text": [
            "Model: \"sequential\"\n",
            "_________________________________________________________________\n",
            "Layer (type)                 Output Shape              Param #   \n",
            "=================================================================\n",
            "embedding (Embedding)        (None, 25, 50)            441950    \n",
            "_________________________________________________________________\n",
            "lstm (LSTM)                  (None, 25, 128)           91648     \n",
            "_________________________________________________________________\n",
            "flatten (Flatten)            (None, 3200)              0         \n",
            "_________________________________________________________________\n",
            "dense (Dense)                (None, 512)               1638912   \n",
            "_________________________________________________________________\n",
            "dense_1 (Dense)              (None, 256)               131328    \n",
            "_________________________________________________________________\n",
            "dense_2 (Dense)              (None, 128)               32896     \n",
            "_________________________________________________________________\n",
            "dense_3 (Dense)              (None, 64)                8256      \n",
            "_________________________________________________________________\n",
            "dropout (Dropout)            (None, 64)                0         \n",
            "_________________________________________________________________\n",
            "dense_4 (Dense)              (None, 5)                 325       \n",
            "=================================================================\n",
            "Total params: 2,345,315\n",
            "Trainable params: 2,345,315\n",
            "Non-trainable params: 0\n",
            "_________________________________________________________________\n"
          ],
          "name": "stdout"
        }
      ]
    },
    {
      "cell_type": "code",
      "metadata": {
        "colab": {
          "base_uri": "https://localhost:8080/"
        },
        "id": "y3Y2hHSe_hAN",
        "outputId": "f58ff7eb-20c8-4e45-92ad-1c5b689d8b19"
      },
      "source": [
        "history_th = model_th.fit(X_train, y_train, batch_size = batch_size, epochs = epochs, validation_data=(X_test, y_test))"
      ],
      "execution_count": 71,
      "outputs": [
        {
          "output_type": "stream",
          "text": [
            "Epoch 1/30\n",
            "13/13 [==============================] - 4s 180ms/step - loss: 0.9910 - accuracy: 0.7221 - val_loss: 0.7901 - val_accuracy: 0.7892\n",
            "Epoch 2/30\n",
            "13/13 [==============================] - 2s 140ms/step - loss: 0.8374 - accuracy: 0.7869 - val_loss: 0.8033 - val_accuracy: 0.7892\n",
            "Epoch 3/30\n",
            "13/13 [==============================] - 2s 139ms/step - loss: 0.8539 - accuracy: 0.7882 - val_loss: 0.7768 - val_accuracy: 0.7892\n",
            "Epoch 4/30\n",
            "13/13 [==============================] - 2s 141ms/step - loss: 0.8116 - accuracy: 0.7792 - val_loss: 0.7175 - val_accuracy: 0.7892\n",
            "Epoch 5/30\n",
            "13/13 [==============================] - 2s 141ms/step - loss: 0.7333 - accuracy: 0.7811 - val_loss: 0.7130 - val_accuracy: 0.7833\n",
            "Epoch 6/30\n",
            "13/13 [==============================] - 2s 138ms/step - loss: 0.6861 - accuracy: 0.7914 - val_loss: 0.6904 - val_accuracy: 0.7803\n",
            "Epoch 7/30\n",
            "13/13 [==============================] - 2s 138ms/step - loss: 0.6259 - accuracy: 0.8068 - val_loss: 0.6754 - val_accuracy: 0.7907\n",
            "Epoch 8/30\n",
            "13/13 [==============================] - 2s 139ms/step - loss: 0.5707 - accuracy: 0.8113 - val_loss: 0.7328 - val_accuracy: 0.7862\n",
            "Epoch 9/30\n",
            "13/13 [==============================] - 2s 140ms/step - loss: 0.5478 - accuracy: 0.8164 - val_loss: 0.7331 - val_accuracy: 0.7728\n",
            "Epoch 10/30\n",
            "13/13 [==============================] - 2s 140ms/step - loss: 0.4597 - accuracy: 0.8447 - val_loss: 0.7901 - val_accuracy: 0.7728\n",
            "Epoch 11/30\n",
            "13/13 [==============================] - 2s 139ms/step - loss: 0.3488 - accuracy: 0.8864 - val_loss: 0.7972 - val_accuracy: 0.7788\n",
            "Epoch 12/30\n",
            "13/13 [==============================] - 2s 138ms/step - loss: 0.2613 - accuracy: 0.9223 - val_loss: 0.9195 - val_accuracy: 0.7564\n",
            "Epoch 13/30\n",
            "13/13 [==============================] - 2s 140ms/step - loss: 0.2017 - accuracy: 0.9416 - val_loss: 0.9871 - val_accuracy: 0.7459\n",
            "Epoch 14/30\n",
            "13/13 [==============================] - 2s 137ms/step - loss: 0.1358 - accuracy: 0.9576 - val_loss: 1.0119 - val_accuracy: 0.7474\n",
            "Epoch 15/30\n",
            "13/13 [==============================] - 2s 139ms/step - loss: 0.0913 - accuracy: 0.9730 - val_loss: 1.1324 - val_accuracy: 0.7504\n",
            "Epoch 16/30\n",
            "13/13 [==============================] - 2s 138ms/step - loss: 0.0495 - accuracy: 0.9910 - val_loss: 1.1661 - val_accuracy: 0.7653\n",
            "Epoch 17/30\n",
            "13/13 [==============================] - 2s 137ms/step - loss: 0.0303 - accuracy: 0.9974 - val_loss: 1.2133 - val_accuracy: 0.7668\n",
            "Epoch 18/30\n",
            "13/13 [==============================] - 2s 140ms/step - loss: 0.0177 - accuracy: 0.9994 - val_loss: 1.2471 - val_accuracy: 0.7549\n",
            "Epoch 19/30\n",
            "13/13 [==============================] - 2s 140ms/step - loss: 0.0120 - accuracy: 0.9987 - val_loss: 1.2694 - val_accuracy: 0.7623\n",
            "Epoch 20/30\n",
            "13/13 [==============================] - 2s 142ms/step - loss: 0.0083 - accuracy: 1.0000 - val_loss: 1.3110 - val_accuracy: 0.7743\n",
            "Epoch 21/30\n",
            "13/13 [==============================] - 2s 138ms/step - loss: 0.0070 - accuracy: 1.0000 - val_loss: 1.3351 - val_accuracy: 0.7653\n",
            "Epoch 22/30\n",
            "13/13 [==============================] - 2s 138ms/step - loss: 0.0055 - accuracy: 1.0000 - val_loss: 1.3573 - val_accuracy: 0.7698\n",
            "Epoch 23/30\n",
            "13/13 [==============================] - 2s 140ms/step - loss: 0.0045 - accuracy: 1.0000 - val_loss: 1.3677 - val_accuracy: 0.7698\n",
            "Epoch 24/30\n",
            "13/13 [==============================] - 2s 139ms/step - loss: 0.0043 - accuracy: 1.0000 - val_loss: 1.3798 - val_accuracy: 0.7713\n",
            "Epoch 25/30\n",
            "13/13 [==============================] - 2s 139ms/step - loss: 0.0039 - accuracy: 1.0000 - val_loss: 1.3973 - val_accuracy: 0.7728\n",
            "Epoch 26/30\n",
            "13/13 [==============================] - 2s 136ms/step - loss: 0.0037 - accuracy: 1.0000 - val_loss: 1.4086 - val_accuracy: 0.7713\n",
            "Epoch 27/30\n",
            "13/13 [==============================] - 2s 141ms/step - loss: 0.0033 - accuracy: 1.0000 - val_loss: 1.4212 - val_accuracy: 0.7743\n",
            "Epoch 28/30\n",
            "13/13 [==============================] - 2s 142ms/step - loss: 0.0028 - accuracy: 1.0000 - val_loss: 1.4344 - val_accuracy: 0.7743\n",
            "Epoch 29/30\n",
            "13/13 [==============================] - 2s 139ms/step - loss: 0.0026 - accuracy: 1.0000 - val_loss: 1.4428 - val_accuracy: 0.7758\n",
            "Epoch 30/30\n",
            "13/13 [==============================] - 2s 137ms/step - loss: 0.0023 - accuracy: 1.0000 - val_loss: 1.4505 - val_accuracy: 0.7743\n"
          ],
          "name": "stdout"
        }
      ]
    },
    {
      "cell_type": "code",
      "metadata": {
        "colab": {
          "base_uri": "https://localhost:8080/"
        },
        "id": "QSZgg401_jTV",
        "outputId": "c52bf7c7-ba42-423c-cf2c-83a1ce0a61f5"
      },
      "source": [
        "# Final evaluation of the model\n",
        "loss, acc = model_th.evaluate(X_train, y_train, verbose=0)\n",
        "print('Train Accuracy: %.3f%%' % (acc*100))\n",
        "print('Train Loss: %.3f'% loss)\n",
        "print()\n",
        "\n",
        "loss, acc = model_th.evaluate(X_test, y_test, verbose=0)\n",
        "print('Test Accuracy: %.3f%%' % (acc*100))\n",
        "print('Test Loss: %.3f'% loss)"
      ],
      "execution_count": 72,
      "outputs": [
        {
          "output_type": "stream",
          "text": [
            "Train Accuracy: 100.000%\n",
            "Train Loss: 0.002\n",
            "\n",
            "Test Accuracy: 77.429%\n",
            "Test Loss: 1.450\n"
          ],
          "name": "stdout"
        }
      ]
    },
    {
      "cell_type": "code",
      "metadata": {
        "colab": {
          "base_uri": "https://localhost:8080/"
        },
        "id": "8kFoXBGd_mLQ",
        "outputId": "71b5cb61-58e5-479c-f726-328592c82976"
      },
      "source": [
        "# Predicting for all of test dataset \n",
        "predictions_th = model_th.predict(X_test)\n",
        "predictions_th[0]"
      ],
      "execution_count": 73,
      "outputs": [
        {
          "output_type": "execute_result",
          "data": {
            "text/plain": [
              "array([2.0908325e-05, 1.2099512e-03, 2.1143863e-04, 7.6526310e-04,\n",
              "       9.9779248e-01], dtype=float32)"
            ]
          },
          "metadata": {
            "tags": []
          },
          "execution_count": 73
        }
      ]
    },
    {
      "cell_type": "code",
      "metadata": {
        "colab": {
          "base_uri": "https://localhost:8080/"
        },
        "id": "EWgORF8w_oUR",
        "outputId": "5e13ba66-04f9-40ed-d59f-fce793236473"
      },
      "source": [
        "# Inversing the predicted test labels\n",
        "y_pred_inv_th = enc.inverse_transform(np.around(predictions_th))\n",
        "y_pred_inv_th[0]"
      ],
      "execution_count": 74,
      "outputs": [
        {
          "output_type": "execute_result",
          "data": {
            "text/plain": [
              "array([5])"
            ]
          },
          "metadata": {
            "tags": []
          },
          "execution_count": 74
        }
      ]
    },
    {
      "cell_type": "code",
      "metadata": {
        "colab": {
          "base_uri": "https://localhost:8080/",
          "height": 869
        },
        "id": "T4qfg0Sl_rtr",
        "outputId": "2258b70a-ea54-4bf9-f93d-670d11225572"
      },
      "source": [
        "# Confusion Matrix\n",
        "\n",
        "cm = confusion_matrix(y_test_inv,y_pred_inv_th)\n",
        "plt.figure(figsize=(15,15))\n",
        "sns.heatmap(cm, annot = True, fmt = '.3f', linewidths = .5, square = True, cmap=\"YlGnBu\")\n",
        "plt.ylabel('Actual Label')\n",
        "plt.xlabel('Predicted Label')\n",
        "all_sample_title = 'Accuracy Score for CNN: {0}'.format(accuracy_score(y_test_inv,y_pred_inv_th))\n",
        "plt.title(all_sample_title, size = 20)"
      ],
      "execution_count": 75,
      "outputs": [
        {
          "output_type": "execute_result",
          "data": {
            "text/plain": [
              "Text(0.5, 1.0, 'Accuracy Score for CNN: 0.7742899850523169')"
            ]
          },
          "metadata": {
            "tags": []
          },
          "execution_count": 75
        },
        {
          "output_type": "display_data",
          "data": {
            "image/png": "[encoded data removed]",
            "text/plain": [
              "<Figure size 1080x1080 with 2 Axes>"
            ]
          },
          "metadata": {
            "tags": [],
            "needs_background": "light"
          }
        }
      ]
    },
    {
      "cell_type": "code",
      "metadata": {
        "colab": {
          "base_uri": "https://localhost:8080/"
        },
        "id": "gjrz-_jF_vG1",
        "outputId": "05f8f016-8134-4389-ec47-7f204baf4de1"
      },
      "source": [
        "# Classification Report\n",
        "print(classification_report(y_test_inv, y_pred_inv_th, labels=[1, 2, 3, 4, 5]))"
      ],
      "execution_count": 76,
      "outputs": [
        {
          "output_type": "stream",
          "text": [
            "              precision    recall  f1-score   support\n",
            "\n",
            "           1       0.46      0.39      0.42        46\n",
            "           2       0.33      0.06      0.10        18\n",
            "           3       0.23      0.13      0.17        23\n",
            "           4       0.25      0.24      0.25        54\n",
            "           5       0.86      0.91      0.89       528\n",
            "\n",
            "    accuracy                           0.77       669\n",
            "   macro avg       0.43      0.35      0.36       669\n",
            "weighted avg       0.75      0.77      0.76       669\n",
            "\n"
          ],
          "name": "stdout"
        }
      ]
    },
    {
      "cell_type": "code",
      "metadata": {
        "colab": {
          "base_uri": "https://localhost:8080/",
          "height": 136
        },
        "id": "xjLFYpnFBCO7",
        "outputId": "ba58b737-45b1-4f0c-ec53-2f195ad96070"
      },
      "source": [
        "# Adding Final accuracy value to Results DataFrame\n",
        "tempResultsDf = pd.DataFrame({'Model':['TanH'],'Accuracy': (accuracy_score(y_test_inv, y_pred_inv_th)), 'F1_Score':(f1_score(y_test_inv, y_pred_inv_th, average = 'macro'))},index={'3'})\n",
        "resultsdf = pd.concat([resultsdf, tempResultsDf])\n",
        "resultsdf"
      ],
      "execution_count": 77,
      "outputs": [
        {
          "output_type": "execute_result",
          "data": {
            "text/html": [
              "<div>\n",
              "<style scoped>\n",
              "    .dataframe tbody tr th:only-of-type {\n",
              "        vertical-align: middle;\n",
              "    }\n",
              "\n",
              "    .dataframe tbody tr th {\n",
              "        vertical-align: top;\n",
              "    }\n",
              "\n",
              "    .dataframe thead th {\n",
              "        text-align: right;\n",
              "    }\n",
              "</style>\n",
              "<table border=\"1\" class=\"dataframe\">\n",
              "  <thead>\n",
              "    <tr style=\"text-align: right;\">\n",
              "      <th></th>\n",
              "      <th>Model</th>\n",
              "      <th>Accuracy</th>\n",
              "      <th>F1_Score</th>\n",
              "    </tr>\n",
              "  </thead>\n",
              "  <tbody>\n",
              "    <tr>\n",
              "      <th>1</th>\n",
              "      <td>Base Model</td>\n",
              "      <td>0.7727952</td>\n",
              "      <td>0.3905429</td>\n",
              "    </tr>\n",
              "    <tr>\n",
              "      <th>2</th>\n",
              "      <td>Leaky_ReLU</td>\n",
              "      <td>0.7817638</td>\n",
              "      <td>0.3831217</td>\n",
              "    </tr>\n",
              "    <tr>\n",
              "      <th>3</th>\n",
              "      <td>TanH</td>\n",
              "      <td>0.7742900</td>\n",
              "      <td>0.3633911</td>\n",
              "    </tr>\n",
              "  </tbody>\n",
              "</table>\n",
              "</div>"
            ],
            "text/plain": [
              "        Model  Accuracy  F1_Score\n",
              "1  Base Model 0.7727952 0.3905429\n",
              "2  Leaky_ReLU 0.7817638 0.3831217\n",
              "3        TanH 0.7742900 0.3633911"
            ]
          },
          "metadata": {
            "tags": []
          },
          "execution_count": 77
        }
      ]
    },
    {
      "cell_type": "markdown",
      "metadata": {
        "id": "pk87mlO1T1Ci"
      },
      "source": [
        "### Inference: ReLU and Leaky ReLU is better than TanH activation function."
      ]
    },
    {
      "cell_type": "markdown",
      "metadata": {
        "id": "gv2gvagp8Imn"
      },
      "source": [
        "# 3.Hyperparameter tunning"
      ]
    },
    {
      "cell_type": "code",
      "metadata": {
        "id": "Xq0NZ68f8QOy"
      },
      "source": [
        "from tensorflow.keras.optimizers import RMSprop\n",
        "rms_opt = RMSprop(lr=0.001)"
      ],
      "execution_count": 78,
      "outputs": []
    },
    {
      "cell_type": "code",
      "metadata": {
        "id": "GYLzkGP0ICyu"
      },
      "source": [
        "# Hyperparameter tunned Model Architechture \n",
        "clear_session()\n",
        "model_hpt = Sequential()\n",
        "model_hpt.add(Embedding(num_words, embedding_size, weights = [embedding_matrix], input_length = maxlen))\n",
        "model_hpt.add(LSTM(128, return_sequences = True))\n",
        "model_hpt.add(Flatten())\n",
        "model_hpt.add(Dense(512, activation = 'tanh'))\n",
        "model_hpt.add(Dense(256, activation = 'tanh'))\n",
        "model_hpt.add(Dense(128, activation = 'tanh'))\n",
        "model_hpt.add(Dense(64, activation = 'tanh'))\n",
        "model_hpt.add(Dropout(0.3))\n",
        "model_hpt.add(Dense(5, activation = 'softmax'))\n",
        "\n",
        "model_hpt.compile(loss = \"categorical_crossentropy\", optimizer = rms_opt, metrics = ['accuracy'])"
      ],
      "execution_count": 79,
      "outputs": []
    },
    {
      "cell_type": "code",
      "metadata": {
        "colab": {
          "base_uri": "https://localhost:8080/"
        },
        "id": "UxqRAYh3INMk",
        "outputId": "69cf19cd-90c5-44f2-c18c-5d057fb0901a"
      },
      "source": [
        "model_hpt.summary()"
      ],
      "execution_count": 80,
      "outputs": [
        {
          "output_type": "stream",
          "text": [
            "Model: \"sequential\"\n",
            "_________________________________________________________________\n",
            "Layer (type)                 Output Shape              Param #   \n",
            "=================================================================\n",
            "embedding (Embedding)        (None, 25, 50)            441950    \n",
            "_________________________________________________________________\n",
            "lstm (LSTM)                  (None, 25, 128)           91648     \n",
            "_________________________________________________________________\n",
            "flatten (Flatten)            (None, 3200)              0         \n",
            "_________________________________________________________________\n",
            "dense (Dense)                (None, 512)               1638912   \n",
            "_________________________________________________________________\n",
            "dense_1 (Dense)              (None, 256)               131328    \n",
            "_________________________________________________________________\n",
            "dense_2 (Dense)              (None, 128)               32896     \n",
            "_________________________________________________________________\n",
            "dense_3 (Dense)              (None, 64)                8256      \n",
            "_________________________________________________________________\n",
            "dropout (Dropout)            (None, 64)                0         \n",
            "_________________________________________________________________\n",
            "dense_4 (Dense)              (None, 5)                 325       \n",
            "=================================================================\n",
            "Total params: 2,345,315\n",
            "Trainable params: 2,345,315\n",
            "Non-trainable params: 0\n",
            "_________________________________________________________________\n"
          ],
          "name": "stdout"
        }
      ]
    },
    {
      "cell_type": "code",
      "metadata": {
        "colab": {
          "base_uri": "https://localhost:8080/"
        },
        "id": "AxkmRI-rIPoe",
        "outputId": "2a552e1a-bd3b-4b40-f994-1be770a00625"
      },
      "source": [
        "history_hpt = model_hpt.fit(X_train, y_train, batch_size = batch_size, epochs = epochs, validation_data=(X_test, y_test))"
      ],
      "execution_count": 81,
      "outputs": [
        {
          "output_type": "stream",
          "text": [
            "Epoch 1/30\n",
            "13/13 [==============================] - 5s 216ms/step - loss: 0.9973 - accuracy: 0.7182 - val_loss: 0.7960 - val_accuracy: 0.7892\n",
            "Epoch 2/30\n",
            "13/13 [==============================] - 2s 149ms/step - loss: 0.8978 - accuracy: 0.7625 - val_loss: 0.8824 - val_accuracy: 0.7892\n",
            "Epoch 3/30\n",
            "13/13 [==============================] - 2s 149ms/step - loss: 0.8588 - accuracy: 0.7811 - val_loss: 1.1566 - val_accuracy: 0.7892\n",
            "Epoch 4/30\n",
            "13/13 [==============================] - 2s 148ms/step - loss: 0.9312 - accuracy: 0.7651 - val_loss: 0.8340 - val_accuracy: 0.7892\n",
            "Epoch 5/30\n",
            "13/13 [==============================] - 2s 143ms/step - loss: 0.8656 - accuracy: 0.7734 - val_loss: 0.8341 - val_accuracy: 0.7892\n",
            "Epoch 6/30\n",
            "13/13 [==============================] - 2s 146ms/step - loss: 0.8569 - accuracy: 0.7574 - val_loss: 0.7583 - val_accuracy: 0.7892\n",
            "Epoch 7/30\n",
            "13/13 [==============================] - 2s 142ms/step - loss: 0.7779 - accuracy: 0.7721 - val_loss: 0.7342 - val_accuracy: 0.7892\n",
            "Epoch 8/30\n",
            "13/13 [==============================] - 2s 141ms/step - loss: 0.7569 - accuracy: 0.7760 - val_loss: 0.7181 - val_accuracy: 0.7877\n",
            "Epoch 9/30\n",
            "13/13 [==============================] - 2s 145ms/step - loss: 0.7173 - accuracy: 0.7683 - val_loss: 0.8177 - val_accuracy: 0.7892\n",
            "Epoch 10/30\n",
            "13/13 [==============================] - 2s 142ms/step - loss: 0.6524 - accuracy: 0.7888 - val_loss: 0.7605 - val_accuracy: 0.7877\n",
            "Epoch 11/30\n",
            "13/13 [==============================] - 2s 142ms/step - loss: 0.5460 - accuracy: 0.8094 - val_loss: 0.8485 - val_accuracy: 0.7952\n",
            "Epoch 12/30\n",
            "13/13 [==============================] - 2s 149ms/step - loss: 0.4869 - accuracy: 0.8273 - val_loss: 0.8597 - val_accuracy: 0.7145\n",
            "Epoch 13/30\n",
            "13/13 [==============================] - 2s 143ms/step - loss: 0.3972 - accuracy: 0.8556 - val_loss: 0.9744 - val_accuracy: 0.7339\n",
            "Epoch 14/30\n",
            "13/13 [==============================] - 2s 141ms/step - loss: 0.2919 - accuracy: 0.9024 - val_loss: 0.9767 - val_accuracy: 0.7743\n",
            "Epoch 15/30\n",
            "13/13 [==============================] - 2s 145ms/step - loss: 0.2367 - accuracy: 0.9178 - val_loss: 1.0149 - val_accuracy: 0.7683\n",
            "Epoch 16/30\n",
            "13/13 [==============================] - 2s 142ms/step - loss: 0.1883 - accuracy: 0.9352 - val_loss: 0.9069 - val_accuracy: 0.7922\n",
            "Epoch 17/30\n",
            "13/13 [==============================] - 2s 144ms/step - loss: 0.1678 - accuracy: 0.9480 - val_loss: 1.0629 - val_accuracy: 0.7982\n",
            "Epoch 18/30\n",
            "13/13 [==============================] - 2s 146ms/step - loss: 0.1010 - accuracy: 0.9743 - val_loss: 1.1059 - val_accuracy: 0.7773\n",
            "Epoch 19/30\n",
            "13/13 [==============================] - 2s 144ms/step - loss: 0.0592 - accuracy: 0.9872 - val_loss: 1.3597 - val_accuracy: 0.7265\n",
            "Epoch 20/30\n",
            "13/13 [==============================] - 2s 145ms/step - loss: 0.0676 - accuracy: 0.9807 - val_loss: 1.2471 - val_accuracy: 0.7683\n",
            "Epoch 21/30\n",
            "13/13 [==============================] - 2s 141ms/step - loss: 0.0389 - accuracy: 0.9891 - val_loss: 1.3110 - val_accuracy: 0.7384\n",
            "Epoch 22/30\n",
            "13/13 [==============================] - 2s 142ms/step - loss: 0.0401 - accuracy: 0.9917 - val_loss: 1.4276 - val_accuracy: 0.7892\n",
            "Epoch 23/30\n",
            "13/13 [==============================] - 2s 143ms/step - loss: 0.0668 - accuracy: 0.9795 - val_loss: 1.3540 - val_accuracy: 0.7459\n",
            "Epoch 24/30\n",
            "13/13 [==============================] - 2s 143ms/step - loss: 0.0091 - accuracy: 0.9987 - val_loss: 1.3620 - val_accuracy: 0.7608\n",
            "Epoch 25/30\n",
            "13/13 [==============================] - 2s 151ms/step - loss: 0.0037 - accuracy: 1.0000 - val_loss: 1.4241 - val_accuracy: 0.7683\n",
            "Epoch 26/30\n",
            "13/13 [==============================] - 2s 143ms/step - loss: 0.0020 - accuracy: 1.0000 - val_loss: 1.5078 - val_accuracy: 0.7668\n",
            "Epoch 27/30\n",
            "13/13 [==============================] - 2s 142ms/step - loss: 0.0012 - accuracy: 1.0000 - val_loss: 1.7103 - val_accuracy: 0.7324\n",
            "Epoch 28/30\n",
            "13/13 [==============================] - 2s 143ms/step - loss: 0.1017 - accuracy: 0.9782 - val_loss: 1.5216 - val_accuracy: 0.7638\n",
            "Epoch 29/30\n",
            "13/13 [==============================] - 2s 144ms/step - loss: 0.0023 - accuracy: 1.0000 - val_loss: 1.5698 - val_accuracy: 0.7564\n",
            "Epoch 30/30\n",
            "13/13 [==============================] - 2s 146ms/step - loss: 0.0014 - accuracy: 1.0000 - val_loss: 1.6001 - val_accuracy: 0.7713\n"
          ],
          "name": "stdout"
        }
      ]
    },
    {
      "cell_type": "code",
      "metadata": {
        "colab": {
          "base_uri": "https://localhost:8080/"
        },
        "id": "KPAtODRkISXX",
        "outputId": "84a9a4f4-c70e-4792-9ce3-d8607f8a73f6"
      },
      "source": [
        "# Final evaluation of the model\n",
        "loss, acc = model_hpt.evaluate(X_train, y_train, verbose=0)\n",
        "print('Train Accuracy: %.3f%%' % (acc*100))\n",
        "print('Train Loss: %.3f'% loss)\n",
        "print()\n",
        "\n",
        "loss, acc = model_hpt.evaluate(X_test, y_test, verbose=0)\n",
        "print('Test Accuracy: %.3f%%' % (acc*100))\n",
        "print('Test Loss: %.3f'% loss)"
      ],
      "execution_count": 82,
      "outputs": [
        {
          "output_type": "stream",
          "text": [
            "Train Accuracy: 100.000%\n",
            "Train Loss: 0.000\n",
            "\n",
            "Test Accuracy: 77.130%\n",
            "Test Loss: 1.600\n"
          ],
          "name": "stdout"
        }
      ]
    },
    {
      "cell_type": "code",
      "metadata": {
        "colab": {
          "base_uri": "https://localhost:8080/"
        },
        "id": "WpZkxdcmIUsr",
        "outputId": "ff8ee8d3-971c-48b3-f847-3257eb28761d"
      },
      "source": [
        "# Predicting for all of test dataset \n",
        "predictions_hpt = model_hpt.predict(X_test)\n",
        "predictions_hpt[0]"
      ],
      "execution_count": 83,
      "outputs": [
        {
          "output_type": "execute_result",
          "data": {
            "text/plain": [
              "array([2.0576441e-05, 2.0276105e-03, 1.0427081e-04, 1.2915954e-04,\n",
              "       9.9771845e-01], dtype=float32)"
            ]
          },
          "metadata": {
            "tags": []
          },
          "execution_count": 83
        }
      ]
    },
    {
      "cell_type": "code",
      "metadata": {
        "colab": {
          "base_uri": "https://localhost:8080/"
        },
        "id": "4qTLFxbDIW_i",
        "outputId": "a98c257f-2ed5-4b4f-a2d7-fec479417640"
      },
      "source": [
        "# Inversing the predicted test labels\n",
        "y_pred_inv_hpt = enc.inverse_transform(np.around(predictions_hpt))\n",
        "y_pred_inv_hpt[0]"
      ],
      "execution_count": 84,
      "outputs": [
        {
          "output_type": "execute_result",
          "data": {
            "text/plain": [
              "array([5])"
            ]
          },
          "metadata": {
            "tags": []
          },
          "execution_count": 84
        }
      ]
    },
    {
      "cell_type": "code",
      "metadata": {
        "colab": {
          "base_uri": "https://localhost:8080/",
          "height": 869
        },
        "id": "-NmUdIoGIaka",
        "outputId": "31218e2a-6aed-4df9-f490-39aae595f6e3"
      },
      "source": [
        "# Confusion Matrix\n",
        "\n",
        "cm = confusion_matrix(y_test_inv,y_pred_inv_hpt)\n",
        "plt.figure(figsize=(15,15))\n",
        "sns.heatmap(cm, annot = True, fmt = '.3f', linewidths = .5, square = True, cmap=\"YlGnBu\")\n",
        "plt.ylabel('Actual Label')\n",
        "plt.xlabel('Predicted Label')\n",
        "all_sample_title = 'Accuracy Score for CNN: {0}'.format(accuracy_score(y_test_inv,y_pred_inv_hpt))\n",
        "plt.title(all_sample_title, size = 20)"
      ],
      "execution_count": 85,
      "outputs": [
        {
          "output_type": "execute_result",
          "data": {
            "text/plain": [
              "Text(0.5, 1.0, 'Accuracy Score for CNN: 0.7713004484304933')"
            ]
          },
          "metadata": {
            "tags": []
          },
          "execution_count": 85
        },
        {
          "output_type": "display_data",
          "data": {
            "image/png": "[encoded data removed]",
            "text/plain": [
              "<Figure size 1080x1080 with 2 Axes>"
            ]
          },
          "metadata": {
            "tags": [],
            "needs_background": "light"
          }
        }
      ]
    },
    {
      "cell_type": "code",
      "metadata": {
        "colab": {
          "base_uri": "https://localhost:8080/"
        },
        "id": "aC69hlKWIcj8",
        "outputId": "863131bb-174c-4a97-ecd0-60bfcc836903"
      },
      "source": [
        "# Classifiation Report\n",
        "print(classification_report(y_test_inv, y_pred_inv_hpt, labels=[1, 2, 3, 4, 5]))"
      ],
      "execution_count": 86,
      "outputs": [
        {
          "output_type": "stream",
          "text": [
            "              precision    recall  f1-score   support\n",
            "\n",
            "           1       0.40      0.35      0.37        46\n",
            "           2       0.12      0.06      0.08        18\n",
            "           3       0.50      0.17      0.26        23\n",
            "           4       0.24      0.20      0.22        54\n",
            "           5       0.85      0.92      0.88       528\n",
            "\n",
            "    accuracy                           0.77       669\n",
            "   macro avg       0.42      0.34      0.36       669\n",
            "weighted avg       0.74      0.77      0.75       669\n",
            "\n"
          ],
          "name": "stdout"
        }
      ]
    },
    {
      "cell_type": "code",
      "metadata": {
        "colab": {
          "base_uri": "https://localhost:8080/",
          "height": 166
        },
        "id": "JE_RXh8eBYsJ",
        "outputId": "2b4fab1f-08e4-4dd4-afb8-52799b3198be"
      },
      "source": [
        "# Adding Final accuracy value to Results DataFrame\n",
        "tempResultsDf = pd.DataFrame({'Model':['HyPaTu'],'Accuracy': (accuracy_score(y_test_inv, y_pred_inv_hpt)), 'F1_Score':(f1_score(y_test_inv, y_pred_inv_hpt, average = 'macro'))},index={'4'})\n",
        "resultsdf = pd.concat([resultsdf, tempResultsDf])\n",
        "resultsdf"
      ],
      "execution_count": 87,
      "outputs": [
        {
          "output_type": "execute_result",
          "data": {
            "text/html": [
              "<div>\n",
              "<style scoped>\n",
              "    .dataframe tbody tr th:only-of-type {\n",
              "        vertical-align: middle;\n",
              "    }\n",
              "\n",
              "    .dataframe tbody tr th {\n",
              "        vertical-align: top;\n",
              "    }\n",
              "\n",
              "    .dataframe thead th {\n",
              "        text-align: right;\n",
              "    }\n",
              "</style>\n",
              "<table border=\"1\" class=\"dataframe\">\n",
              "  <thead>\n",
              "    <tr style=\"text-align: right;\">\n",
              "      <th></th>\n",
              "      <th>Model</th>\n",
              "      <th>Accuracy</th>\n",
              "      <th>F1_Score</th>\n",
              "    </tr>\n",
              "  </thead>\n",
              "  <tbody>\n",
              "    <tr>\n",
              "      <th>1</th>\n",
              "      <td>Base Model</td>\n",
              "      <td>0.7727952</td>\n",
              "      <td>0.3905429</td>\n",
              "    </tr>\n",
              "    <tr>\n",
              "      <th>2</th>\n",
              "      <td>Leaky_ReLU</td>\n",
              "      <td>0.7817638</td>\n",
              "      <td>0.3831217</td>\n",
              "    </tr>\n",
              "    <tr>\n",
              "      <th>3</th>\n",
              "      <td>TanH</td>\n",
              "      <td>0.7742900</td>\n",
              "      <td>0.3633911</td>\n",
              "    </tr>\n",
              "    <tr>\n",
              "      <th>4</th>\n",
              "      <td>HyPaTu</td>\n",
              "      <td>0.7713004</td>\n",
              "      <td>0.3625029</td>\n",
              "    </tr>\n",
              "  </tbody>\n",
              "</table>\n",
              "</div>"
            ],
            "text/plain": [
              "        Model  Accuracy  F1_Score\n",
              "1  Base Model 0.7727952 0.3905429\n",
              "2  Leaky_ReLU 0.7817638 0.3831217\n",
              "3        TanH 0.7742900 0.3633911\n",
              "4      HyPaTu 0.7713004 0.3625029"
            ]
          },
          "metadata": {
            "tags": []
          },
          "execution_count": 87
        }
      ]
    },
    {
      "cell_type": "markdown",
      "metadata": {
        "id": "oYZjgL4vTV-K"
      },
      "source": [
        "### Inference:- Here model with tanh activation and RMSProp Optimizer with learning rate of 0.01 gives less macro F1 Score than base model. Tunning the hyperparameters along with under sampling the majority class with k-fold cross validation will give better results."
      ]
    }
  ]
}