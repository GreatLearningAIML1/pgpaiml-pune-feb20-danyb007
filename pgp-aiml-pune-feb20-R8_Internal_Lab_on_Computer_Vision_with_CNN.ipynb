{
  "nbformat": 4,
  "nbformat_minor": 0,
  "metadata": {
    "colab": {
      "name": "Questions - Lab on Computer Vision with CNN.ipynb",
      "provenance": [],
      "collapsed_sections": []
    },
    "kernelspec": {
      "name": "python3",
      "display_name": "Python 3"
    },
    "accelerator": "GPU"
  },
  "cells": [
    {
      "cell_type": "markdown",
      "metadata": {
        "id": "MyfMmMnPJjvn"
      },
      "source": [
        "## Train a simple convnet on the Fashion MNIST dataset"
      ]
    },
    {
      "cell_type": "markdown",
      "metadata": {
        "id": "zjcGOJhcJjvp"
      },
      "source": [
        "In this, we will see how to deal with image data and train a convnet for image classification task."
      ]
    },
    {
      "cell_type": "markdown",
      "metadata": {
        "id": "jR0Pl2XjJjvq"
      },
      "source": [
        "### Load the  `fashion_mnist`  dataset\n",
        "\n",
        "** Use keras.datasets to load the dataset **"
      ]
    },
    {
      "cell_type": "code",
      "metadata": {
        "id": "BkdN968KyPpi"
      },
      "source": [
        "import tensorflow as tf\r\n",
        "import numpy as np\r\n",
        "import pandas as pd"
      ],
      "execution_count": 1,
      "outputs": []
    },
    {
      "cell_type": "code",
      "metadata": {
        "colab": {
          "base_uri": "https://localhost:8080/",
          "height": 36
        },
        "id": "MJqgzk0hyqzv",
        "outputId": "71c0cd1b-e2eb-4f7b-e699-263e8724f466"
      },
      "source": [
        "tf.__version__"
      ],
      "execution_count": 2,
      "outputs": [
        {
          "output_type": "execute_result",
          "data": {
            "application/vnd.google.colaboratory.intrinsic+json": {
              "type": "string"
            },
            "text/plain": [
              "'2.4.1'"
            ]
          },
          "metadata": {
            "tags": []
          },
          "execution_count": 2
        }
      ]
    },
    {
      "cell_type": "code",
      "metadata": {
        "id": "Qr75v_UYJjvs"
      },
      "source": [
        "from keras.datasets import fashion_mnist\n",
        "(x_train, y_train), (x_test, y_test) = fashion_mnist.load_data()"
      ],
      "execution_count": 3,
      "outputs": []
    },
    {
      "cell_type": "markdown",
      "metadata": {
        "id": "hTI42-0qJjvw"
      },
      "source": [
        "### Find no.of samples are there in training and test datasets"
      ]
    },
    {
      "cell_type": "code",
      "metadata": {
        "id": "g2sf67VoJjvx",
        "colab": {
          "base_uri": "https://localhost:8080/"
        },
        "outputId": "96274baf-95e7-4a5c-cdc8-17261a080896"
      },
      "source": [
        "#Check number of training examples and size of each example\r\n",
        "x_train.shape"
      ],
      "execution_count": 4,
      "outputs": [
        {
          "output_type": "execute_result",
          "data": {
            "text/plain": [
              "(60000, 28, 28)"
            ]
          },
          "metadata": {
            "tags": []
          },
          "execution_count": 4
        }
      ]
    },
    {
      "cell_type": "code",
      "metadata": {
        "id": "zewyDcBlJjv1",
        "colab": {
          "base_uri": "https://localhost:8080/"
        },
        "outputId": "08675d8b-ccf2-43fd-bcee-7ff0e1ae967c"
      },
      "source": [
        "#Check number of test examples and size of each example\r\n",
        "x_test.shape"
      ],
      "execution_count": 5,
      "outputs": [
        {
          "output_type": "execute_result",
          "data": {
            "text/plain": [
              "(10000, 28, 28)"
            ]
          },
          "metadata": {
            "tags": []
          },
          "execution_count": 5
        }
      ]
    },
    {
      "cell_type": "markdown",
      "metadata": {
        "id": "WytT2eRnJjv4"
      },
      "source": [
        "### Find dimensions of an image in the dataset"
      ]
    },
    {
      "cell_type": "code",
      "metadata": {
        "id": "XycQGBSGJjv5",
        "colab": {
          "base_uri": "https://localhost:8080/"
        },
        "outputId": "8973eff9-4b4e-4461-e9db-2828405e2321"
      },
      "source": [
        "x_train[0].shape"
      ],
      "execution_count": 6,
      "outputs": [
        {
          "output_type": "execute_result",
          "data": {
            "text/plain": [
              "(28, 28)"
            ]
          },
          "metadata": {
            "tags": []
          },
          "execution_count": 6
        }
      ]
    },
    {
      "cell_type": "markdown",
      "metadata": {
        "id": "5jtdZ7RqJjv8"
      },
      "source": [
        "### Convert train and test labels to one hot vectors\n",
        "\n",
        "** check `keras.utils.to_categorical()` **"
      ]
    },
    {
      "cell_type": "code",
      "metadata": {
        "id": "sAD3q5I6Jjv9"
      },
      "source": [
        "y_train = tf.keras.utils.to_categorical(y_train)"
      ],
      "execution_count": 7,
      "outputs": []
    },
    {
      "cell_type": "code",
      "metadata": {
        "id": "mgHSCXy3JjwA"
      },
      "source": [
        "y_test = tf.keras.utils.to_categorical(y_test)"
      ],
      "execution_count": 8,
      "outputs": []
    },
    {
      "cell_type": "code",
      "metadata": {
        "colab": {
          "base_uri": "https://localhost:8080/"
        },
        "id": "dfpqeJ95zGo2",
        "outputId": "4ea4f701-4818-4426-851b-0d23aa97edc9"
      },
      "source": [
        "y_train"
      ],
      "execution_count": 9,
      "outputs": [
        {
          "output_type": "execute_result",
          "data": {
            "text/plain": [
              "array([[0., 0., 0., ..., 0., 0., 1.],\n",
              "       [1., 0., 0., ..., 0., 0., 0.],\n",
              "       [1., 0., 0., ..., 0., 0., 0.],\n",
              "       ...,\n",
              "       [0., 0., 0., ..., 0., 0., 0.],\n",
              "       [1., 0., 0., ..., 0., 0., 0.],\n",
              "       [0., 0., 0., ..., 0., 0., 0.]], dtype=float32)"
            ]
          },
          "metadata": {
            "tags": []
          },
          "execution_count": 9
        }
      ]
    },
    {
      "cell_type": "markdown",
      "metadata": {
        "id": "xO5BRBzBJjwD"
      },
      "source": [
        "### Normalize both the train and test image data from 0-255 to 0-1"
      ]
    },
    {
      "cell_type": "code",
      "metadata": {
        "id": "3fUQpMHxJjwE"
      },
      "source": [
        "x_train = x_train.astype('float32')\r\n",
        "x_test = x_test.astype('float32')"
      ],
      "execution_count": 10,
      "outputs": []
    },
    {
      "cell_type": "code",
      "metadata": {
        "id": "Okwo_SB5JjwI"
      },
      "source": [
        "x_train /= 255\r\n",
        "x_test /= 255"
      ],
      "execution_count": 11,
      "outputs": []
    },
    {
      "cell_type": "markdown",
      "metadata": {
        "id": "da5-DwgrJjwM"
      },
      "source": [
        "### Reshape the data from 28x28 to 28x28x1 to match input dimensions in Conv2D layer in keras"
      ]
    },
    {
      "cell_type": "code",
      "metadata": {
        "id": "LPGVQ-JJJjwN"
      },
      "source": [
        "x_train = x_train.reshape(x_train.shape[0],28,28,1)\r\n",
        "x_test = x_test.reshape(x_test.shape[0],28,28,1)"
      ],
      "execution_count": 12,
      "outputs": []
    },
    {
      "cell_type": "markdown",
      "metadata": {
        "id": "OFRRTJq8JjwQ"
      },
      "source": [
        "### Import the necessary layers from keras to build the model"
      ]
    },
    {
      "cell_type": "code",
      "metadata": {
        "id": "dWTZYnKSJjwR"
      },
      "source": [
        "#using tf alias for tensorflow"
      ],
      "execution_count": 13,
      "outputs": []
    },
    {
      "cell_type": "markdown",
      "metadata": {
        "id": "C18AoS7eJjwU"
      },
      "source": [
        "### Build a model \n",
        "\n",
        "** with 2 Conv layers having `32 3x3 filters` in both convolutions with `relu activations` and `flatten` before passing the feature map into 2 fully connected layers (or Dense Layers) having 128 and 10 neurons with `relu` and `softmax` activations respectively. Now, using `categorical_crossentropy` loss with `adam` optimizer train the model with early stopping `patience=5` and no.of `epochs=10`. **"
      ]
    },
    {
      "cell_type": "code",
      "metadata": {
        "id": "DORCLgSwJjwV"
      },
      "source": [
        "#Clear any existing model in memory\r\n",
        "tf.keras.backend.clear_session()\r\n",
        "\r\n",
        "#Initialize model\r\n",
        "model = tf.keras.models.Sequential()\r\n",
        "\r\n",
        "#Adding first convolutional layer\r\n",
        "model.add(tf.keras.layers.Conv2D(32, #Number of filters \r\n",
        "                                 kernel_size=(3,3), #Size of the filter\r\n",
        "                                 activation='relu',\r\n",
        "                                 input_shape=(28,28,1)))\r\n",
        "\r\n",
        "#Adding second convolutional layer\r\n",
        "model.add(tf.keras.layers.Conv2D(32, #Number of filters \r\n",
        "                                 kernel_size=(3,3), #Size of the filter\r\n",
        "                                 activation='relu', padding='same'))\r\n",
        "\r\n",
        "#Flatten the output\r\n",
        "model.add(tf.keras.layers.Flatten())\r\n",
        "\r\n",
        "#Dense layer\r\n",
        "model.add(tf.keras.layers.Dense(128, activation='relu'))\r\n",
        "\r\n",
        "#Output layer\r\n",
        "model.add(tf.keras.layers.Dense(10, activation='softmax'))\r\n",
        "\r\n",
        "model.compile(optimizer='adam', \r\n",
        "              loss='categorical_crossentropy', \r\n",
        "              metrics=['accuracy'])\r\n",
        "\r\n",
        "early_stopping = tf.keras.callbacks.EarlyStopping(monitor='val_accuracy', patience=5,verbose=1, mode='auto')\r\n",
        "callback_list = [early_stopping]"
      ],
      "execution_count": 14,
      "outputs": []
    },
    {
      "cell_type": "code",
      "metadata": {
        "colab": {
          "base_uri": "https://localhost:8080/"
        },
        "id": "uA5E-_N_-lGE",
        "outputId": "ac6e57f7-bd00-4933-e597-b156cee4752b"
      },
      "source": [
        "model.summary()"
      ],
      "execution_count": 15,
      "outputs": [
        {
          "output_type": "stream",
          "text": [
            "Model: \"sequential\"\n",
            "_________________________________________________________________\n",
            "Layer (type)                 Output Shape              Param #   \n",
            "=================================================================\n",
            "conv2d (Conv2D)              (None, 26, 26, 32)        320       \n",
            "_________________________________________________________________\n",
            "conv2d_1 (Conv2D)            (None, 26, 26, 32)        9248      \n",
            "_________________________________________________________________\n",
            "flatten (Flatten)            (None, 21632)             0         \n",
            "_________________________________________________________________\n",
            "dense (Dense)                (None, 128)               2769024   \n",
            "_________________________________________________________________\n",
            "dense_1 (Dense)              (None, 10)                1290      \n",
            "=================================================================\n",
            "Total params: 2,779,882\n",
            "Trainable params: 2,779,882\n",
            "Non-trainable params: 0\n",
            "_________________________________________________________________\n"
          ],
          "name": "stdout"
        }
      ]
    },
    {
      "cell_type": "code",
      "metadata": {
        "colab": {
          "base_uri": "https://localhost:8080/"
        },
        "id": "79lgiEvM4jGF",
        "outputId": "f887a645-d051-48a3-8bdb-e4be42f170e1"
      },
      "source": [
        "#Train the model\r\n",
        "model.fit(x_train,y_train,          \r\n",
        "          validation_data=(x_test,y_test),\r\n",
        "          epochs=10,\r\n",
        "          batch_size=500, callbacks = callback_list)"
      ],
      "execution_count": 16,
      "outputs": [
        {
          "output_type": "stream",
          "text": [
            "Epoch 1/10\n",
            "120/120 [==============================] - 4s 19ms/step - loss: 0.8430 - accuracy: 0.7224 - val_loss: 0.4116 - val_accuracy: 0.8548\n",
            "Epoch 2/10\n",
            "120/120 [==============================] - 2s 16ms/step - loss: 0.3452 - accuracy: 0.8772 - val_loss: 0.3245 - val_accuracy: 0.8850\n",
            "Epoch 3/10\n",
            "120/120 [==============================] - 2s 16ms/step - loss: 0.2713 - accuracy: 0.9012 - val_loss: 0.2973 - val_accuracy: 0.8914\n",
            "Epoch 4/10\n",
            "120/120 [==============================] - 2s 16ms/step - loss: 0.2360 - accuracy: 0.9164 - val_loss: 0.2729 - val_accuracy: 0.9021\n",
            "Epoch 5/10\n",
            "120/120 [==============================] - 2s 16ms/step - loss: 0.2060 - accuracy: 0.9262 - val_loss: 0.2616 - val_accuracy: 0.9080\n",
            "Epoch 6/10\n",
            "120/120 [==============================] - 2s 16ms/step - loss: 0.1708 - accuracy: 0.9380 - val_loss: 0.2690 - val_accuracy: 0.9031\n",
            "Epoch 7/10\n",
            "120/120 [==============================] - 2s 16ms/step - loss: 0.1573 - accuracy: 0.9428 - val_loss: 0.2628 - val_accuracy: 0.9083\n",
            "Epoch 8/10\n",
            "120/120 [==============================] - 2s 16ms/step - loss: 0.1344 - accuracy: 0.9508 - val_loss: 0.2540 - val_accuracy: 0.9135\n",
            "Epoch 9/10\n",
            "120/120 [==============================] - 2s 16ms/step - loss: 0.1187 - accuracy: 0.9583 - val_loss: 0.2571 - val_accuracy: 0.9145\n",
            "Epoch 10/10\n",
            "120/120 [==============================] - 2s 16ms/step - loss: 0.1020 - accuracy: 0.9649 - val_loss: 0.2658 - val_accuracy: 0.9127\n"
          ],
          "name": "stdout"
        },
        {
          "output_type": "execute_result",
          "data": {
            "text/plain": [
              "<tensorflow.python.keras.callbacks.History at 0x7ff1146c34e0>"
            ]
          },
          "metadata": {
            "tags": []
          },
          "execution_count": 16
        }
      ]
    },
    {
      "cell_type": "markdown",
      "metadata": {
        "id": "H9dJSpFXLH8V"
      },
      "source": [
        "## Inference:- This model is overfit."
      ]
    },
    {
      "cell_type": "markdown",
      "metadata": {
        "id": "ju69vKdIJjwX"
      },
      "source": [
        "### Now, to the above model add `max` pooling layer of `filter size 2x2` and `dropout` layer with `p=0.25` after the 2 conv layers and run the model"
      ]
    },
    {
      "cell_type": "code",
      "metadata": {
        "id": "L2hAP94vJjwY"
      },
      "source": [
        "#Clear any existing model in memory\r\n",
        "tf.keras.backend.clear_session()\r\n",
        "\r\n",
        "#Initialize model\r\n",
        "model = tf.keras.models.Sequential()\r\n",
        "\r\n",
        "#Adding first convolutional layer\r\n",
        "model.add(tf.keras.layers.Conv2D(32, #Number of filters \r\n",
        "                                 kernel_size=(3,3), #Size of the filter\r\n",
        "                                 activation='relu',\r\n",
        "                                 input_shape=(28,28,1)))\r\n",
        "\r\n",
        "#Adding second convolutional layer\r\n",
        "model.add(tf.keras.layers.Conv2D(32, #Number of filters \r\n",
        "                                 kernel_size=(3,3), #Size of the filter\r\n",
        "                                 activation='relu', padding='same'))\r\n",
        "#Add MaxPooling layer\r\n",
        "model.add(tf.keras.layers.MaxPool2D(pool_size=(2,2)))\r\n",
        "\r\n",
        "#Flatten the output\r\n",
        "model.add(tf.keras.layers.Flatten())\r\n",
        "\r\n",
        "#Dense layer\r\n",
        "model.add(tf.keras.layers.Dense(128, activation='relu'))\r\n",
        "\r\n",
        "#Add another dropout layer\r\n",
        "model.add(tf.keras.layers.Dropout(0.25))\r\n",
        "\r\n",
        "#Output layer\r\n",
        "model.add(tf.keras.layers.Dense(10, activation='softmax'))\r\n",
        "\r\n",
        "model.compile(optimizer='adam', \r\n",
        "              loss='categorical_crossentropy', \r\n",
        "              metrics=['accuracy'])\r\n",
        "\r\n",
        "early_stopping = tf.keras.callbacks.EarlyStopping(monitor='val_accuracy', patience=5,verbose=1, mode='auto')\r\n",
        "callback_list = [early_stopping]"
      ],
      "execution_count": 17,
      "outputs": []
    },
    {
      "cell_type": "code",
      "metadata": {
        "colab": {
          "base_uri": "https://localhost:8080/"
        },
        "id": "_UJJdGmrAKmx",
        "outputId": "793ad288-2335-4697-9064-68fb5e885b07"
      },
      "source": [
        "model.summary()"
      ],
      "execution_count": 18,
      "outputs": [
        {
          "output_type": "stream",
          "text": [
            "Model: \"sequential\"\n",
            "_________________________________________________________________\n",
            "Layer (type)                 Output Shape              Param #   \n",
            "=================================================================\n",
            "conv2d (Conv2D)              (None, 26, 26, 32)        320       \n",
            "_________________________________________________________________\n",
            "conv2d_1 (Conv2D)            (None, 26, 26, 32)        9248      \n",
            "_________________________________________________________________\n",
            "max_pooling2d (MaxPooling2D) (None, 13, 13, 32)        0         \n",
            "_________________________________________________________________\n",
            "flatten (Flatten)            (None, 5408)              0         \n",
            "_________________________________________________________________\n",
            "dense (Dense)                (None, 128)               692352    \n",
            "_________________________________________________________________\n",
            "dropout (Dropout)            (None, 128)               0         \n",
            "_________________________________________________________________\n",
            "dense_1 (Dense)              (None, 10)                1290      \n",
            "=================================================================\n",
            "Total params: 703,210\n",
            "Trainable params: 703,210\n",
            "Non-trainable params: 0\n",
            "_________________________________________________________________\n"
          ],
          "name": "stdout"
        }
      ]
    },
    {
      "cell_type": "code",
      "metadata": {
        "colab": {
          "base_uri": "https://localhost:8080/"
        },
        "id": "ZRdyd4_4ANKI",
        "outputId": "a14da201-6d89-4eaa-dcce-b47a81b156cf"
      },
      "source": [
        "#Train the model\r\n",
        "model.fit(x_train,y_train,          \r\n",
        "          validation_data=(x_test,y_test),\r\n",
        "          epochs=10,\r\n",
        "          batch_size=500, callbacks = callback_list)"
      ],
      "execution_count": 19,
      "outputs": [
        {
          "output_type": "stream",
          "text": [
            "Epoch 1/10\n",
            "120/120 [==============================] - 2s 15ms/step - loss: 0.9688 - accuracy: 0.6707 - val_loss: 0.4114 - val_accuracy: 0.8510\n",
            "Epoch 2/10\n",
            "120/120 [==============================] - 2s 14ms/step - loss: 0.3918 - accuracy: 0.8614 - val_loss: 0.3450 - val_accuracy: 0.8733\n",
            "Epoch 3/10\n",
            "120/120 [==============================] - 2s 14ms/step - loss: 0.3272 - accuracy: 0.8831 - val_loss: 0.3035 - val_accuracy: 0.8898\n",
            "Epoch 4/10\n",
            "120/120 [==============================] - 2s 14ms/step - loss: 0.2829 - accuracy: 0.8967 - val_loss: 0.2884 - val_accuracy: 0.8939\n",
            "Epoch 5/10\n",
            "120/120 [==============================] - 2s 14ms/step - loss: 0.2567 - accuracy: 0.9071 - val_loss: 0.2595 - val_accuracy: 0.9068\n",
            "Epoch 6/10\n",
            "120/120 [==============================] - 2s 14ms/step - loss: 0.2314 - accuracy: 0.9159 - val_loss: 0.2567 - val_accuracy: 0.9080\n",
            "Epoch 7/10\n",
            "120/120 [==============================] - 2s 14ms/step - loss: 0.2107 - accuracy: 0.9238 - val_loss: 0.2487 - val_accuracy: 0.9085\n",
            "Epoch 8/10\n",
            "120/120 [==============================] - 2s 14ms/step - loss: 0.2023 - accuracy: 0.9257 - val_loss: 0.2352 - val_accuracy: 0.9153\n",
            "Epoch 9/10\n",
            "120/120 [==============================] - 2s 14ms/step - loss: 0.1813 - accuracy: 0.9329 - val_loss: 0.2311 - val_accuracy: 0.9152\n",
            "Epoch 10/10\n",
            "120/120 [==============================] - 2s 14ms/step - loss: 0.1716 - accuracy: 0.9373 - val_loss: 0.2344 - val_accuracy: 0.9149\n"
          ],
          "name": "stdout"
        },
        {
          "output_type": "execute_result",
          "data": {
            "text/plain": [
              "<tensorflow.python.keras.callbacks.History at 0x7ff0b45ed518>"
            ]
          },
          "metadata": {
            "tags": []
          },
          "execution_count": 19
        }
      ]
    },
    {
      "cell_type": "markdown",
      "metadata": {
        "id": "kny49BFiK0yd"
      },
      "source": [
        "## Inferenc:- This model is overfit but better than the previous built model."
      ]
    },
    {
      "cell_type": "markdown",
      "metadata": {
        "id": "lGTA3bfEJjwa"
      },
      "source": [
        "### Now, to the above model, lets add Data Augmentation "
      ]
    },
    {
      "cell_type": "markdown",
      "metadata": {
        "id": "F6gX8n5SJjwb"
      },
      "source": [
        "### Import the ImageDataGenrator from keras and fit the training images"
      ]
    },
    {
      "cell_type": "code",
      "metadata": {
        "id": "Cbz4uHBuJjwc"
      },
      "source": [
        "#ImageDataGenerator declaration \r\n",
        "datagen = tf.keras.preprocessing.image.ImageDataGenerator(featurewise_center=False,  # set input mean to 0 over the dataset\r\n",
        "                                                               samplewise_center=False,  # set each sample mean to 0\r\n",
        "                                                               featurewise_std_normalization=False,  # divide inputs by std of the dataset\r\n",
        "                                                               samplewise_std_normalization=False,  # divide each input by its std\r\n",
        "                                                               zca_whitening=False,  # apply ZCA whitening\r\n",
        "                                                               rotation_range=50,  # randomly rotate images in the range (degrees, 0 to 180)\r\n",
        "                                                               width_shift_range=0.1,  # randomly shift images horizontally (fraction of total width)\r\n",
        "                                                               height_shift_range=0.1,  # randomly shift images vertically (fraction of total height)\r\n",
        "                                                               horizontal_flip=False,  # randomly flip images\r\n",
        "                                                               vertical_flip=False)  # randomly flip images)\r\n",
        "\r\n",
        "# Prepare the generator\r\n",
        "datagen.fit(x_train)"
      ],
      "execution_count": 20,
      "outputs": []
    },
    {
      "cell_type": "code",
      "metadata": {
        "id": "TZmxMjKhEcVk"
      },
      "source": [
        "#Clear any existing model in memory\r\n",
        "tf.keras.backend.clear_session()\r\n",
        "\r\n",
        "#Initialize model\r\n",
        "model = tf.keras.models.Sequential()\r\n",
        "\r\n",
        "#Adding first convolutional layer\r\n",
        "model.add(tf.keras.layers.Conv2D(32, #Number of filters \r\n",
        "                                 kernel_size=(3,3), #Size of the filter\r\n",
        "                                 activation='relu',\r\n",
        "                                 input_shape=(28,28,1)))\r\n",
        "\r\n",
        "#Adding second convolutional layer\r\n",
        "model.add(tf.keras.layers.Conv2D(32, #Number of filters \r\n",
        "                                 kernel_size=(3,3), #Size of the filter\r\n",
        "                                 activation='relu', padding='same'))\r\n",
        "#Add MaxPooling layer\r\n",
        "model.add(tf.keras.layers.MaxPool2D(pool_size=(2,2)))\r\n",
        "\r\n",
        "#Flatten the output\r\n",
        "model.add(tf.keras.layers.Flatten())\r\n",
        "\r\n",
        "#Dense layer\r\n",
        "model.add(tf.keras.layers.Dense(128, activation='relu'))\r\n",
        "\r\n",
        "#Add another dropout layer\r\n",
        "model.add(tf.keras.layers.Dropout(0.25))\r\n",
        "\r\n",
        "#Output layer\r\n",
        "model.add(tf.keras.layers.Dense(10, activation='softmax'))\r\n",
        "\r\n",
        "model.compile(optimizer='adam', \r\n",
        "              loss='categorical_crossentropy', \r\n",
        "              metrics=['accuracy'])\r\n",
        "\r\n",
        "early_stopping = tf.keras.callbacks.EarlyStopping(monitor='val_accuracy', patience=5,verbose=1, mode='auto')\r\n",
        "callback_list = [early_stopping]"
      ],
      "execution_count": 21,
      "outputs": []
    },
    {
      "cell_type": "code",
      "metadata": {
        "colab": {
          "base_uri": "https://localhost:8080/"
        },
        "id": "3vq0OjkoEoUu",
        "outputId": "7564c1ff-6eda-4a6f-f4a3-851ca799a1b0"
      },
      "source": [
        "model.summary()"
      ],
      "execution_count": 22,
      "outputs": [
        {
          "output_type": "stream",
          "text": [
            "Model: \"sequential\"\n",
            "_________________________________________________________________\n",
            "Layer (type)                 Output Shape              Param #   \n",
            "=================================================================\n",
            "conv2d (Conv2D)              (None, 26, 26, 32)        320       \n",
            "_________________________________________________________________\n",
            "conv2d_1 (Conv2D)            (None, 26, 26, 32)        9248      \n",
            "_________________________________________________________________\n",
            "max_pooling2d (MaxPooling2D) (None, 13, 13, 32)        0         \n",
            "_________________________________________________________________\n",
            "flatten (Flatten)            (None, 5408)              0         \n",
            "_________________________________________________________________\n",
            "dense (Dense)                (None, 128)               692352    \n",
            "_________________________________________________________________\n",
            "dropout (Dropout)            (None, 128)               0         \n",
            "_________________________________________________________________\n",
            "dense_1 (Dense)              (None, 10)                1290      \n",
            "=================================================================\n",
            "Total params: 703,210\n",
            "Trainable params: 703,210\n",
            "Non-trainable params: 0\n",
            "_________________________________________________________________\n"
          ],
          "name": "stdout"
        }
      ]
    },
    {
      "cell_type": "code",
      "metadata": {
        "colab": {
          "base_uri": "https://localhost:8080/"
        },
        "id": "2RRA8kpuEo8k",
        "outputId": "363057c9-8312-4b9e-d785-82c20b9b8a2d"
      },
      "source": [
        "#Train the model\r\n",
        "model.fit_generator(datagen.flow(x_train,y_train,batch_size=32),\r\n",
        "                    steps_per_epoch=x_train.shape[0]/32,\r\n",
        "                    epochs=10,\r\n",
        "                    validation_data=(x_test,y_test),\r\n",
        "                    callbacks = callback_list)"
      ],
      "execution_count": 23,
      "outputs": [
        {
          "output_type": "stream",
          "text": [
            "Epoch 1/10\n"
          ],
          "name": "stdout"
        },
        {
          "output_type": "stream",
          "text": [
            "/usr/local/lib/python3.6/dist-packages/tensorflow/python/keras/engine/training.py:1844: UserWarning: `Model.fit_generator` is deprecated and will be removed in a future version. Please use `Model.fit`, which supports generators.\n",
            "  warnings.warn('`Model.fit_generator` is deprecated and '\n"
          ],
          "name": "stderr"
        },
        {
          "output_type": "stream",
          "text": [
            "1875/1875 [==============================] - 18s 10ms/step - loss: 1.0361 - accuracy: 0.6158 - val_loss: 0.5625 - val_accuracy: 0.7817\n",
            "Epoch 2/10\n",
            "1875/1875 [==============================] - 18s 10ms/step - loss: 0.6463 - accuracy: 0.7574 - val_loss: 0.5062 - val_accuracy: 0.8170\n",
            "Epoch 3/10\n",
            "1875/1875 [==============================] - 18s 9ms/step - loss: 0.5725 - accuracy: 0.7869 - val_loss: 0.4656 - val_accuracy: 0.8273\n",
            "Epoch 4/10\n",
            "1875/1875 [==============================] - 18s 9ms/step - loss: 0.5149 - accuracy: 0.8062 - val_loss: 0.4211 - val_accuracy: 0.8451\n",
            "Epoch 5/10\n",
            "1875/1875 [==============================] - 18s 9ms/step - loss: 0.4895 - accuracy: 0.8182 - val_loss: 0.4013 - val_accuracy: 0.8569\n",
            "Epoch 6/10\n",
            "1875/1875 [==============================] - 18s 9ms/step - loss: 0.4659 - accuracy: 0.8256 - val_loss: 0.4008 - val_accuracy: 0.8589\n",
            "Epoch 7/10\n",
            "1875/1875 [==============================] - 18s 9ms/step - loss: 0.4450 - accuracy: 0.8339 - val_loss: 0.4162 - val_accuracy: 0.8495\n",
            "Epoch 8/10\n",
            "1875/1875 [==============================] - 18s 9ms/step - loss: 0.4411 - accuracy: 0.8387 - val_loss: 0.3822 - val_accuracy: 0.8659\n",
            "Epoch 9/10\n",
            "1875/1875 [==============================] - 18s 9ms/step - loss: 0.4255 - accuracy: 0.8436 - val_loss: 0.3691 - val_accuracy: 0.8677\n",
            "Epoch 10/10\n",
            "1875/1875 [==============================] - 18s 10ms/step - loss: 0.4218 - accuracy: 0.8444 - val_loss: 0.3757 - val_accuracy: 0.8660\n"
          ],
          "name": "stdout"
        },
        {
          "output_type": "execute_result",
          "data": {
            "text/plain": [
              "<tensorflow.python.keras.callbacks.History at 0x7ff0b4cb8128>"
            ]
          },
          "metadata": {
            "tags": []
          },
          "execution_count": 23
        }
      ]
    },
    {
      "cell_type": "markdown",
      "metadata": {
        "id": "5gU8JZYFKd9O"
      },
      "source": [
        "##Inference:- This model is underfit."
      ]
    },
    {
      "cell_type": "markdown",
      "metadata": {
        "id": "pl-8dOo7Jjwf"
      },
      "source": [
        "#### Showing 5 versions of the first image in training dataset using image datagenerator.flow()"
      ]
    },
    {
      "cell_type": "code",
      "metadata": {
        "scrolled": true,
        "id": "DpI1_McYJjwg",
        "colab": {
          "base_uri": "https://localhost:8080/",
          "height": 89
        },
        "outputId": "421bb47b-f4f8-4343-c747-5356ec29c558"
      },
      "source": [
        "from matplotlib import pyplot as plt\n",
        "gen = datagen.flow(x_train[0:1], batch_size=1)\n",
        "for i in range(1, 6):\n",
        "    plt.subplot(1,5,i)\n",
        "    plt.axis(\"off\")\n",
        "    plt.imshow(gen.next().squeeze(), cmap='gray')\n",
        "    plt.plot()\n",
        "plt.show()"
      ],
      "execution_count": 24,
      "outputs": [
        {
          "output_type": "display_data",
          "data": {
            "image/png": "[encoded data removed]",
            "text/plain": [
              "<Figure size 432x288 with 5 Axes>"
            ]
          },
          "metadata": {
            "tags": [],
            "needs_background": "light"
          }
        }
      ]
    },
    {
      "cell_type": "markdown",
      "metadata": {
        "id": "dmPl5yE8Jjwm"
      },
      "source": [
        "### Run the above model using fit_generator()"
      ]
    },
    {
      "cell_type": "code",
      "metadata": {
        "id": "44ZnDdJYJjwn"
      },
      "source": [
        "#Clear any existing model in memory\r\n",
        "tf.keras.backend.clear_session()\r\n",
        "\r\n",
        "#Initialize model\r\n",
        "model = tf.keras.models.Sequential()\r\n",
        "\r\n",
        "#Adding first convolutional layer\r\n",
        "model.add(tf.keras.layers.Conv2D(32, #Number of filters \r\n",
        "                                 kernel_size=(3,3), #Size of the filter\r\n",
        "                                 activation='relu',\r\n",
        "                                 input_shape=(28,28,1)))\r\n",
        "\r\n",
        "#Add MaxPooling layer 1\r\n",
        "model.add(tf.keras.layers.MaxPool2D(pool_size=(2,2)))\r\n",
        "\r\n",
        "#Adding second convolutional layer\r\n",
        "model.add(tf.keras.layers.Conv2D(32, #Number of filters \r\n",
        "                                 kernel_size=(3,3), #Size of the filter\r\n",
        "                                 activation='relu', padding='same'))\r\n",
        "\r\n",
        "#Add MaxPooling layer 2\r\n",
        "model.add(tf.keras.layers.MaxPool2D(pool_size=(2,2)))\r\n",
        "\r\n",
        "#Add dropout layer\r\n",
        "model.add(tf.keras.layers.Dropout(0.25))\r\n",
        "\r\n",
        "#Flatten the output\r\n",
        "model.add(tf.keras.layers.Flatten())\r\n",
        "\r\n",
        "#Dense layer 1\r\n",
        "model.add(tf.keras.layers.Dense(256, activation='relu'))\r\n",
        "\r\n",
        "#Dense layer 2\r\n",
        "model.add(tf.keras.layers.Dense(512, activation='relu'))\r\n",
        "\r\n",
        "#Dense layer 3\r\n",
        "model.add(tf.keras.layers.Dense(1024, activation='relu'))\r\n",
        "\r\n",
        "#Add anoter dropout layer\r\n",
        "model.add(tf.keras.layers.Dropout(0.25))\r\n",
        "\r\n",
        "#Output layer\r\n",
        "model.add(tf.keras.layers.Dense(10, activation='softmax'))\r\n",
        "\r\n",
        "model.compile(optimizer='adam', \r\n",
        "              loss='categorical_crossentropy', \r\n",
        "              metrics=['accuracy'])\r\n",
        "\r\n",
        "early_stopping = tf.keras.callbacks.EarlyStopping(monitor='val_accuracy', patience=5,verbose=1, mode='auto')\r\n",
        "callback_list = [early_stopping]"
      ],
      "execution_count": 25,
      "outputs": []
    },
    {
      "cell_type": "code",
      "metadata": {
        "colab": {
          "base_uri": "https://localhost:8080/"
        },
        "id": "ZubfwYsmKBr4",
        "outputId": "d967df69-3642-47c8-c3e1-594c1285cfe5"
      },
      "source": [
        "model.summary()"
      ],
      "execution_count": 26,
      "outputs": [
        {
          "output_type": "stream",
          "text": [
            "Model: \"sequential\"\n",
            "_________________________________________________________________\n",
            "Layer (type)                 Output Shape              Param #   \n",
            "=================================================================\n",
            "conv2d (Conv2D)              (None, 26, 26, 32)        320       \n",
            "_________________________________________________________________\n",
            "max_pooling2d (MaxPooling2D) (None, 13, 13, 32)        0         \n",
            "_________________________________________________________________\n",
            "conv2d_1 (Conv2D)            (None, 13, 13, 32)        9248      \n",
            "_________________________________________________________________\n",
            "max_pooling2d_1 (MaxPooling2 (None, 6, 6, 32)          0         \n",
            "_________________________________________________________________\n",
            "dropout (Dropout)            (None, 6, 6, 32)          0         \n",
            "_________________________________________________________________\n",
            "flatten (Flatten)            (None, 1152)              0         \n",
            "_________________________________________________________________\n",
            "dense (Dense)                (None, 256)               295168    \n",
            "_________________________________________________________________\n",
            "dense_1 (Dense)              (None, 512)               131584    \n",
            "_________________________________________________________________\n",
            "dense_2 (Dense)              (None, 1024)              525312    \n",
            "_________________________________________________________________\n",
            "dropout_1 (Dropout)          (None, 1024)              0         \n",
            "_________________________________________________________________\n",
            "dense_3 (Dense)              (None, 10)                10250     \n",
            "=================================================================\n",
            "Total params: 971,882\n",
            "Trainable params: 971,882\n",
            "Non-trainable params: 0\n",
            "_________________________________________________________________\n"
          ],
          "name": "stdout"
        }
      ]
    },
    {
      "cell_type": "code",
      "metadata": {
        "colab": {
          "base_uri": "https://localhost:8080/"
        },
        "id": "UIONwlUkKCYF",
        "outputId": "c8c1e10d-4ae9-4fc6-f00a-9000d9098108"
      },
      "source": [
        "#Train the model\r\n",
        "model.fit_generator(datagen.flow(x_train,y_train,batch_size=64),\r\n",
        "                    steps_per_epoch=x_train.shape[0]/64,\r\n",
        "                    epochs=20,\r\n",
        "                    validation_data=(x_test,y_test),\r\n",
        "                    callbacks = callback_list)"
      ],
      "execution_count": 27,
      "outputs": [
        {
          "output_type": "stream",
          "text": [
            "Epoch 1/20\n"
          ],
          "name": "stdout"
        },
        {
          "output_type": "stream",
          "text": [
            "/usr/local/lib/python3.6/dist-packages/tensorflow/python/keras/engine/training.py:1844: UserWarning: `Model.fit_generator` is deprecated and will be removed in a future version. Please use `Model.fit`, which supports generators.\n",
            "  warnings.warn('`Model.fit_generator` is deprecated and '\n"
          ],
          "name": "stderr"
        },
        {
          "output_type": "stream",
          "text": [
            "937/937 [==============================] - 15s 16ms/step - loss: 1.0588 - accuracy: 0.5947 - val_loss: 0.6113 - val_accuracy: 0.7558\n",
            "Epoch 2/20\n",
            "937/937 [==============================] - 15s 16ms/step - loss: 0.6140 - accuracy: 0.7620 - val_loss: 0.4589 - val_accuracy: 0.8232\n",
            "Epoch 3/20\n",
            "937/937 [==============================] - 15s 16ms/step - loss: 0.5418 - accuracy: 0.7936 - val_loss: 0.4718 - val_accuracy: 0.8307\n",
            "Epoch 4/20\n",
            "937/937 [==============================] - 15s 16ms/step - loss: 0.4963 - accuracy: 0.8098 - val_loss: 0.4073 - val_accuracy: 0.8507\n",
            "Epoch 5/20\n",
            "937/937 [==============================] - 15s 16ms/step - loss: 0.4703 - accuracy: 0.8219 - val_loss: 0.3958 - val_accuracy: 0.8562\n",
            "Epoch 6/20\n",
            "937/937 [==============================] - 15s 16ms/step - loss: 0.4461 - accuracy: 0.8307 - val_loss: 0.3907 - val_accuracy: 0.8566\n",
            "Epoch 7/20\n",
            "937/937 [==============================] - 15s 16ms/step - loss: 0.4342 - accuracy: 0.8363 - val_loss: 0.3764 - val_accuracy: 0.8599\n",
            "Epoch 8/20\n",
            "937/937 [==============================] - 15s 16ms/step - loss: 0.4191 - accuracy: 0.8421 - val_loss: 0.3675 - val_accuracy: 0.8660\n",
            "Epoch 9/20\n",
            "937/937 [==============================] - 15s 16ms/step - loss: 0.4072 - accuracy: 0.8462 - val_loss: 0.3709 - val_accuracy: 0.8608\n",
            "Epoch 10/20\n",
            "937/937 [==============================] - 15s 16ms/step - loss: 0.3987 - accuracy: 0.8494 - val_loss: 0.3627 - val_accuracy: 0.8637\n",
            "Epoch 11/20\n",
            "937/937 [==============================] - 15s 16ms/step - loss: 0.3915 - accuracy: 0.8541 - val_loss: 0.3538 - val_accuracy: 0.8668\n",
            "Epoch 12/20\n",
            "937/937 [==============================] - 15s 16ms/step - loss: 0.3832 - accuracy: 0.8585 - val_loss: 0.3548 - val_accuracy: 0.8697\n",
            "Epoch 13/20\n",
            "937/937 [==============================] - 15s 16ms/step - loss: 0.3836 - accuracy: 0.8551 - val_loss: 0.3383 - val_accuracy: 0.8746\n",
            "Epoch 14/20\n",
            "937/937 [==============================] - 14s 15ms/step - loss: 0.3799 - accuracy: 0.8558 - val_loss: 0.3313 - val_accuracy: 0.8789\n",
            "Epoch 15/20\n",
            "937/937 [==============================] - 15s 16ms/step - loss: 0.3758 - accuracy: 0.8603 - val_loss: 0.3295 - val_accuracy: 0.8725\n",
            "Epoch 16/20\n",
            "937/937 [==============================] - 15s 16ms/step - loss: 0.3587 - accuracy: 0.8665 - val_loss: 0.3461 - val_accuracy: 0.8693\n",
            "Epoch 17/20\n",
            "937/937 [==============================] - 15s 16ms/step - loss: 0.3668 - accuracy: 0.8639 - val_loss: 0.3223 - val_accuracy: 0.8843\n",
            "Epoch 18/20\n",
            "937/937 [==============================] - 15s 16ms/step - loss: 0.3540 - accuracy: 0.8681 - val_loss: 0.3558 - val_accuracy: 0.8704\n",
            "Epoch 19/20\n",
            "937/937 [==============================] - 15s 16ms/step - loss: 0.3530 - accuracy: 0.8684 - val_loss: 0.3350 - val_accuracy: 0.8742\n",
            "Epoch 20/20\n",
            "937/937 [==============================] - 15s 16ms/step - loss: 0.3486 - accuracy: 0.8685 - val_loss: 0.3523 - val_accuracy: 0.8678\n"
          ],
          "name": "stdout"
        },
        {
          "output_type": "execute_result",
          "data": {
            "text/plain": [
              "<tensorflow.python.keras.callbacks.History at 0x7ff0b4745978>"
            ]
          },
          "metadata": {
            "tags": []
          },
          "execution_count": 27
        }
      ]
    },
    {
      "cell_type": "markdown",
      "metadata": {
        "id": "CSbvlAOJdobF"
      },
      "source": [
        "## Inference:-This model is neither underfit nor overfit. Its just about right. But the accuracy is not that high. It can be improved with further tuning and transfer learning."
      ]
    },
    {
      "cell_type": "markdown",
      "metadata": {
        "id": "MwQQW5iOJjwq"
      },
      "source": [
        "###  Report the final train and validation accuracy"
      ]
    },
    {
      "cell_type": "code",
      "metadata": {
        "id": "c1SrtBEPJjwq",
        "colab": {
          "base_uri": "https://localhost:8080/"
        },
        "outputId": "a94c87b0-5cfc-4a2a-fc28-12716691fbd8"
      },
      "source": [
        "print(\"Train accuracy:\", model.evaluate(x_train,y_train)[1])"
      ],
      "execution_count": 28,
      "outputs": [
        {
          "output_type": "stream",
          "text": [
            "1875/1875 [==============================] - 4s 2ms/step - loss: 0.3120 - accuracy: 0.8809\n",
            "Train accuracy: 0.8808500170707703\n"
          ],
          "name": "stdout"
        }
      ]
    },
    {
      "cell_type": "code",
      "metadata": {
        "id": "ZBwVWNQC2qZD",
        "colab": {
          "base_uri": "https://localhost:8080/"
        },
        "outputId": "e2d1440f-add5-43da-e8fd-8a355d7a8aef"
      },
      "source": [
        "print(\"Test accuracy:\", model.evaluate(x_test,y_test)[1])"
      ],
      "execution_count": 29,
      "outputs": [
        {
          "output_type": "stream",
          "text": [
            "313/313 [==============================] - 1s 2ms/step - loss: 0.3523 - accuracy: 0.8678\n",
            "Test accuracy: 0.8677999973297119\n"
          ],
          "name": "stdout"
        }
      ]
    },
    {
      "cell_type": "markdown",
      "metadata": {
        "id": "8KXqmUDW2rM1"
      },
      "source": [
        "## **DATA AUGMENTATION ON CIFAR10 DATASET**"
      ]
    },
    {
      "cell_type": "markdown",
      "metadata": {
        "id": "8mja6OgQ3L18"
      },
      "source": [
        "One of the best ways to improve the performance of a Deep Learning model is to add more data to the training set. Aside from gathering more instances from the wild that are representative of the distinction task, we want to develop a set of methods that enhance the data we already have. There are many ways to augment existing datasets and produce more robust models. In the image domain, these are done to utilize the full power of the convolutional neural network, which is able to capture translational invariance. This translational invariance is what makes image recognition such a difficult task in the first place. You want the dataset to be representative of the many different positions, angles, lightings, and miscellaneous distortions that are of interest to the vision task."
      ]
    },
    {
      "cell_type": "markdown",
      "metadata": {
        "id": "6HzVTPUM3WZJ"
      },
      "source": [
        "### **Import neessary libraries for data augmentation**"
      ]
    },
    {
      "cell_type": "code",
      "metadata": {
        "id": "PPM558TX4KMb"
      },
      "source": [
        "from keras.datasets import cifar10"
      ],
      "execution_count": 30,
      "outputs": []
    },
    {
      "cell_type": "markdown",
      "metadata": {
        "id": "W6hicLwP4SqY"
      },
      "source": [
        "### **Load CIFAR10 dataset**"
      ]
    },
    {
      "cell_type": "code",
      "metadata": {
        "id": "NQ1WzrXd4WNk"
      },
      "source": [
        "(x_train_c, y_train_c), (x_test_c, y_test_c) = cifar10.load_data()"
      ],
      "execution_count": 31,
      "outputs": []
    },
    {
      "cell_type": "code",
      "metadata": {
        "id": "R9Pht1ggHuiT",
        "colab": {
          "base_uri": "https://localhost:8080/"
        },
        "outputId": "f75a16f9-e4b6-4459-a752-8e3b56ba63ba"
      },
      "source": [
        "x_train_c.shape"
      ],
      "execution_count": 32,
      "outputs": [
        {
          "output_type": "execute_result",
          "data": {
            "text/plain": [
              "(50000, 32, 32, 3)"
            ]
          },
          "metadata": {
            "tags": []
          },
          "execution_count": 32
        }
      ]
    },
    {
      "cell_type": "code",
      "metadata": {
        "id": "3n28ccU6Hp6s",
        "colab": {
          "base_uri": "https://localhost:8080/"
        },
        "outputId": "8dc7dc69-a6df-49de-b642-bd5e80947b8e"
      },
      "source": [
        "x_test_c.shape"
      ],
      "execution_count": 33,
      "outputs": [
        {
          "output_type": "execute_result",
          "data": {
            "text/plain": [
              "(10000, 32, 32, 3)"
            ]
          },
          "metadata": {
            "tags": []
          },
          "execution_count": 33
        }
      ]
    },
    {
      "cell_type": "markdown",
      "metadata": {
        "id": "JN3vYYhK4W0u"
      },
      "source": [
        "### **Create a data_gen funtion to genererator with image rotation,shifting image horizontally and vertically with random flip horizontally.**"
      ]
    },
    {
      "cell_type": "code",
      "metadata": {
        "id": "JJbekTKi4cmM"
      },
      "source": [
        "#ImageDataGenerator declaration \r\n",
        "datagen_c = tf.keras.preprocessing.image.ImageDataGenerator(rotation_range=50,  # randomly rotate images in the range (degrees, 0 to 180)\r\n",
        "                                                          width_shift_range=0.1,  # randomly shift images horizontally (fraction of total width)\r\n",
        "                                                          height_shift_range=0.1,  # randomly shift images vertically (fraction of total height)\r\n",
        "                                                          horizontal_flip=True,  # randomly flip images\r\n",
        "                                                          vertical_flip=False)  # randomly flip images)"
      ],
      "execution_count": 34,
      "outputs": []
    },
    {
      "cell_type": "code",
      "metadata": {
        "id": "famXQ8MvNYaB"
      },
      "source": [
        "x_train_c = x_train_c.astype('float32')\r\n",
        "x_test_c = x_test_c.astype('float32')\r\n",
        "\r\n",
        "#Normalization \r\n",
        "x_train_c /=255\r\n",
        "x_test_c /=255\r\n",
        "\r\n",
        "#Reshaping the images\r\n",
        "x_train_c = x_train_c.reshape(x_train_c.shape[0],32,32,3)\r\n",
        "x_test_c = x_test_c.reshape(x_test_c.shape[0],32,32,3)"
      ],
      "execution_count": 35,
      "outputs": []
    },
    {
      "cell_type": "markdown",
      "metadata": {
        "id": "e-SLtUhC4dK2"
      },
      "source": [
        "### **Prepare/fit the generator.**"
      ]
    },
    {
      "cell_type": "code",
      "metadata": {
        "id": "CSw8Bv2_4hb0"
      },
      "source": [
        "# Prepare the generator\r\n",
        "datagen_c.fit(x_train_c)                                                          "
      ],
      "execution_count": 36,
      "outputs": []
    },
    {
      "cell_type": "markdown",
      "metadata": {
        "id": "gYyF-P8O4jQ8"
      },
      "source": [
        "### **Generate 5 images for 1 of the image of CIFAR10 train dataset.**"
      ]
    },
    {
      "cell_type": "code",
      "metadata": {
        "id": "mXug4z234mwQ",
        "colab": {
          "base_uri": "https://localhost:8080/",
          "height": 89
        },
        "outputId": "dc041b78-a31f-44f8-966a-edcbca486562"
      },
      "source": [
        "from matplotlib import pyplot as plt\r\n",
        "gen = datagen_c.flow(x_train_c[4:5], batch_size=1)\r\n",
        "for i in range(1, 6):\r\n",
        "    plt.subplot(1,5,i)\r\n",
        "    plt.axis(\"off\")\r\n",
        "    plt.imshow(gen.next().squeeze(), cmap='gray')\r\n",
        "    plt.plot()\r\n",
        "plt.show()"
      ],
      "execution_count": 37,
      "outputs": [
        {
          "output_type": "display_data",
          "data": {
            "image/png": "[encoded data removed]",
            "text/plain": [
              "<Figure size 432x288 with 5 Axes>"
            ]
          },
          "metadata": {
            "tags": [],
            "needs_background": "light"
          }
        }
      ]
    }
  ]
}