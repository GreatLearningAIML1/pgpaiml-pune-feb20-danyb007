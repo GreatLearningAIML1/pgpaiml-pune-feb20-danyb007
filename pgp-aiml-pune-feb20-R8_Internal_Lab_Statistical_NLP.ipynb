{
  "nbformat": 4,
  "nbformat_minor": 0,
  "metadata": {
    "colab": {
      "name": "R8 Internal Lab Question Notebook.ipynb",
      "provenance": [],
      "collapsed_sections": []
    },
    "kernelspec": {
      "name": "python3",
      "display_name": "Python 3"
    }
  },
  "cells": [
    {
      "cell_type": "markdown",
      "metadata": {
        "id": "PHYs6Z84xV8E"
      },
      "source": [
        "<img src=\"http://drive.google.com/uc?export=view&id=1tpOCamr9aWz817atPnyXus8w5gJ3mIts\" width=500px>\n",
        "\n",
        "Proprietary content. © Great Learning. All Rights Reserved. Unauthorized use or distribution prohibited."
      ]
    },
    {
      "cell_type": "markdown",
      "metadata": {
        "id": "5QQxgAmWzSye"
      },
      "source": [
        "# Mobile Phone Review Analysis"
      ]
    },
    {
      "cell_type": "markdown",
      "metadata": {
        "id": "FbwHYUXhxaqD"
      },
      "source": [
        "## Context\n",
        "\n",
        "The product companies can utilize the detailed review comments to gather insights from the end user. Most of the products are sold via e-commerce sites like Flipkart or Amazon where customers can buy a product and give their review about the product on the web site. \n",
        "Product managers can identify the relevant reviews from the website and run a sentiment analysis tool to understand what the sentiments of the customer are. Based on their sentiments, they can identify what users think of the current product. Are they happy? Discontent? \n",
        "They can also come up with a document that lists the features, the team needs to focus on for making the product better. \n",
        "\n",
        "## Objective\n",
        "\n",
        "Given the review data rating label, we will try to get insights about various brands and their ratings using text analytics and build a model to predict the rating and overall sentiment. \n"
      ]
    },
    {
      "cell_type": "markdown",
      "metadata": {
        "id": "CI7usguRzeox"
      },
      "source": [
        "### Package version\n",
        "\n",
        "- tensorflow==2.3.0\n",
        "- scikit-learn==0.22.2.post1\n",
        "- pandas==1.0.5\n",
        "- numpy==1.18.5\n",
        "- matplotlib==3.2.2\n",
        "- google==2.0.3"
      ]
    },
    {
      "cell_type": "markdown",
      "metadata": {
        "id": "aiMdVjHRH7NR"
      },
      "source": [
        "### Data Dictionary \n",
        "\n",
        "product_data.csv - contains product details\n",
        "- 'asin',  - Product ASIN\n",
        "- 'brand', - Product Brand\n",
        "- 'title', - Product Title\n",
        "- 'url',  - Product URL\n",
        "- 'image', - Product Image URL\n",
        "- 'rating',- Product Avg. Rating\n",
        "- 'reviewUrl' - Product Review Page URL\n",
        "- 'totalReviews' - Product Total Reviews\n",
        "- ‘price’ - Product Price ($)\n",
        "- ‘originalPrice’ - Product Original Price ($)\n",
        " \n",
        "reviews.csv  - contains user review details\n",
        " \n",
        "- 'asin' - Product ASIN\n",
        "- 'name' - Reviewer Name\n",
        "- 'rating' - Reviewer Rating (scale 1 to 5)\n",
        "- 'date'  - Review Date\n",
        "- 'verified' - Valid Customer\n",
        "- 'title'  - Review Title\n",
        "- 'body'  - Review Content\n",
        "- 'helpfulVotes  - Helpful Feedbacks\n"
      ]
    },
    {
      "cell_type": "markdown",
      "metadata": {
        "id": "cEn52o8jznJK"
      },
      "source": [
        "## Table of Content\n",
        "\n",
        "1. Import Libraries\n",
        "\n",
        "2. Setting options\n",
        "\n",
        "3. Read Data\n",
        "\n",
        "4. Data Analysis and EDA\n",
        "\n",
        "5. Text preprocessing and Vectorization\n",
        "\n",
        "6. Model building\n",
        "\n",
        "7. Conclusion and Interpretation"
      ]
    },
    {
      "cell_type": "markdown",
      "metadata": {
        "id": "x_Lom6cXzqn7"
      },
      "source": [
        "## 1. Import Libraries"
      ]
    },
    {
      "cell_type": "markdown",
      "metadata": {
        "id": "FZtVstH8zre2"
      },
      "source": [
        "Let us start by mounting the drive"
      ]
    },
    {
      "cell_type": "code",
      "metadata": {
        "id": "xv9jxv3-R5Xl",
        "colab": {
          "base_uri": "https://localhost:8080/"
        },
        "outputId": "710becbe-c03c-487c-8d04-e549b3c7943a"
      },
      "source": [
        "from google.colab import drive\n",
        "drive.mount('/content/drive')"
      ],
      "execution_count": 1,
      "outputs": [
        {
          "output_type": "stream",
          "text": [
            "Drive already mounted at /content/drive; to attempt to forcibly remount, call drive.mount(\"/content/drive\", force_remount=True).\n"
          ],
          "name": "stdout"
        }
      ]
    },
    {
      "cell_type": "markdown",
      "metadata": {
        "id": "Gv-tZoFjz2WD"
      },
      "source": [
        "Let us check for the version of installed tensorflow."
      ]
    },
    {
      "cell_type": "code",
      "metadata": {
        "id": "eiuUVBuDzzn9",
        "colab": {
          "base_uri": "https://localhost:8080/"
        },
        "outputId": "e3138d65-51ea-4659-8a37-96fbe4dd0dec"
      },
      "source": [
        "# used to supress display of warnings\n",
        "import warnings\n",
        "\n",
        "# os is used to provide a way of using operating system dependent functionality\n",
        "# We use it for setting working folder\n",
        "import os\n",
        "\n",
        "# Pandas is used for data manipulation and analysis\n",
        "import pandas as pd \n",
        "\n",
        "# Numpy is used for large, multi-dimensional arrays and matrices, along with mathematical operators on these arrays\n",
        "import numpy as np\n",
        "\n",
        "# Matplotlib is a data visualization library for 2D plots of arrays, built on NumPy arrays \n",
        "# and designed to work with the broader SciPy stack\n",
        "import matplotlib.pyplot as plt\n",
        "%matplotlib inline\n",
        "from matplotlib import pyplot\n",
        "\n",
        "# Seaborn is based on matplotlib, which aids in drawing attractive and informative statistical graphics.\n",
        "import seaborn as sns\n",
        "import tensorflow \n",
        "print(tensorflow.__version__)"
      ],
      "execution_count": 2,
      "outputs": [
        {
          "output_type": "stream",
          "text": [
            "2.4.1\n"
          ],
          "name": "stdout"
        }
      ]
    },
    {
      "cell_type": "markdown",
      "metadata": {
        "id": "fze-aokU0ukH"
      },
      "source": [
        "## 2. Setting Options"
      ]
    },
    {
      "cell_type": "code",
      "metadata": {
        "id": "T3FALggG0xXa"
      },
      "source": [
        "# suppress display of warnings\n",
        "warnings.filterwarnings('ignore')\n",
        "\n",
        "# display all dataframe columns\n",
        "pd.options.display.max_columns = None\n",
        "\n",
        "# to set the limit to 3 decimals\n",
        "pd.options.display.float_format = '{:.7f}'.format\n",
        "\n",
        "# display all dataframe rows\n",
        "pd.options.display.max_rows = None"
      ],
      "execution_count": 3,
      "outputs": []
    },
    {
      "cell_type": "code",
      "metadata": {
        "colab": {
          "base_uri": "https://localhost:8080/",
          "height": 36
        },
        "id": "QpfrQZZ1y2yM",
        "outputId": "996503df-0650-405a-c2bc-be6c1666169f"
      },
      "source": [
        "os.chdir(\"/content/drive/MyDrive/Colab Notebooks/Great_Learning/Lab AIML/Statistical NLP\")\n",
        "os.getcwd()"
      ],
      "execution_count": 4,
      "outputs": [
        {
          "output_type": "execute_result",
          "data": {
            "application/vnd.google.colaboratory.intrinsic+json": {
              "type": "string"
            },
            "text/plain": [
              "'/content/drive/MyDrive/Colab Notebooks/Great_Learning/Lab AIML/Statistical NLP'"
            ]
          },
          "metadata": {
            "tags": []
          },
          "execution_count": 4
        }
      ]
    },
    {
      "cell_type": "markdown",
      "metadata": {
        "id": "ZT1P1WdK1vfZ"
      },
      "source": [
        "## 3. Read Data"
      ]
    },
    {
      "cell_type": "markdown",
      "metadata": {
        "id": "-UOW6zwww7L1"
      },
      "source": [
        "### 3.1 Read the provided CSVs and check 5 random samples and shape to understand the datasets"
      ]
    },
    {
      "cell_type": "code",
      "metadata": {
        "id": "nxT2g284xF1W"
      },
      "source": [
        "products = pd.read_csv(\"product_data.csv\")\n",
        "reviews = pd.read_csv(\"reviews.csv\")"
      ],
      "execution_count": 5,
      "outputs": []
    },
    {
      "cell_type": "code",
      "metadata": {
        "colab": {
          "base_uri": "https://localhost:8080/",
          "height": 313
        },
        "id": "qix7hDJL6Zru",
        "outputId": "28e29cd9-db29-417a-8df4-27bf8a0a67c4"
      },
      "source": [
        "print(\"Products data: \")\n",
        "products.sample(5)"
      ],
      "execution_count": 6,
      "outputs": [
        {
          "output_type": "stream",
          "text": [
            "Products data: \n"
          ],
          "name": "stdout"
        },
        {
          "output_type": "execute_result",
          "data": {
            "text/html": [
              "<div>\n",
              "<style scoped>\n",
              "    .dataframe tbody tr th:only-of-type {\n",
              "        vertical-align: middle;\n",
              "    }\n",
              "\n",
              "    .dataframe tbody tr th {\n",
              "        vertical-align: top;\n",
              "    }\n",
              "\n",
              "    .dataframe thead th {\n",
              "        text-align: right;\n",
              "    }\n",
              "</style>\n",
              "<table border=\"1\" class=\"dataframe\">\n",
              "  <thead>\n",
              "    <tr style=\"text-align: right;\">\n",
              "      <th></th>\n",
              "      <th>asin</th>\n",
              "      <th>brand</th>\n",
              "      <th>title</th>\n",
              "      <th>url</th>\n",
              "      <th>image</th>\n",
              "      <th>rating</th>\n",
              "      <th>reviewUrl</th>\n",
              "      <th>totalReviews</th>\n",
              "      <th>price</th>\n",
              "      <th>originalPrice</th>\n",
              "    </tr>\n",
              "  </thead>\n",
              "  <tbody>\n",
              "    <tr>\n",
              "      <th>452</th>\n",
              "      <td>B07HCQ8VDQ</td>\n",
              "      <td>Samsung</td>\n",
              "      <td>Samsung Galaxy Note 5 N920A, Black 32GB - at&amp;T...</td>\n",
              "      <td>https://www.amazon.com/Samsung-Galaxy-Note-N92...</td>\n",
              "      <td>https://m.media-amazon.com/images/I/71dPOKaPwb...</td>\n",
              "      <td>3.3000000</td>\n",
              "      <td>https://www.amazon.com/product-reviews/B07HCQ8VDQ</td>\n",
              "      <td>50</td>\n",
              "      <td>262.4900000</td>\n",
              "      <td>299.9900000</td>\n",
              "    </tr>\n",
              "    <tr>\n",
              "      <th>438</th>\n",
              "      <td>B07GWFMLT8</td>\n",
              "      <td>Samsung</td>\n",
              "      <td>Samsung Galaxy Note 9 SM-N960F/DS 512GB/8GB (M...</td>\n",
              "      <td>https://www.amazon.com/Samsung-Galaxy-SM-N960F...</td>\n",
              "      <td>https://m.media-amazon.com/images/I/71BG9iPLRk...</td>\n",
              "      <td>4.8000000</td>\n",
              "      <td>https://www.amazon.com/product-reviews/B07GWFMLT8</td>\n",
              "      <td>18</td>\n",
              "      <td>677.0000000</td>\n",
              "      <td>0.0000000</td>\n",
              "    </tr>\n",
              "    <tr>\n",
              "      <th>373</th>\n",
              "      <td>B07BFHTJTK</td>\n",
              "      <td>Samsung</td>\n",
              "      <td>Samsung Galaxy S7 Edge G935v 32GB Smartphone f...</td>\n",
              "      <td>https://www.amazon.com/Samsung-Smartphone-Wire...</td>\n",
              "      <td>https://m.media-amazon.com/images/I/614dxJxan4...</td>\n",
              "      <td>3.6000000</td>\n",
              "      <td>https://www.amazon.com/product-reviews/B07BFHTJTK</td>\n",
              "      <td>27</td>\n",
              "      <td>179.0000000</td>\n",
              "      <td>0.0000000</td>\n",
              "    </tr>\n",
              "    <tr>\n",
              "      <th>677</th>\n",
              "      <td>B07XQJ33PL</td>\n",
              "      <td>Samsung</td>\n",
              "      <td>Samsung Galaxy A10s (32GB, 2GB RAM) 6.2\" HD+ I...</td>\n",
              "      <td>https://www.amazon.com/Samsung-Infinity-V-Disp...</td>\n",
              "      <td>https://m.media-amazon.com/images/I/51wPu6Z989...</td>\n",
              "      <td>4.2000000</td>\n",
              "      <td>https://www.amazon.com/product-reviews/B07XQJ33PL</td>\n",
              "      <td>98</td>\n",
              "      <td>135.9900000</td>\n",
              "      <td>142.4700000</td>\n",
              "    </tr>\n",
              "    <tr>\n",
              "      <th>86</th>\n",
              "      <td>B00QHJTOK0</td>\n",
              "      <td>Samsung</td>\n",
              "      <td>Samsung Galaxy Centura SCH-S738C - (Net10)</td>\n",
              "      <td>https://www.amazon.com/Samsung-Galaxy-Centura-...</td>\n",
              "      <td>https://m.media-amazon.com/images/I/411mIDKCYz...</td>\n",
              "      <td>1.0000000</td>\n",
              "      <td>https://www.amazon.com/product-reviews/B00QHJTOK0</td>\n",
              "      <td>1</td>\n",
              "      <td>0.0000000</td>\n",
              "      <td>0.0000000</td>\n",
              "    </tr>\n",
              "  </tbody>\n",
              "</table>\n",
              "</div>"
            ],
            "text/plain": [
              "           asin    brand                                              title  \\\n",
              "452  B07HCQ8VDQ  Samsung  Samsung Galaxy Note 5 N920A, Black 32GB - at&T...   \n",
              "438  B07GWFMLT8  Samsung  Samsung Galaxy Note 9 SM-N960F/DS 512GB/8GB (M...   \n",
              "373  B07BFHTJTK  Samsung  Samsung Galaxy S7 Edge G935v 32GB Smartphone f...   \n",
              "677  B07XQJ33PL  Samsung  Samsung Galaxy A10s (32GB, 2GB RAM) 6.2\" HD+ I...   \n",
              "86   B00QHJTOK0  Samsung         Samsung Galaxy Centura SCH-S738C - (Net10)   \n",
              "\n",
              "                                                   url  \\\n",
              "452  https://www.amazon.com/Samsung-Galaxy-Note-N92...   \n",
              "438  https://www.amazon.com/Samsung-Galaxy-SM-N960F...   \n",
              "373  https://www.amazon.com/Samsung-Smartphone-Wire...   \n",
              "677  https://www.amazon.com/Samsung-Infinity-V-Disp...   \n",
              "86   https://www.amazon.com/Samsung-Galaxy-Centura-...   \n",
              "\n",
              "                                                 image    rating  \\\n",
              "452  https://m.media-amazon.com/images/I/71dPOKaPwb... 3.3000000   \n",
              "438  https://m.media-amazon.com/images/I/71BG9iPLRk... 4.8000000   \n",
              "373  https://m.media-amazon.com/images/I/614dxJxan4... 3.6000000   \n",
              "677  https://m.media-amazon.com/images/I/51wPu6Z989... 4.2000000   \n",
              "86   https://m.media-amazon.com/images/I/411mIDKCYz... 1.0000000   \n",
              "\n",
              "                                             reviewUrl  totalReviews  \\\n",
              "452  https://www.amazon.com/product-reviews/B07HCQ8VDQ            50   \n",
              "438  https://www.amazon.com/product-reviews/B07GWFMLT8            18   \n",
              "373  https://www.amazon.com/product-reviews/B07BFHTJTK            27   \n",
              "677  https://www.amazon.com/product-reviews/B07XQJ33PL            98   \n",
              "86   https://www.amazon.com/product-reviews/B00QHJTOK0             1   \n",
              "\n",
              "          price  originalPrice  \n",
              "452 262.4900000    299.9900000  \n",
              "438 677.0000000      0.0000000  \n",
              "373 179.0000000      0.0000000  \n",
              "677 135.9900000    142.4700000  \n",
              "86    0.0000000      0.0000000  "
            ]
          },
          "metadata": {
            "tags": []
          },
          "execution_count": 6
        }
      ]
    },
    {
      "cell_type": "code",
      "metadata": {
        "colab": {
          "base_uri": "https://localhost:8080/",
          "height": 212
        },
        "id": "cFLTFQd86aEo",
        "outputId": "74e6975c-8ed1-4cb5-b324-2af7796e1cad"
      },
      "source": [
        "print(\"Reviews data: \")\n",
        "reviews.sample(5)"
      ],
      "execution_count": 7,
      "outputs": [
        {
          "output_type": "stream",
          "text": [
            "Reviews data: \n"
          ],
          "name": "stdout"
        },
        {
          "output_type": "execute_result",
          "data": {
            "text/html": [
              "<div>\n",
              "<style scoped>\n",
              "    .dataframe tbody tr th:only-of-type {\n",
              "        vertical-align: middle;\n",
              "    }\n",
              "\n",
              "    .dataframe tbody tr th {\n",
              "        vertical-align: top;\n",
              "    }\n",
              "\n",
              "    .dataframe thead th {\n",
              "        text-align: right;\n",
              "    }\n",
              "</style>\n",
              "<table border=\"1\" class=\"dataframe\">\n",
              "  <thead>\n",
              "    <tr style=\"text-align: right;\">\n",
              "      <th></th>\n",
              "      <th>asin</th>\n",
              "      <th>name</th>\n",
              "      <th>rating</th>\n",
              "      <th>date</th>\n",
              "      <th>verified</th>\n",
              "      <th>title</th>\n",
              "      <th>body</th>\n",
              "      <th>helpfulVotes</th>\n",
              "    </tr>\n",
              "  </thead>\n",
              "  <tbody>\n",
              "    <tr>\n",
              "      <th>14488</th>\n",
              "      <td>B00OZTSY6Y</td>\n",
              "      <td>Amazon Customer</td>\n",
              "      <td>2</td>\n",
              "      <td>May 3, 2017</td>\n",
              "      <td>True</td>\n",
              "      <td>Worked fair for first 20 days, voice volume fo...</td>\n",
              "      <td>Worked fair for first 20 days, voice volume fo...</td>\n",
              "      <td>nan</td>\n",
              "    </tr>\n",
              "    <tr>\n",
              "      <th>42806</th>\n",
              "      <td>B077J7H62P</td>\n",
              "      <td>DSP</td>\n",
              "      <td>5</td>\n",
              "      <td>September 5, 2019</td>\n",
              "      <td>True</td>\n",
              "      <td>Just what I wanted!</td>\n",
              "      <td>It seems great!</td>\n",
              "      <td>nan</td>\n",
              "    </tr>\n",
              "    <tr>\n",
              "      <th>2374</th>\n",
              "      <td>B00836Y6B2</td>\n",
              "      <td>Jvans</td>\n",
              "      <td>4</td>\n",
              "      <td>September 16, 2013</td>\n",
              "      <td>True</td>\n",
              "      <td>Generally a pretty good phone</td>\n",
              "      <td>My order was fulfilled by TABLET DISTRIBUTORS ...</td>\n",
              "      <td>2.0000000</td>\n",
              "    </tr>\n",
              "    <tr>\n",
              "      <th>60080</th>\n",
              "      <td>B07Q26V49K</td>\n",
              "      <td>Amazon Customer</td>\n",
              "      <td>5</td>\n",
              "      <td>November 17, 2019</td>\n",
              "      <td>True</td>\n",
              "      <td>Excelente producto</td>\n",
              "      <td>Muy bueno</td>\n",
              "      <td>nan</td>\n",
              "    </tr>\n",
              "    <tr>\n",
              "      <th>46380</th>\n",
              "      <td>B07BFPDGNX</td>\n",
              "      <td>Molly K Bradley</td>\n",
              "      <td>5</td>\n",
              "      <td>March 12, 2019</td>\n",
              "      <td>True</td>\n",
              "      <td>All over great phone</td>\n",
              "      <td>All over great phone.</td>\n",
              "      <td>nan</td>\n",
              "    </tr>\n",
              "  </tbody>\n",
              "</table>\n",
              "</div>"
            ],
            "text/plain": [
              "             asin             name  rating                date  verified  \\\n",
              "14488  B00OZTSY6Y  Amazon Customer       2         May 3, 2017      True   \n",
              "42806  B077J7H62P              DSP       5   September 5, 2019      True   \n",
              "2374   B00836Y6B2            Jvans       4  September 16, 2013      True   \n",
              "60080  B07Q26V49K  Amazon Customer       5   November 17, 2019      True   \n",
              "46380  B07BFPDGNX  Molly K Bradley       5      March 12, 2019      True   \n",
              "\n",
              "                                                   title  \\\n",
              "14488  Worked fair for first 20 days, voice volume fo...   \n",
              "42806                                Just what I wanted!   \n",
              "2374                       Generally a pretty good phone   \n",
              "60080                                 Excelente producto   \n",
              "46380                               All over great phone   \n",
              "\n",
              "                                                    body  helpfulVotes  \n",
              "14488  Worked fair for first 20 days, voice volume fo...           nan  \n",
              "42806                                    It seems great!           nan  \n",
              "2374   My order was fulfilled by TABLET DISTRIBUTORS ...     2.0000000  \n",
              "60080                                          Muy bueno           nan  \n",
              "46380                              All over great phone.           nan  "
            ]
          },
          "metadata": {
            "tags": []
          },
          "execution_count": 7
        }
      ]
    },
    {
      "cell_type": "markdown",
      "metadata": {
        "id": "1UIpBxFU3MZX"
      },
      "source": [
        "### Inferences:- We have unstructured data(textual) within structured data in reviews dataset."
      ]
    },
    {
      "cell_type": "code",
      "metadata": {
        "id": "GRjG44fRxGIq",
        "colab": {
          "base_uri": "https://localhost:8080/"
        },
        "outputId": "ca61c703-4efd-461b-f321-b064922034cd"
      },
      "source": [
        "print(\"Shape of Products Data: \", products.shape)\n",
        "print(\"Shape of Reviews Data: \", reviews.shape)"
      ],
      "execution_count": 8,
      "outputs": [
        {
          "output_type": "stream",
          "text": [
            "Shape of Products Data:  (720, 10)\n",
            "Shape of Reviews Data:  (67986, 8)\n"
          ],
          "name": "stdout"
        }
      ]
    },
    {
      "cell_type": "markdown",
      "metadata": {
        "id": "rED6DbDBKTjM"
      },
      "source": [
        "## 4.  Data Analysis and EDA"
      ]
    },
    {
      "cell_type": "markdown",
      "metadata": {
        "id": "awlqmp40xMfc"
      },
      "source": [
        "### 4.1 Drop unnecessary columns like 'url', 'image' from the product_data"
      ]
    },
    {
      "cell_type": "code",
      "metadata": {
        "id": "VT4d-6TCxZCm",
        "colab": {
          "base_uri": "https://localhost:8080/"
        },
        "outputId": "9bff5c3b-db20-472a-c874-ead51788544e"
      },
      "source": [
        "products.info()"
      ],
      "execution_count": 9,
      "outputs": [
        {
          "output_type": "stream",
          "text": [
            "<class 'pandas.core.frame.DataFrame'>\n",
            "RangeIndex: 720 entries, 0 to 719\n",
            "Data columns (total 10 columns):\n",
            " #   Column         Non-Null Count  Dtype  \n",
            "---  ------         --------------  -----  \n",
            " 0   asin           720 non-null    object \n",
            " 1   brand          716 non-null    object \n",
            " 2   title          720 non-null    object \n",
            " 3   url            720 non-null    object \n",
            " 4   image          720 non-null    object \n",
            " 5   rating         720 non-null    float64\n",
            " 6   reviewUrl      720 non-null    object \n",
            " 7   totalReviews   720 non-null    int64  \n",
            " 8   price          720 non-null    float64\n",
            " 9   originalPrice  720 non-null    float64\n",
            "dtypes: float64(3), int64(1), object(6)\n",
            "memory usage: 56.4+ KB\n"
          ],
          "name": "stdout"
        }
      ]
    },
    {
      "cell_type": "code",
      "metadata": {
        "id": "DyG-F5ns2J6d"
      },
      "source": [
        "products.drop(columns = [\"url\",\"image\",\"reviewUrl\"], axis=1,inplace = True)"
      ],
      "execution_count": 10,
      "outputs": []
    },
    {
      "cell_type": "markdown",
      "metadata": {
        "id": "ZJ9a95MJ3piX"
      },
      "source": [
        "### Inferenes:- Dropping unnecessary columns like 'url', 'image' and 'reviewUrl'."
      ]
    },
    {
      "cell_type": "code",
      "metadata": {
        "colab": {
          "base_uri": "https://localhost:8080/"
        },
        "id": "SNkuj_0A2_co",
        "outputId": "231854b3-dade-40e2-bf43-2206f1806d79"
      },
      "source": [
        "products.columns"
      ],
      "execution_count": 11,
      "outputs": [
        {
          "output_type": "execute_result",
          "data": {
            "text/plain": [
              "Index(['asin', 'brand', 'title', 'rating', 'totalReviews', 'price',\n",
              "       'originalPrice'],\n",
              "      dtype='object')"
            ]
          },
          "metadata": {
            "tags": []
          },
          "execution_count": 11
        }
      ]
    },
    {
      "cell_type": "markdown",
      "metadata": {
        "id": "Zk0WW5D5xZK9"
      },
      "source": [
        "### 4.2 Check statistical summary of both datasets. Note:- Include both numerical and object type columns."
      ]
    },
    {
      "cell_type": "code",
      "metadata": {
        "id": "ylwcqQpcx_Tl",
        "colab": {
          "base_uri": "https://localhost:8080/",
          "height": 370
        },
        "outputId": "2e46ad62-9180-48fa-ae42-a422873aea64"
      },
      "source": [
        "products.describe(include = 'all')"
      ],
      "execution_count": 12,
      "outputs": [
        {
          "output_type": "execute_result",
          "data": {
            "text/html": [
              "<div>\n",
              "<style scoped>\n",
              "    .dataframe tbody tr th:only-of-type {\n",
              "        vertical-align: middle;\n",
              "    }\n",
              "\n",
              "    .dataframe tbody tr th {\n",
              "        vertical-align: top;\n",
              "    }\n",
              "\n",
              "    .dataframe thead th {\n",
              "        text-align: right;\n",
              "    }\n",
              "</style>\n",
              "<table border=\"1\" class=\"dataframe\">\n",
              "  <thead>\n",
              "    <tr style=\"text-align: right;\">\n",
              "      <th></th>\n",
              "      <th>asin</th>\n",
              "      <th>brand</th>\n",
              "      <th>title</th>\n",
              "      <th>rating</th>\n",
              "      <th>totalReviews</th>\n",
              "      <th>price</th>\n",
              "      <th>originalPrice</th>\n",
              "    </tr>\n",
              "  </thead>\n",
              "  <tbody>\n",
              "    <tr>\n",
              "      <th>count</th>\n",
              "      <td>720</td>\n",
              "      <td>716</td>\n",
              "      <td>720</td>\n",
              "      <td>720.0000000</td>\n",
              "      <td>720.0000000</td>\n",
              "      <td>720.0000000</td>\n",
              "      <td>720.0000000</td>\n",
              "    </tr>\n",
              "    <tr>\n",
              "      <th>unique</th>\n",
              "      <td>720</td>\n",
              "      <td>10</td>\n",
              "      <td>718</td>\n",
              "      <td>nan</td>\n",
              "      <td>nan</td>\n",
              "      <td>nan</td>\n",
              "      <td>nan</td>\n",
              "    </tr>\n",
              "    <tr>\n",
              "      <th>top</th>\n",
              "      <td>B07SFZ88SY</td>\n",
              "      <td>Samsung</td>\n",
              "      <td>Google Pixel 2 XL 128GB Unlocked GSM/CDMA 4G L...</td>\n",
              "      <td>nan</td>\n",
              "      <td>nan</td>\n",
              "      <td>nan</td>\n",
              "      <td>nan</td>\n",
              "    </tr>\n",
              "    <tr>\n",
              "      <th>freq</th>\n",
              "      <td>1</td>\n",
              "      <td>346</td>\n",
              "      <td>2</td>\n",
              "      <td>nan</td>\n",
              "      <td>nan</td>\n",
              "      <td>nan</td>\n",
              "      <td>nan</td>\n",
              "    </tr>\n",
              "    <tr>\n",
              "      <th>mean</th>\n",
              "      <td>NaN</td>\n",
              "      <td>NaN</td>\n",
              "      <td>NaN</td>\n",
              "      <td>3.7137500</td>\n",
              "      <td>105.6791667</td>\n",
              "      <td>234.9489306</td>\n",
              "      <td>63.6907778</td>\n",
              "    </tr>\n",
              "    <tr>\n",
              "      <th>std</th>\n",
              "      <td>NaN</td>\n",
              "      <td>NaN</td>\n",
              "      <td>NaN</td>\n",
              "      <td>0.7160138</td>\n",
              "      <td>167.6011014</td>\n",
              "      <td>200.0084407</td>\n",
              "      <td>172.4053696</td>\n",
              "    </tr>\n",
              "    <tr>\n",
              "      <th>min</th>\n",
              "      <td>NaN</td>\n",
              "      <td>NaN</td>\n",
              "      <td>NaN</td>\n",
              "      <td>1.0000000</td>\n",
              "      <td>1.0000000</td>\n",
              "      <td>0.0000000</td>\n",
              "      <td>0.0000000</td>\n",
              "    </tr>\n",
              "    <tr>\n",
              "      <th>25%</th>\n",
              "      <td>NaN</td>\n",
              "      <td>NaN</td>\n",
              "      <td>NaN</td>\n",
              "      <td>3.3000000</td>\n",
              "      <td>7.0000000</td>\n",
              "      <td>97.5125000</td>\n",
              "      <td>0.0000000</td>\n",
              "    </tr>\n",
              "    <tr>\n",
              "      <th>50%</th>\n",
              "      <td>NaN</td>\n",
              "      <td>NaN</td>\n",
              "      <td>NaN</td>\n",
              "      <td>3.8000000</td>\n",
              "      <td>32.0000000</td>\n",
              "      <td>188.9750000</td>\n",
              "      <td>0.0000000</td>\n",
              "    </tr>\n",
              "    <tr>\n",
              "      <th>75%</th>\n",
              "      <td>NaN</td>\n",
              "      <td>NaN</td>\n",
              "      <td>NaN</td>\n",
              "      <td>4.1000000</td>\n",
              "      <td>122.2500000</td>\n",
              "      <td>336.7250000</td>\n",
              "      <td>0.0000000</td>\n",
              "    </tr>\n",
              "    <tr>\n",
              "      <th>max</th>\n",
              "      <td>NaN</td>\n",
              "      <td>NaN</td>\n",
              "      <td>NaN</td>\n",
              "      <td>5.0000000</td>\n",
              "      <td>983.0000000</td>\n",
              "      <td>999.9900000</td>\n",
              "      <td>999.9900000</td>\n",
              "    </tr>\n",
              "  </tbody>\n",
              "</table>\n",
              "</div>"
            ],
            "text/plain": [
              "              asin    brand  \\\n",
              "count          720      716   \n",
              "unique         720       10   \n",
              "top     B07SFZ88SY  Samsung   \n",
              "freq             1      346   \n",
              "mean           NaN      NaN   \n",
              "std            NaN      NaN   \n",
              "min            NaN      NaN   \n",
              "25%            NaN      NaN   \n",
              "50%            NaN      NaN   \n",
              "75%            NaN      NaN   \n",
              "max            NaN      NaN   \n",
              "\n",
              "                                                    title      rating  \\\n",
              "count                                                 720 720.0000000   \n",
              "unique                                                718         nan   \n",
              "top     Google Pixel 2 XL 128GB Unlocked GSM/CDMA 4G L...         nan   \n",
              "freq                                                    2         nan   \n",
              "mean                                                  NaN   3.7137500   \n",
              "std                                                   NaN   0.7160138   \n",
              "min                                                   NaN   1.0000000   \n",
              "25%                                                   NaN   3.3000000   \n",
              "50%                                                   NaN   3.8000000   \n",
              "75%                                                   NaN   4.1000000   \n",
              "max                                                   NaN   5.0000000   \n",
              "\n",
              "        totalReviews       price  originalPrice  \n",
              "count    720.0000000 720.0000000    720.0000000  \n",
              "unique           nan         nan            nan  \n",
              "top              nan         nan            nan  \n",
              "freq             nan         nan            nan  \n",
              "mean     105.6791667 234.9489306     63.6907778  \n",
              "std      167.6011014 200.0084407    172.4053696  \n",
              "min        1.0000000   0.0000000      0.0000000  \n",
              "25%        7.0000000  97.5125000      0.0000000  \n",
              "50%       32.0000000 188.9750000      0.0000000  \n",
              "75%      122.2500000 336.7250000      0.0000000  \n",
              "max      983.0000000 999.9900000    999.9900000  "
            ]
          },
          "metadata": {
            "tags": []
          },
          "execution_count": 12
        }
      ]
    },
    {
      "cell_type": "markdown",
      "metadata": {
        "id": "E3Np2d1Pb7-z"
      },
      "source": [
        "### Inferences:-\n",
        "#### 1.10 unique brands of which top brand is Samsung.\n",
        "#### 2.Overall Ratings is normally distributed.\n",
        "#### 3.Median rating is 3.8.\n",
        "#### 4. Price column seems to have junk values as theres huge difference in 75th quartile and max price and original price.\n"
      ]
    },
    {
      "cell_type": "code",
      "metadata": {
        "id": "WFaDkvIjyDtG",
        "colab": {
          "base_uri": "https://localhost:8080/",
          "height": 370
        },
        "outputId": "8eefcbca-5eff-48ff-950a-5956e2b98c9c"
      },
      "source": [
        "reviews.describe(include = 'all')"
      ],
      "execution_count": 13,
      "outputs": [
        {
          "output_type": "execute_result",
          "data": {
            "text/html": [
              "<div>\n",
              "<style scoped>\n",
              "    .dataframe tbody tr th:only-of-type {\n",
              "        vertical-align: middle;\n",
              "    }\n",
              "\n",
              "    .dataframe tbody tr th {\n",
              "        vertical-align: top;\n",
              "    }\n",
              "\n",
              "    .dataframe thead th {\n",
              "        text-align: right;\n",
              "    }\n",
              "</style>\n",
              "<table border=\"1\" class=\"dataframe\">\n",
              "  <thead>\n",
              "    <tr style=\"text-align: right;\">\n",
              "      <th></th>\n",
              "      <th>asin</th>\n",
              "      <th>name</th>\n",
              "      <th>rating</th>\n",
              "      <th>date</th>\n",
              "      <th>verified</th>\n",
              "      <th>title</th>\n",
              "      <th>body</th>\n",
              "      <th>helpfulVotes</th>\n",
              "    </tr>\n",
              "  </thead>\n",
              "  <tbody>\n",
              "    <tr>\n",
              "      <th>count</th>\n",
              "      <td>67986</td>\n",
              "      <td>67984</td>\n",
              "      <td>67986.0000000</td>\n",
              "      <td>67986</td>\n",
              "      <td>67986</td>\n",
              "      <td>67972</td>\n",
              "      <td>67965</td>\n",
              "      <td>27215.0000000</td>\n",
              "    </tr>\n",
              "    <tr>\n",
              "      <th>unique</th>\n",
              "      <td>720</td>\n",
              "      <td>47323</td>\n",
              "      <td>nan</td>\n",
              "      <td>2983</td>\n",
              "      <td>2</td>\n",
              "      <td>41489</td>\n",
              "      <td>59811</td>\n",
              "      <td>nan</td>\n",
              "    </tr>\n",
              "    <tr>\n",
              "      <th>top</th>\n",
              "      <td>B00F2SKPIM</td>\n",
              "      <td>Amazon Customer</td>\n",
              "      <td>nan</td>\n",
              "      <td>December 11, 2019</td>\n",
              "      <td>True</td>\n",
              "      <td>Five Stars</td>\n",
              "      <td>Good</td>\n",
              "      <td>nan</td>\n",
              "    </tr>\n",
              "    <tr>\n",
              "      <th>freq</th>\n",
              "      <td>981</td>\n",
              "      <td>6507</td>\n",
              "      <td>nan</td>\n",
              "      <td>234</td>\n",
              "      <td>61225</td>\n",
              "      <td>6043</td>\n",
              "      <td>303</td>\n",
              "      <td>nan</td>\n",
              "    </tr>\n",
              "    <tr>\n",
              "      <th>mean</th>\n",
              "      <td>NaN</td>\n",
              "      <td>NaN</td>\n",
              "      <td>3.8079163</td>\n",
              "      <td>NaN</td>\n",
              "      <td>NaN</td>\n",
              "      <td>NaN</td>\n",
              "      <td>NaN</td>\n",
              "      <td>8.2296895</td>\n",
              "    </tr>\n",
              "    <tr>\n",
              "      <th>std</th>\n",
              "      <td>NaN</td>\n",
              "      <td>NaN</td>\n",
              "      <td>1.5829058</td>\n",
              "      <td>NaN</td>\n",
              "      <td>NaN</td>\n",
              "      <td>NaN</td>\n",
              "      <td>NaN</td>\n",
              "      <td>31.9548772</td>\n",
              "    </tr>\n",
              "    <tr>\n",
              "      <th>min</th>\n",
              "      <td>NaN</td>\n",
              "      <td>NaN</td>\n",
              "      <td>1.0000000</td>\n",
              "      <td>NaN</td>\n",
              "      <td>NaN</td>\n",
              "      <td>NaN</td>\n",
              "      <td>NaN</td>\n",
              "      <td>1.0000000</td>\n",
              "    </tr>\n",
              "    <tr>\n",
              "      <th>25%</th>\n",
              "      <td>NaN</td>\n",
              "      <td>NaN</td>\n",
              "      <td>3.0000000</td>\n",
              "      <td>NaN</td>\n",
              "      <td>NaN</td>\n",
              "      <td>NaN</td>\n",
              "      <td>NaN</td>\n",
              "      <td>1.0000000</td>\n",
              "    </tr>\n",
              "    <tr>\n",
              "      <th>50%</th>\n",
              "      <td>NaN</td>\n",
              "      <td>NaN</td>\n",
              "      <td>5.0000000</td>\n",
              "      <td>NaN</td>\n",
              "      <td>NaN</td>\n",
              "      <td>NaN</td>\n",
              "      <td>NaN</td>\n",
              "      <td>2.0000000</td>\n",
              "    </tr>\n",
              "    <tr>\n",
              "      <th>75%</th>\n",
              "      <td>NaN</td>\n",
              "      <td>NaN</td>\n",
              "      <td>5.0000000</td>\n",
              "      <td>NaN</td>\n",
              "      <td>NaN</td>\n",
              "      <td>NaN</td>\n",
              "      <td>NaN</td>\n",
              "      <td>5.0000000</td>\n",
              "    </tr>\n",
              "    <tr>\n",
              "      <th>max</th>\n",
              "      <td>NaN</td>\n",
              "      <td>NaN</td>\n",
              "      <td>5.0000000</td>\n",
              "      <td>NaN</td>\n",
              "      <td>NaN</td>\n",
              "      <td>NaN</td>\n",
              "      <td>NaN</td>\n",
              "      <td>990.0000000</td>\n",
              "    </tr>\n",
              "  </tbody>\n",
              "</table>\n",
              "</div>"
            ],
            "text/plain": [
              "              asin             name        rating               date verified  \\\n",
              "count        67986            67984 67986.0000000              67986    67986   \n",
              "unique         720            47323           nan               2983        2   \n",
              "top     B00F2SKPIM  Amazon Customer           nan  December 11, 2019     True   \n",
              "freq           981             6507           nan                234    61225   \n",
              "mean           NaN              NaN     3.8079163                NaN      NaN   \n",
              "std            NaN              NaN     1.5829058                NaN      NaN   \n",
              "min            NaN              NaN     1.0000000                NaN      NaN   \n",
              "25%            NaN              NaN     3.0000000                NaN      NaN   \n",
              "50%            NaN              NaN     5.0000000                NaN      NaN   \n",
              "75%            NaN              NaN     5.0000000                NaN      NaN   \n",
              "max            NaN              NaN     5.0000000                NaN      NaN   \n",
              "\n",
              "             title   body  helpfulVotes  \n",
              "count        67972  67965 27215.0000000  \n",
              "unique       41489  59811           nan  \n",
              "top     Five Stars   Good           nan  \n",
              "freq          6043    303           nan  \n",
              "mean           NaN    NaN     8.2296895  \n",
              "std            NaN    NaN    31.9548772  \n",
              "min            NaN    NaN     1.0000000  \n",
              "25%            NaN    NaN     1.0000000  \n",
              "50%            NaN    NaN     2.0000000  \n",
              "75%            NaN    NaN     5.0000000  \n",
              "max            NaN    NaN   990.0000000  "
            ]
          },
          "metadata": {
            "tags": []
          },
          "execution_count": 13
        }
      ]
    },
    {
      "cell_type": "markdown",
      "metadata": {
        "id": "hfIIUtAJoHWk"
      },
      "source": [
        "### Inferences:-\n",
        "#### 1.61255 reviews are verified.\n",
        "#### 2.Ratings are left - skewed."
      ]
    },
    {
      "cell_type": "markdown",
      "metadata": {
        "id": "cSdGfadUyEdU"
      },
      "source": [
        "### 4.3 From the above statistical summary, write inferences like count of unique products, top brand, top title, range of rating, price range, etc"
      ]
    },
    {
      "cell_type": "markdown",
      "metadata": {
        "id": "QPTkrRgspaqZ"
      },
      "source": [
        "### Inferences:-\n",
        "#### 1.Top Brand is Samsung followed by Apple.\n",
        "#### 2.720 Unique products are available.\n",
        "#### 3.Top title for review is \"Five Stars\".\n",
        "#### 4.Ratings range between 1 and 5.\n",
        "#### 5.Prices range from 0 to 999 which logically not correct hence it can be concluded that price data has junk values."
      ]
    },
    {
      "cell_type": "markdown",
      "metadata": {
        "id": "XMv_hXyxJKZK"
      },
      "source": [
        "### 4.4 Analyze the distribution of ratings and other categorical features like brand, etc"
      ]
    },
    {
      "cell_type": "code",
      "metadata": {
        "id": "oEhjSsMcyirD",
        "colab": {
          "base_uri": "https://localhost:8080/",
          "height": 364
        },
        "outputId": "48fa5ef5-39f5-4e7d-ab3d-0ea45895f323"
      },
      "source": [
        "plt.style.use('fivethirtyeight')\n",
        "plt.xticks(rotation=45)\n",
        "sns.countplot(products['brand'])"
      ],
      "execution_count": 14,
      "outputs": [
        {
          "output_type": "execute_result",
          "data": {
            "text/plain": [
              "<matplotlib.axes._subplots.AxesSubplot at 0x7f8bd5cb4b90>"
            ]
          },
          "metadata": {
            "tags": []
          },
          "execution_count": 14
        },
        {
          "output_type": "display_data",
          "data": {
            "image/png": "[encoded data removed]",
            "text/plain": [
              "<Figure size 432x288 with 1 Axes>"
            ]
          },
          "metadata": {
            "tags": []
          }
        }
      ]
    },
    {
      "cell_type": "code",
      "metadata": {
        "colab": {
          "base_uri": "https://localhost:8080/",
          "height": 322
        },
        "id": "9s1qxfLX5j1J",
        "outputId": "fa32ddc6-518f-42d0-e534-c7d35d8ba35e"
      },
      "source": [
        "sns.countplot(reviews['rating'])"
      ],
      "execution_count": 15,
      "outputs": [
        {
          "output_type": "execute_result",
          "data": {
            "text/plain": [
              "<matplotlib.axes._subplots.AxesSubplot at 0x7f8bd5160850>"
            ]
          },
          "metadata": {
            "tags": []
          },
          "execution_count": 15
        },
        {
          "output_type": "display_data",
          "data": {
            "image/png": "[encoded data removed]",
            "text/plain": [
              "<Figure size 432x288 with 1 Axes>"
            ]
          },
          "metadata": {
            "tags": []
          }
        }
      ]
    },
    {
      "cell_type": "markdown",
      "metadata": {
        "id": "Fppy606HIDjl"
      },
      "source": [
        "### Inferences:-\n",
        "#### 1. Maximum rating is of \"5\".\n",
        "#### 2. Ratings is highly imbalanced."
      ]
    },
    {
      "cell_type": "markdown",
      "metadata": {
        "id": "jwZBGODgyi1a"
      },
      "source": [
        "### 4.5 Display average rating per brand"
      ]
    },
    {
      "cell_type": "code",
      "metadata": {
        "id": "OSBBiAv8yscd",
        "colab": {
          "base_uri": "https://localhost:8080/",
          "height": 372
        },
        "outputId": "2f28cbd5-f91f-462f-e5b2-a4a25900de91"
      },
      "source": [
        "products.groupby('brand').mean()['rating'].sort_values().plot(kind='bar')"
      ],
      "execution_count": 16,
      "outputs": [
        {
          "output_type": "execute_result",
          "data": {
            "text/plain": [
              "<matplotlib.axes._subplots.AxesSubplot at 0x7f8bd4c617d0>"
            ]
          },
          "metadata": {
            "tags": []
          },
          "execution_count": 16
        },
        {
          "output_type": "display_data",
          "data": {
            "image/png": "[encoded data removed]",
            "text/plain": [
              "<Figure size 432x288 with 1 Axes>"
            ]
          },
          "metadata": {
            "tags": []
          }
        }
      ]
    },
    {
      "cell_type": "markdown",
      "metadata": {
        "id": "SkYgJDrIqr5k"
      },
      "source": [
        "### Inferences:- Xiaomi brand has maximum ratings."
      ]
    },
    {
      "cell_type": "markdown",
      "metadata": {
        "id": "vUXuEwlgyvB0"
      },
      "source": [
        "### 4.6 Display average price per brand"
      ]
    },
    {
      "cell_type": "code",
      "metadata": {
        "id": "ACgIwVlyy3Pu",
        "colab": {
          "base_uri": "https://localhost:8080/",
          "height": 372
        },
        "outputId": "c21fcdfa-724a-46dc-9bce-3834d701c863"
      },
      "source": [
        "products.groupby('brand').mean()['price'].sort_values().plot(kind='bar')"
      ],
      "execution_count": 17,
      "outputs": [
        {
          "output_type": "execute_result",
          "data": {
            "text/plain": [
              "<matplotlib.axes._subplots.AxesSubplot at 0x7f8bdc7d5a10>"
            ]
          },
          "metadata": {
            "tags": []
          },
          "execution_count": 17
        },
        {
          "output_type": "display_data",
          "data": {
            "image/png": "[encoded data removed]",
            "text/plain": [
              "<Figure size 432x288 with 1 Axes>"
            ]
          },
          "metadata": {
            "tags": []
          }
        }
      ]
    },
    {
      "cell_type": "markdown",
      "metadata": {
        "id": "iI0B37cu9jRu"
      },
      "source": [
        "### Inference:- Logically Apple brand should have max mean price compared to other brands but since data shows OnePlus hence it can be concluded that data is not true to real world that is it has junk values and be excluded from model building or correct the data according to real world.\n"
      ]
    },
    {
      "cell_type": "markdown",
      "metadata": {
        "id": "U0JfwL74y3a-"
      },
      "source": [
        "### 4.7 Display average 'totalReviews' per brand"
      ]
    },
    {
      "cell_type": "code",
      "metadata": {
        "id": "wfzciNxqzBYu",
        "colab": {
          "base_uri": "https://localhost:8080/",
          "height": 372
        },
        "outputId": "a743d5a7-1258-4004-8799-7e4e74050f33"
      },
      "source": [
        "products.groupby('brand').mean()['totalReviews'].sort_values().plot(kind='bar')"
      ],
      "execution_count": 18,
      "outputs": [
        {
          "output_type": "execute_result",
          "data": {
            "text/plain": [
              "<matplotlib.axes._subplots.AxesSubplot at 0x7f8bd4b3d350>"
            ]
          },
          "metadata": {
            "tags": []
          },
          "execution_count": 18
        },
        {
          "output_type": "display_data",
          "data": {
            "image/png": "[encoded data removed]",
            "text/plain": [
              "<Figure size 432x288 with 1 Axes>"
            ]
          },
          "metadata": {
            "tags": []
          }
        }
      ]
    },
    {
      "cell_type": "markdown",
      "metadata": {
        "id": "cBCILFRU9MxM"
      },
      "source": [
        "### Inferences:- Nokia has more no. of reviews but ratings is low hence it can be concluded that there are lots of unsatisfied customer who are giving the reviews."
      ]
    },
    {
      "cell_type": "markdown",
      "metadata": {
        "id": "x_fxI7OAeDUM"
      },
      "source": [
        "### 4.8 Merge two datasets using 'asin' and check the shape of the final dataset"
      ]
    },
    {
      "cell_type": "code",
      "metadata": {
        "id": "svpHfWI9zNAP",
        "colab": {
          "base_uri": "https://localhost:8080/",
          "height": 312
        },
        "outputId": "38ea829d-1dfc-49ad-de95-324908a8c3f9"
      },
      "source": [
        "df = pd.merge(reviews,products, on='asin', how='inner')\n",
        "df.sample(5)"
      ],
      "execution_count": 19,
      "outputs": [
        {
          "output_type": "execute_result",
          "data": {
            "text/html": [
              "<div>\n",
              "<style scoped>\n",
              "    .dataframe tbody tr th:only-of-type {\n",
              "        vertical-align: middle;\n",
              "    }\n",
              "\n",
              "    .dataframe tbody tr th {\n",
              "        vertical-align: top;\n",
              "    }\n",
              "\n",
              "    .dataframe thead th {\n",
              "        text-align: right;\n",
              "    }\n",
              "</style>\n",
              "<table border=\"1\" class=\"dataframe\">\n",
              "  <thead>\n",
              "    <tr style=\"text-align: right;\">\n",
              "      <th></th>\n",
              "      <th>asin</th>\n",
              "      <th>name</th>\n",
              "      <th>rating_x</th>\n",
              "      <th>date</th>\n",
              "      <th>verified</th>\n",
              "      <th>title_x</th>\n",
              "      <th>body</th>\n",
              "      <th>helpfulVotes</th>\n",
              "      <th>brand</th>\n",
              "      <th>title_y</th>\n",
              "      <th>rating_y</th>\n",
              "      <th>totalReviews</th>\n",
              "      <th>price</th>\n",
              "      <th>originalPrice</th>\n",
              "    </tr>\n",
              "  </thead>\n",
              "  <tbody>\n",
              "    <tr>\n",
              "      <th>12511</th>\n",
              "      <td>B00MWI4KKE</td>\n",
              "      <td>Paul</td>\n",
              "      <td>5</td>\n",
              "      <td>February 24, 2016</td>\n",
              "      <td>True</td>\n",
              "      <td>Moto X (2nd Gen) Hits the Mark</td>\n",
              "      <td>Great phone for the price. Very good screen re...</td>\n",
              "      <td>nan</td>\n",
              "      <td>Motorola</td>\n",
              "      <td>Motorola Moto X (2nd generation) XT1097 GSM Un...</td>\n",
              "      <td>3.5000000</td>\n",
              "      <td>428</td>\n",
              "      <td>0.0000000</td>\n",
              "      <td>0.0000000</td>\n",
              "    </tr>\n",
              "    <tr>\n",
              "      <th>10492</th>\n",
              "      <td>B00JH2WF0K</td>\n",
              "      <td>Robert Osthues</td>\n",
              "      <td>1</td>\n",
              "      <td>January 26, 2018</td>\n",
              "      <td>True</td>\n",
              "      <td>Screen too small</td>\n",
              "      <td>Looked like a Convoy 3 in the add, but the scr...</td>\n",
              "      <td>nan</td>\n",
              "      <td>Samsung</td>\n",
              "      <td>Samsung Gusto 3, Dark Blue, Verizon Wireless</td>\n",
              "      <td>3.2000000</td>\n",
              "      <td>81</td>\n",
              "      <td>0.0000000</td>\n",
              "      <td>0.0000000</td>\n",
              "    </tr>\n",
              "    <tr>\n",
              "      <th>57018</th>\n",
              "      <td>B07N91S9MW</td>\n",
              "      <td>JuIien Alexander</td>\n",
              "      <td>1</td>\n",
              "      <td>December 8, 2019</td>\n",
              "      <td>False</td>\n",
              "      <td>Phone's OS completely died</td>\n",
              "      <td>Phone's OS died after a week, no support, lost...</td>\n",
              "      <td>nan</td>\n",
              "      <td>Motorola</td>\n",
              "      <td>Moto G7 – Unlocked – 64 GB – Ceramic Black (US...</td>\n",
              "      <td>4.1000000</td>\n",
              "      <td>361</td>\n",
              "      <td>179.9900000</td>\n",
              "      <td>299.9900000</td>\n",
              "    </tr>\n",
              "    <tr>\n",
              "      <th>54890</th>\n",
              "      <td>B07K1M36CM</td>\n",
              "      <td>Brian</td>\n",
              "      <td>5</td>\n",
              "      <td>December 9, 2018</td>\n",
              "      <td>True</td>\n",
              "      <td>Great phone</td>\n",
              "      <td>It's a great phone, loved the mate 10 pro, and...</td>\n",
              "      <td>8.0000000</td>\n",
              "      <td>HUAWEI</td>\n",
              "      <td>Huawei Mate 20 Pro LYA-L29 128GB + 6GB - Facto...</td>\n",
              "      <td>4.6000000</td>\n",
              "      <td>153</td>\n",
              "      <td>459.9900000</td>\n",
              "      <td>0.0000000</td>\n",
              "    </tr>\n",
              "    <tr>\n",
              "      <th>18924</th>\n",
              "      <td>B015ROR4PC</td>\n",
              "      <td>Jim S</td>\n",
              "      <td>5</td>\n",
              "      <td>September 3, 2016</td>\n",
              "      <td>True</td>\n",
              "      <td>Very good, solid smartphone</td>\n",
              "      <td>Very good, solid smartphone. Keeps a charge fo...</td>\n",
              "      <td>1.0000000</td>\n",
              "      <td>Motorola</td>\n",
              "      <td>Motorola Droid Turbo - 32GB Android Smartphone...</td>\n",
              "      <td>3.5000000</td>\n",
              "      <td>36</td>\n",
              "      <td>74.9900000</td>\n",
              "      <td>0.0000000</td>\n",
              "    </tr>\n",
              "  </tbody>\n",
              "</table>\n",
              "</div>"
            ],
            "text/plain": [
              "             asin              name  rating_x               date  verified  \\\n",
              "12511  B00MWI4KKE              Paul         5  February 24, 2016      True   \n",
              "10492  B00JH2WF0K    Robert Osthues         1   January 26, 2018      True   \n",
              "57018  B07N91S9MW  JuIien Alexander         1   December 8, 2019     False   \n",
              "54890  B07K1M36CM             Brian         5   December 9, 2018      True   \n",
              "18924  B015ROR4PC             Jim S         5  September 3, 2016      True   \n",
              "\n",
              "                              title_x  \\\n",
              "12511  Moto X (2nd Gen) Hits the Mark   \n",
              "10492                Screen too small   \n",
              "57018      Phone's OS completely died   \n",
              "54890                     Great phone   \n",
              "18924     Very good, solid smartphone   \n",
              "\n",
              "                                                    body  helpfulVotes  \\\n",
              "12511  Great phone for the price. Very good screen re...           nan   \n",
              "10492  Looked like a Convoy 3 in the add, but the scr...           nan   \n",
              "57018  Phone's OS died after a week, no support, lost...           nan   \n",
              "54890  It's a great phone, loved the mate 10 pro, and...     8.0000000   \n",
              "18924  Very good, solid smartphone. Keeps a charge fo...     1.0000000   \n",
              "\n",
              "          brand                                            title_y  rating_y  \\\n",
              "12511  Motorola  Motorola Moto X (2nd generation) XT1097 GSM Un... 3.5000000   \n",
              "10492   Samsung       Samsung Gusto 3, Dark Blue, Verizon Wireless 3.2000000   \n",
              "57018  Motorola  Moto G7 – Unlocked – 64 GB – Ceramic Black (US... 4.1000000   \n",
              "54890    HUAWEI  Huawei Mate 20 Pro LYA-L29 128GB + 6GB - Facto... 4.6000000   \n",
              "18924  Motorola  Motorola Droid Turbo - 32GB Android Smartphone... 3.5000000   \n",
              "\n",
              "       totalReviews       price  originalPrice  \n",
              "12511           428   0.0000000      0.0000000  \n",
              "10492            81   0.0000000      0.0000000  \n",
              "57018           361 179.9900000    299.9900000  \n",
              "54890           153 459.9900000      0.0000000  \n",
              "18924            36  74.9900000      0.0000000  "
            ]
          },
          "metadata": {
            "tags": []
          },
          "execution_count": 19
        }
      ]
    },
    {
      "cell_type": "code",
      "metadata": {
        "colab": {
          "base_uri": "https://localhost:8080/"
        },
        "id": "V5NGWOJz-8dc",
        "outputId": "13b64bef-8492-478d-fc2a-662b9bf93557"
      },
      "source": [
        "print('Shape of data', df.shape)"
      ],
      "execution_count": 20,
      "outputs": [
        {
          "output_type": "stream",
          "text": [
            "Shape of data (67986, 14)\n"
          ],
          "name": "stdout"
        }
      ]
    },
    {
      "cell_type": "markdown",
      "metadata": {
        "id": "zdTfwlL7fYpq"
      },
      "source": [
        "### 4.9 Rename important features with appropriate names.\n",
        "Imortant features - \"rating_x\": \"user_rating\", \"title_x\": \"review_title\", \"title_y\": \"item_title\", \"rating_y\": \"overall_rating\""
      ]
    },
    {
      "cell_type": "code",
      "metadata": {
        "id": "KI-6FCkZztXM"
      },
      "source": [
        "df.rename(columns={\"rating_x\": \"user_rating\", \"title_x\": \"review_title\", \"title_y\": \"item_title\", \"rating_y\": \"overall_rating\"},inplace=True)"
      ],
      "execution_count": 21,
      "outputs": []
    },
    {
      "cell_type": "code",
      "metadata": {
        "colab": {
          "base_uri": "https://localhost:8080/"
        },
        "id": "65MNiB9BEByE",
        "outputId": "a97f9bc3-0353-4532-9212-7bee51e7ca98"
      },
      "source": [
        "df.columns"
      ],
      "execution_count": 22,
      "outputs": [
        {
          "output_type": "execute_result",
          "data": {
            "text/plain": [
              "Index(['asin', 'name', 'user_rating', 'date', 'verified', 'review_title',\n",
              "       'body', 'helpfulVotes', 'brand', 'item_title', 'overall_rating',\n",
              "       'totalReviews', 'price', 'originalPrice'],\n",
              "      dtype='object')"
            ]
          },
          "metadata": {
            "tags": []
          },
          "execution_count": 22
        }
      ]
    },
    {
      "cell_type": "markdown",
      "metadata": {
        "id": "_nf_r9XkEJut"
      },
      "source": [
        "### Inferences:- Feature names have been change to appropriate names for ease of understanding."
      ]
    },
    {
      "cell_type": "markdown",
      "metadata": {
        "id": "hNHEElHszthc"
      },
      "source": [
        "### 4.10 Select rows having verified reviews and check the shape of the final dataset"
      ]
    },
    {
      "cell_type": "code",
      "metadata": {
        "id": "Jyav9_Zoz-rT",
        "colab": {
          "base_uri": "https://localhost:8080/"
        },
        "outputId": "0a16f8c9-a96d-447d-d9ce-f70537adf396"
      },
      "source": [
        "df.verified.value_counts()"
      ],
      "execution_count": 23,
      "outputs": [
        {
          "output_type": "execute_result",
          "data": {
            "text/plain": [
              "True     61225\n",
              "False     6761\n",
              "Name: verified, dtype: int64"
            ]
          },
          "metadata": {
            "tags": []
          },
          "execution_count": 23
        }
      ]
    },
    {
      "cell_type": "markdown",
      "metadata": {
        "id": "j1Pv1dhPEaqs"
      },
      "source": [
        "### Inferences:- We have 6761 unverified reviews which can be dropped."
      ]
    },
    {
      "cell_type": "code",
      "metadata": {
        "id": "6rGHBrSpBoOP"
      },
      "source": [
        "df_v = df[df['verified']==True]"
      ],
      "execution_count": 24,
      "outputs": []
    },
    {
      "cell_type": "code",
      "metadata": {
        "colab": {
          "base_uri": "https://localhost:8080/"
        },
        "id": "T17nyWQLBymX",
        "outputId": "2c20a48a-32fb-46b9-cf3b-d9d1bb8908fb"
      },
      "source": [
        "print('Shape of verified reviews data: ', df_v.shape)"
      ],
      "execution_count": 25,
      "outputs": [
        {
          "output_type": "stream",
          "text": [
            "Shape of verified reviews data:  (61225, 14)\n"
          ],
          "name": "stdout"
        }
      ]
    },
    {
      "cell_type": "markdown",
      "metadata": {
        "id": "EpKusPjdz-2q"
      },
      "source": [
        "### 4.11 Check the number of reviews for various brands and report the brand that have highest number of reviews"
      ]
    },
    {
      "cell_type": "code",
      "metadata": {
        "id": "5tux6vwr0JDb",
        "colab": {
          "base_uri": "https://localhost:8080/",
          "height": 351
        },
        "outputId": "c8666860-662c-49a2-c692-61bf46cbacb0"
      },
      "source": [
        "df_v['brand'].value_counts().plot(kind='bar')"
      ],
      "execution_count": 26,
      "outputs": [
        {
          "output_type": "execute_result",
          "data": {
            "text/plain": [
              "<matplotlib.axes._subplots.AxesSubplot at 0x7f8bd5d1c6d0>"
            ]
          },
          "metadata": {
            "tags": []
          },
          "execution_count": 26
        },
        {
          "output_type": "display_data",
          "data": {
            "image/png": "[encoded data removed]",
            "text/plain": [
              "<Figure size 432x288 with 1 Axes>"
            ]
          },
          "metadata": {
            "tags": []
          }
        }
      ]
    },
    {
      "cell_type": "markdown",
      "metadata": {
        "id": "Q2sTM7sdDhuC"
      },
      "source": [
        "### Inferences:- \n",
        "#### 1.Here each row is an review for a product so a simple value_counts will gives no. of reviews. \n",
        "#### 2. Samsung has most number of reviews and ASUS has the least."
      ]
    },
    {
      "cell_type": "markdown",
      "metadata": {
        "id": "gPGjMFE-0Q5k"
      },
      "source": [
        "### 4.12 Drop irrelevant columns and keep important features like 'brand','body','price','user_rating','review_title' for further analysis"
      ]
    },
    {
      "cell_type": "code",
      "metadata": {
        "id": "J_IvLN6e0e6z"
      },
      "source": [
        "df_v = df_v[['brand','body','user_rating','review_title']]"
      ],
      "execution_count": 27,
      "outputs": []
    },
    {
      "cell_type": "markdown",
      "metadata": {
        "id": "OXO14ZdcHLEe"
      },
      "source": [
        "### Inference:- \n",
        "#### 1.Dropping all irrelevant columns including 'price' as we have established earlier that it contains junk values and can't be used for model building.\n",
        "#### 2.Using only cloumns 'brand','body','user_rating','review_title' only."
      ]
    },
    {
      "cell_type": "markdown",
      "metadata": {
        "id": "Gzo_rVT60fDf"
      },
      "source": [
        "### 4.13 Perform univariate analysis. Check distribution of price, user_rating"
      ]
    },
    {
      "cell_type": "code",
      "metadata": {
        "id": "F3vzILxZ0t0L",
        "colab": {
          "base_uri": "https://localhost:8080/",
          "height": 322
        },
        "outputId": "0161a548-cfa4-44b0-8d29-f5a90359f15e"
      },
      "source": [
        "sns.countplot(df_v['user_rating'])"
      ],
      "execution_count": 28,
      "outputs": [
        {
          "output_type": "execute_result",
          "data": {
            "text/plain": [
              "<matplotlib.axes._subplots.AxesSubplot at 0x7f8bd4ae0c90>"
            ]
          },
          "metadata": {
            "tags": []
          },
          "execution_count": 28
        },
        {
          "output_type": "display_data",
          "data": {
            "image/png": "[encoded data removed]",
            "text/plain": [
              "<Figure size 432x288 with 1 Axes>"
            ]
          },
          "metadata": {
            "tags": []
          }
        }
      ]
    },
    {
      "cell_type": "markdown",
      "metadata": {
        "id": "t3mq9uWqIVza"
      },
      "source": [
        "### Inference:- Data biased towards rating of \"5\"."
      ]
    },
    {
      "cell_type": "markdown",
      "metadata": {
        "id": "x0Y_kE9T0uAf"
      },
      "source": [
        "### 4.14 Create a new column called \"sentiment\". It should have value as 1 (positive) if the user_Rating is greater than 3, value as 0 (neutral) if the user_Rating == 3, and -1 (negative) is the user_Rating is less than 3."
      ]
    },
    {
      "cell_type": "code",
      "metadata": {
        "id": "jGon-2xU1Ujb",
        "colab": {
          "base_uri": "https://localhost:8080/"
        },
        "outputId": "f255e1c5-3e58-431c-b72a-816804401bbb"
      },
      "source": [
        "df_v['sentiment'] = df_v['user_rating'].apply(lambda x: 1 if x>3 else (0 if x==3else -1))\n",
        "df_v['sentiment'].sample(5)"
      ],
      "execution_count": 29,
      "outputs": [
        {
          "output_type": "execute_result",
          "data": {
            "text/plain": [
              "1706    -1\n",
              "35161   -1\n",
              "30294   -1\n",
              "54903    1\n",
              "43167    1\n",
              "Name: sentiment, dtype: int64"
            ]
          },
          "metadata": {
            "tags": []
          },
          "execution_count": 29
        }
      ]
    },
    {
      "cell_type": "markdown",
      "metadata": {
        "id": "K4rxSZWp1VAb"
      },
      "source": [
        "### 4.15 Check frequency distribution of the 'sentiment'"
      ]
    },
    {
      "cell_type": "code",
      "metadata": {
        "id": "yt3gH7Iz1dVP",
        "colab": {
          "base_uri": "https://localhost:8080/",
          "height": 322
        },
        "outputId": "f2f0f597-3154-4711-f75c-931bd252c223"
      },
      "source": [
        "sns.countplot(df_v['sentiment'])"
      ],
      "execution_count": 30,
      "outputs": [
        {
          "output_type": "execute_result",
          "data": {
            "text/plain": [
              "<matplotlib.axes._subplots.AxesSubplot at 0x7f8bd4992dd0>"
            ]
          },
          "metadata": {
            "tags": []
          },
          "execution_count": 30
        },
        {
          "output_type": "display_data",
          "data": {
            "image/png": "[encoded data removed]",
            "text/plain": [
              "<Figure size 432x288 with 1 Axes>"
            ]
          },
          "metadata": {
            "tags": []
          }
        }
      ]
    },
    {
      "cell_type": "markdown",
      "metadata": {
        "id": "xmzcJDcuLX_n"
      },
      "source": [
        "### Inference:- We have max positve sentiment and min of neutral sentiment."
      ]
    },
    {
      "cell_type": "markdown",
      "metadata": {
        "id": "rK0KMghP1ddb"
      },
      "source": [
        "### 4.16 Perform bivariate analysis. Check correlation/crosstab between features and write your inferences."
      ]
    },
    {
      "cell_type": "code",
      "metadata": {
        "colab": {
          "base_uri": "https://localhost:8080/",
          "height": 141
        },
        "id": "UYjKm0O4Nj4T",
        "outputId": "87052780-56f6-42d3-a5e6-1a124df4fe67"
      },
      "source": [
        "pd.crosstab(df_v['sentiment'],df_v['brand'],margins=True).style.background_gradient(cmap='Set2')"
      ],
      "execution_count": 31,
      "outputs": [
        {
          "output_type": "execute_result",
          "data": {
            "text/html": [
              "<style  type=\"text/css\" >\n",
              "#T_8ece0540_8fea_11eb_8bfc_0242ac1c0002row0_col0,#T_8ece0540_8fea_11eb_8bfc_0242ac1c0002row0_col1,#T_8ece0540_8fea_11eb_8bfc_0242ac1c0002row0_col2,#T_8ece0540_8fea_11eb_8bfc_0242ac1c0002row0_col4,#T_8ece0540_8fea_11eb_8bfc_0242ac1c0002row0_col5,#T_8ece0540_8fea_11eb_8bfc_0242ac1c0002row0_col7,#T_8ece0540_8fea_11eb_8bfc_0242ac1c0002row0_col8,#T_8ece0540_8fea_11eb_8bfc_0242ac1c0002row0_col10{\n",
              "            background-color:  #fc8d62;\n",
              "            color:  #000000;\n",
              "        }#T_8ece0540_8fea_11eb_8bfc_0242ac1c0002row0_col3,#T_8ece0540_8fea_11eb_8bfc_0242ac1c0002row0_col6,#T_8ece0540_8fea_11eb_8bfc_0242ac1c0002row0_col9,#T_8ece0540_8fea_11eb_8bfc_0242ac1c0002row1_col0,#T_8ece0540_8fea_11eb_8bfc_0242ac1c0002row1_col1,#T_8ece0540_8fea_11eb_8bfc_0242ac1c0002row1_col2,#T_8ece0540_8fea_11eb_8bfc_0242ac1c0002row1_col3,#T_8ece0540_8fea_11eb_8bfc_0242ac1c0002row1_col4,#T_8ece0540_8fea_11eb_8bfc_0242ac1c0002row1_col5,#T_8ece0540_8fea_11eb_8bfc_0242ac1c0002row1_col6,#T_8ece0540_8fea_11eb_8bfc_0242ac1c0002row1_col7,#T_8ece0540_8fea_11eb_8bfc_0242ac1c0002row1_col8,#T_8ece0540_8fea_11eb_8bfc_0242ac1c0002row1_col9,#T_8ece0540_8fea_11eb_8bfc_0242ac1c0002row1_col10{\n",
              "            background-color:  #66c2a5;\n",
              "            color:  #000000;\n",
              "        }#T_8ece0540_8fea_11eb_8bfc_0242ac1c0002row2_col0,#T_8ece0540_8fea_11eb_8bfc_0242ac1c0002row2_col1,#T_8ece0540_8fea_11eb_8bfc_0242ac1c0002row2_col2,#T_8ece0540_8fea_11eb_8bfc_0242ac1c0002row2_col4,#T_8ece0540_8fea_11eb_8bfc_0242ac1c0002row2_col7,#T_8ece0540_8fea_11eb_8bfc_0242ac1c0002row2_col8,#T_8ece0540_8fea_11eb_8bfc_0242ac1c0002row2_col10{\n",
              "            background-color:  #ffd92f;\n",
              "            color:  #000000;\n",
              "        }#T_8ece0540_8fea_11eb_8bfc_0242ac1c0002row2_col3,#T_8ece0540_8fea_11eb_8bfc_0242ac1c0002row2_col6,#T_8ece0540_8fea_11eb_8bfc_0242ac1c0002row2_col9{\n",
              "            background-color:  #e5c494;\n",
              "            color:  #000000;\n",
              "        }#T_8ece0540_8fea_11eb_8bfc_0242ac1c0002row2_col5{\n",
              "            background-color:  #a6d854;\n",
              "            color:  #000000;\n",
              "        }#T_8ece0540_8fea_11eb_8bfc_0242ac1c0002row3_col0,#T_8ece0540_8fea_11eb_8bfc_0242ac1c0002row3_col1,#T_8ece0540_8fea_11eb_8bfc_0242ac1c0002row3_col2,#T_8ece0540_8fea_11eb_8bfc_0242ac1c0002row3_col3,#T_8ece0540_8fea_11eb_8bfc_0242ac1c0002row3_col4,#T_8ece0540_8fea_11eb_8bfc_0242ac1c0002row3_col5,#T_8ece0540_8fea_11eb_8bfc_0242ac1c0002row3_col6,#T_8ece0540_8fea_11eb_8bfc_0242ac1c0002row3_col7,#T_8ece0540_8fea_11eb_8bfc_0242ac1c0002row3_col8,#T_8ece0540_8fea_11eb_8bfc_0242ac1c0002row3_col9,#T_8ece0540_8fea_11eb_8bfc_0242ac1c0002row3_col10{\n",
              "            background-color:  #b3b3b3;\n",
              "            color:  #000000;\n",
              "        }</style><table id=\"T_8ece0540_8fea_11eb_8bfc_0242ac1c0002\" ><thead>    <tr>        <th class=\"index_name level0\" >brand</th>        <th class=\"col_heading level0 col0\" >ASUS</th>        <th class=\"col_heading level0 col1\" >Apple</th>        <th class=\"col_heading level0 col2\" >Google</th>        <th class=\"col_heading level0 col3\" >HUAWEI</th>        <th class=\"col_heading level0 col4\" >Motorola</th>        <th class=\"col_heading level0 col5\" >Nokia</th>        <th class=\"col_heading level0 col6\" >OnePlus</th>        <th class=\"col_heading level0 col7\" >Samsung</th>        <th class=\"col_heading level0 col8\" >Sony</th>        <th class=\"col_heading level0 col9\" >Xiaomi</th>        <th class=\"col_heading level0 col10\" >All</th>    </tr>    <tr>        <th class=\"index_name level0\" >sentiment</th>        <th class=\"blank\" ></th>        <th class=\"blank\" ></th>        <th class=\"blank\" ></th>        <th class=\"blank\" ></th>        <th class=\"blank\" ></th>        <th class=\"blank\" ></th>        <th class=\"blank\" ></th>        <th class=\"blank\" ></th>        <th class=\"blank\" ></th>        <th class=\"blank\" ></th>        <th class=\"blank\" ></th>    </tr></thead><tbody>\n",
              "                <tr>\n",
              "                        <th id=\"T_8ece0540_8fea_11eb_8bfc_0242ac1c0002level0_row0\" class=\"row_heading level0 row0\" >-1</th>\n",
              "                        <td id=\"T_8ece0540_8fea_11eb_8bfc_0242ac1c0002row0_col0\" class=\"data row0 col0\" >49</td>\n",
              "                        <td id=\"T_8ece0540_8fea_11eb_8bfc_0242ac1c0002row0_col1\" class=\"data row0 col1\" >1320</td>\n",
              "                        <td id=\"T_8ece0540_8fea_11eb_8bfc_0242ac1c0002row0_col2\" class=\"data row0 col2\" >804</td>\n",
              "                        <td id=\"T_8ece0540_8fea_11eb_8bfc_0242ac1c0002row0_col3\" class=\"data row0 col3\" >261</td>\n",
              "                        <td id=\"T_8ece0540_8fea_11eb_8bfc_0242ac1c0002row0_col4\" class=\"data row0 col4\" >1667</td>\n",
              "                        <td id=\"T_8ece0540_8fea_11eb_8bfc_0242ac1c0002row0_col5\" class=\"data row0 col5\" >1437</td>\n",
              "                        <td id=\"T_8ece0540_8fea_11eb_8bfc_0242ac1c0002row0_col6\" class=\"data row0 col6\" >34</td>\n",
              "                        <td id=\"T_8ece0540_8fea_11eb_8bfc_0242ac1c0002row0_col7\" class=\"data row0 col7\" >7469</td>\n",
              "                        <td id=\"T_8ece0540_8fea_11eb_8bfc_0242ac1c0002row0_col8\" class=\"data row0 col8\" >663</td>\n",
              "                        <td id=\"T_8ece0540_8fea_11eb_8bfc_0242ac1c0002row0_col9\" class=\"data row0 col9\" >427</td>\n",
              "                        <td id=\"T_8ece0540_8fea_11eb_8bfc_0242ac1c0002row0_col10\" class=\"data row0 col10\" >14131</td>\n",
              "            </tr>\n",
              "            <tr>\n",
              "                        <th id=\"T_8ece0540_8fea_11eb_8bfc_0242ac1c0002level0_row1\" class=\"row_heading level0 row1\" >0</th>\n",
              "                        <td id=\"T_8ece0540_8fea_11eb_8bfc_0242ac1c0002row1_col0\" class=\"data row1 col0\" >20</td>\n",
              "                        <td id=\"T_8ece0540_8fea_11eb_8bfc_0242ac1c0002row1_col1\" class=\"data row1 col1\" >307</td>\n",
              "                        <td id=\"T_8ece0540_8fea_11eb_8bfc_0242ac1c0002row1_col2\" class=\"data row1 col2\" >207</td>\n",
              "                        <td id=\"T_8ece0540_8fea_11eb_8bfc_0242ac1c0002row1_col3\" class=\"data row1 col3\" >105</td>\n",
              "                        <td id=\"T_8ece0540_8fea_11eb_8bfc_0242ac1c0002row1_col4\" class=\"data row1 col4\" >553</td>\n",
              "                        <td id=\"T_8ece0540_8fea_11eb_8bfc_0242ac1c0002row1_col5\" class=\"data row1 col5\" >467</td>\n",
              "                        <td id=\"T_8ece0540_8fea_11eb_8bfc_0242ac1c0002row1_col6\" class=\"data row1 col6\" >11</td>\n",
              "                        <td id=\"T_8ece0540_8fea_11eb_8bfc_0242ac1c0002row1_col7\" class=\"data row1 col7\" >2030</td>\n",
              "                        <td id=\"T_8ece0540_8fea_11eb_8bfc_0242ac1c0002row1_col8\" class=\"data row1 col8\" >216</td>\n",
              "                        <td id=\"T_8ece0540_8fea_11eb_8bfc_0242ac1c0002row1_col9\" class=\"data row1 col9\" >201</td>\n",
              "                        <td id=\"T_8ece0540_8fea_11eb_8bfc_0242ac1c0002row1_col10\" class=\"data row1 col10\" >4117</td>\n",
              "            </tr>\n",
              "            <tr>\n",
              "                        <th id=\"T_8ece0540_8fea_11eb_8bfc_0242ac1c0002level0_row2\" class=\"row_heading level0 row2\" >1</th>\n",
              "                        <td id=\"T_8ece0540_8fea_11eb_8bfc_0242ac1c0002row2_col0\" class=\"data row2 col0\" >137</td>\n",
              "                        <td id=\"T_8ece0540_8fea_11eb_8bfc_0242ac1c0002row2_col1\" class=\"data row2 col1\" >3249</td>\n",
              "                        <td id=\"T_8ece0540_8fea_11eb_8bfc_0242ac1c0002row2_col2\" class=\"data row2 col2\" >2152</td>\n",
              "                        <td id=\"T_8ece0540_8fea_11eb_8bfc_0242ac1c0002row2_col3\" class=\"data row2 col3\" >1653</td>\n",
              "                        <td id=\"T_8ece0540_8fea_11eb_8bfc_0242ac1c0002row2_col4\" class=\"data row2 col4\" >5494</td>\n",
              "                        <td id=\"T_8ece0540_8fea_11eb_8bfc_0242ac1c0002row2_col5\" class=\"data row2 col5\" >2974</td>\n",
              "                        <td id=\"T_8ece0540_8fea_11eb_8bfc_0242ac1c0002row2_col6\" class=\"data row2 col6\" >259</td>\n",
              "                        <td id=\"T_8ece0540_8fea_11eb_8bfc_0242ac1c0002row2_col7\" class=\"data row2 col7\" >21521</td>\n",
              "                        <td id=\"T_8ece0540_8fea_11eb_8bfc_0242ac1c0002row2_col8\" class=\"data row2 col8\" >1812</td>\n",
              "                        <td id=\"T_8ece0540_8fea_11eb_8bfc_0242ac1c0002row2_col9\" class=\"data row2 col9\" >3579</td>\n",
              "                        <td id=\"T_8ece0540_8fea_11eb_8bfc_0242ac1c0002row2_col10\" class=\"data row2 col10\" >42830</td>\n",
              "            </tr>\n",
              "            <tr>\n",
              "                        <th id=\"T_8ece0540_8fea_11eb_8bfc_0242ac1c0002level0_row3\" class=\"row_heading level0 row3\" >All</th>\n",
              "                        <td id=\"T_8ece0540_8fea_11eb_8bfc_0242ac1c0002row3_col0\" class=\"data row3 col0\" >206</td>\n",
              "                        <td id=\"T_8ece0540_8fea_11eb_8bfc_0242ac1c0002row3_col1\" class=\"data row3 col1\" >4876</td>\n",
              "                        <td id=\"T_8ece0540_8fea_11eb_8bfc_0242ac1c0002row3_col2\" class=\"data row3 col2\" >3163</td>\n",
              "                        <td id=\"T_8ece0540_8fea_11eb_8bfc_0242ac1c0002row3_col3\" class=\"data row3 col3\" >2019</td>\n",
              "                        <td id=\"T_8ece0540_8fea_11eb_8bfc_0242ac1c0002row3_col4\" class=\"data row3 col4\" >7714</td>\n",
              "                        <td id=\"T_8ece0540_8fea_11eb_8bfc_0242ac1c0002row3_col5\" class=\"data row3 col5\" >4878</td>\n",
              "                        <td id=\"T_8ece0540_8fea_11eb_8bfc_0242ac1c0002row3_col6\" class=\"data row3 col6\" >304</td>\n",
              "                        <td id=\"T_8ece0540_8fea_11eb_8bfc_0242ac1c0002row3_col7\" class=\"data row3 col7\" >31020</td>\n",
              "                        <td id=\"T_8ece0540_8fea_11eb_8bfc_0242ac1c0002row3_col8\" class=\"data row3 col8\" >2691</td>\n",
              "                        <td id=\"T_8ece0540_8fea_11eb_8bfc_0242ac1c0002row3_col9\" class=\"data row3 col9\" >4207</td>\n",
              "                        <td id=\"T_8ece0540_8fea_11eb_8bfc_0242ac1c0002row3_col10\" class=\"data row3 col10\" >61078</td>\n",
              "            </tr>\n",
              "    </tbody></table>"
            ],
            "text/plain": [
              "<pandas.io.formats.style.Styler at 0x7f8bd46eb150>"
            ]
          },
          "metadata": {
            "tags": []
          },
          "execution_count": 31
        }
      ]
    },
    {
      "cell_type": "code",
      "metadata": {
        "id": "scAV4fRg1nX0",
        "colab": {
          "base_uri": "https://localhost:8080/",
          "height": 372
        },
        "outputId": "fb83e46d-039c-437f-9391-b169dc861a28"
      },
      "source": [
        "pd.crosstab(df_v['sentiment'],df_v['brand']).T.plot(kind = 'bar')"
      ],
      "execution_count": 32,
      "outputs": [
        {
          "output_type": "execute_result",
          "data": {
            "text/plain": [
              "<matplotlib.axes._subplots.AxesSubplot at 0x7f8bd47f1790>"
            ]
          },
          "metadata": {
            "tags": []
          },
          "execution_count": 32
        },
        {
          "output_type": "display_data",
          "data": {
            "image/png": "[encoded data removed]",
            "text/plain": [
              "<Figure size 432x288 with 1 Axes>"
            ]
          },
          "metadata": {
            "tags": []
          }
        }
      ]
    },
    {
      "cell_type": "markdown",
      "metadata": {
        "id": "vEx02GRrRIjX"
      },
      "source": [
        "### Inferences:- \n",
        "#### 1.Samsung, Apple and Motrola have maximum positive and negative sentiment.\n",
        "#### 2.Xiamoi, OnePlus and HUAWEI has more postive sentiment compared to their negative sentiment."
      ]
    },
    {
      "cell_type": "markdown",
      "metadata": {
        "id": "2Nzj7ZXVLakx"
      },
      "source": [
        "## 5. Text Preprocessing and Vectorization"
      ]
    },
    {
      "cell_type": "markdown",
      "metadata": {
        "id": "ZbC_RPndnlf3"
      },
      "source": [
        "We will analyze the 'body' and 'review_title' to gain more understanding.\n",
        "\n",
        "We will ppeform the below tasks\n",
        "\n",
        "- Convert the text into lowercase\n",
        "- Remove punctuation\n",
        "- Remove stopwords (English, from nltk corpus)\n",
        "- Remove other keywords like \"phone\" and brand name"
      ]
    },
    {
      "cell_type": "markdown",
      "metadata": {
        "id": "XnhMQsxz2DJH"
      },
      "source": [
        "### 5.1 Change the datatype of the 'body' column to 'str' and convert it into lowercase. Print any two samples and check the output."
      ]
    },
    {
      "cell_type": "code",
      "metadata": {
        "id": "5iZ61zWfYlel"
      },
      "source": [
        "df_v['body'] = df_v['body'].astype('str')"
      ],
      "execution_count": 33,
      "outputs": []
    },
    {
      "cell_type": "code",
      "metadata": {
        "id": "sZL54-u1R54G"
      },
      "source": [
        "df_v['body'] = df_v['body'].str.lower()"
      ],
      "execution_count": 34,
      "outputs": []
    },
    {
      "cell_type": "code",
      "metadata": {
        "colab": {
          "base_uri": "https://localhost:8080/"
        },
        "id": "d-c9Ytv6SP3R",
        "outputId": "d7025ab7-10bd-43c0-ad01-454100b14e4f"
      },
      "source": [
        "df_v['body'].sample(2)"
      ],
      "execution_count": 35,
      "outputs": [
        {
          "output_type": "execute_result",
          "data": {
            "text/plain": [
              "31997    i was skeptical about ordering an iphone from ...\n",
              "42339    the model advertised is a1865, the one i recei...\n",
              "Name: body, dtype: object"
            ]
          },
          "metadata": {
            "tags": []
          },
          "execution_count": 35
        }
      ]
    },
    {
      "cell_type": "code",
      "metadata": {
        "id": "uCIlpQYcSZAI"
      },
      "source": [
        "df_v['review_title'] = df_v['review_title'].str.lower()"
      ],
      "execution_count": 36,
      "outputs": []
    },
    {
      "cell_type": "code",
      "metadata": {
        "colab": {
          "base_uri": "https://localhost:8080/"
        },
        "id": "e6Y-jHYpSfXI",
        "outputId": "49815e77-486b-4c70-d325-fbd94656cf79"
      },
      "source": [
        "df_v['review_title'].sample(2)"
      ],
      "execution_count": 37,
      "outputs": [
        {
          "output_type": "execute_result",
          "data": {
            "text/plain": [
              "8793     four stars\n",
              "33548    five stars\n",
              "Name: review_title, dtype: object"
            ]
          },
          "metadata": {
            "tags": []
          },
          "execution_count": 37
        }
      ]
    },
    {
      "cell_type": "markdown",
      "metadata": {
        "id": "lsppV0X52VXf"
      },
      "source": [
        "### 5.2 Remove punctuations from the lowercased 'body' column and display at least two samples."
      ]
    },
    {
      "cell_type": "code",
      "metadata": {
        "id": "lQXKc8et2onG"
      },
      "source": [
        "df_v['body'] = df_v['body'].str.replace('[^\\w\\s]','') # REGEX :: ^ = except, \\w = a-z & 0-9, \\s = white space"
      ],
      "execution_count": 38,
      "outputs": []
    },
    {
      "cell_type": "code",
      "metadata": {
        "colab": {
          "base_uri": "https://localhost:8080/"
        },
        "id": "oEnEvCTSUsok",
        "outputId": "f50c68d4-d1ab-40aa-9d11-faada9fd7af3"
      },
      "source": [
        "df_v['body'].sample(2)"
      ],
      "execution_count": 39,
      "outputs": [
        {
          "output_type": "execute_result",
          "data": {
            "text/plain": [
              "67865    best budget phone\n",
              "14131       great products\n",
              "Name: body, dtype: object"
            ]
          },
          "metadata": {
            "tags": []
          },
          "execution_count": 39
        }
      ]
    },
    {
      "cell_type": "code",
      "metadata": {
        "id": "EQ4YvKsWUzYH"
      },
      "source": [
        "df_v['review_title'] = df_v['review_title'].str.replace('[^\\w\\s]','')"
      ],
      "execution_count": 40,
      "outputs": []
    },
    {
      "cell_type": "code",
      "metadata": {
        "colab": {
          "base_uri": "https://localhost:8080/"
        },
        "id": "Pvb5EGAiU4BD",
        "outputId": "b9437581-48d7-488b-f7de-271b8c3503a3"
      },
      "source": [
        "df_v['review_title'].sample(2)"
      ],
      "execution_count": 41,
      "outputs": [
        {
          "output_type": "execute_result",
          "data": {
            "text/plain": [
              "47226    i love this phone so far\n",
              "33484                  five stars\n",
              "Name: review_title, dtype: object"
            ]
          },
          "metadata": {
            "tags": []
          },
          "execution_count": 41
        }
      ]
    },
    {
      "cell_type": "code",
      "metadata": {
        "colab": {
          "base_uri": "https://localhost:8080/"
        },
        "id": "TwDjsPlwXiRR",
        "outputId": "8729b3da-737c-4007-94c9-25a3d1672c97"
      },
      "source": [
        "df_v['body'].isnull().sum()"
      ],
      "execution_count": 42,
      "outputs": [
        {
          "output_type": "execute_result",
          "data": {
            "text/plain": [
              "0"
            ]
          },
          "metadata": {
            "tags": []
          },
          "execution_count": 42
        }
      ]
    },
    {
      "cell_type": "markdown",
      "metadata": {
        "id": "8Zk7ja6A2owN"
      },
      "source": [
        "### 5.3 Remove stop words from the above pre-processed 'body' column and display at least two samples."
      ]
    },
    {
      "cell_type": "code",
      "metadata": {
        "id": "1d-DhX_e2yQ-"
      },
      "source": [
        "import nltk"
      ],
      "execution_count": 43,
      "outputs": []
    },
    {
      "cell_type": "code",
      "metadata": {
        "colab": {
          "base_uri": "https://localhost:8080/"
        },
        "id": "wyS9MjVmWeDy",
        "outputId": "53a0e0fc-047e-4e9f-8c5f-6740e1bc7c62"
      },
      "source": [
        "from nltk.corpus import stopwords\n",
        "nltk.download('stopwords')\n",
        "stop_words = stopwords.words('english')"
      ],
      "execution_count": 44,
      "outputs": [
        {
          "output_type": "stream",
          "text": [
            "[nltk_data] Downloading package stopwords to /root/nltk_data...\n",
            "[nltk_data]   Package stopwords is already up-to-date!\n"
          ],
          "name": "stdout"
        }
      ]
    },
    {
      "cell_type": "code",
      "metadata": {
        "id": "7BAD4UueW0SA"
      },
      "source": [
        "df_v['body'] = df_v['body'].apply(lambda x: ' '.join(word for word in x.split() if word not in (stop_words)))"
      ],
      "execution_count": 45,
      "outputs": []
    },
    {
      "cell_type": "code",
      "metadata": {
        "colab": {
          "base_uri": "https://localhost:8080/"
        },
        "id": "AC49emnOXX39",
        "outputId": "524c3210-a4bf-4403-c839-6345ea0c8c99"
      },
      "source": [
        "df_v['body'].sample(2)"
      ],
      "execution_count": 46,
      "outputs": [
        {
          "output_type": "execute_result",
          "data": {
            "text/plain": [
              "2796     loved phone started malfunctioning late januar...\n",
              "64874    disapointed order nerver received waiting cash...\n",
              "Name: body, dtype: object"
            ]
          },
          "metadata": {
            "tags": []
          },
          "execution_count": 46
        }
      ]
    },
    {
      "cell_type": "markdown",
      "metadata": {
        "id": "TQNvXay42yaQ"
      },
      "source": [
        "### 5.4 Apply lemmatisation on the above preprocessed text and display a few samples"
      ]
    },
    {
      "cell_type": "code",
      "metadata": {
        "id": "oQ1VfFaa3DET",
        "colab": {
          "base_uri": "https://localhost:8080/"
        },
        "outputId": "d2c10558-f861-4835-eea4-b9cbbe0cd6e1"
      },
      "source": [
        "nltk.download('wordnet')\n",
        "\n",
        "lemmatizer = nltk.WordNetLemmatizer()"
      ],
      "execution_count": 47,
      "outputs": [
        {
          "output_type": "stream",
          "text": [
            "[nltk_data] Downloading package wordnet to /root/nltk_data...\n",
            "[nltk_data]   Package wordnet is already up-to-date!\n"
          ],
          "name": "stdout"
        }
      ]
    },
    {
      "cell_type": "code",
      "metadata": {
        "id": "gZ4NOtMJc7nq"
      },
      "source": [
        "def lemmatize_text(text):\n",
        "  return [' '.join([lemmatizer.lemmatize(word) for word in review.split()]) for review in text]"
      ],
      "execution_count": 48,
      "outputs": []
    },
    {
      "cell_type": "code",
      "metadata": {
        "id": "7QZDEUOhdO8g"
      },
      "source": [
        "df_v['text_lemmatized'] = lemmatize_text(df_v['body'].tolist())"
      ],
      "execution_count": 49,
      "outputs": []
    },
    {
      "cell_type": "code",
      "metadata": {
        "colab": {
          "base_uri": "https://localhost:8080/",
          "height": 106
        },
        "id": "azA8SQSQdaci",
        "outputId": "926ada05-07cb-4c39-be6c-c43a7c294059"
      },
      "source": [
        "df_v.sample(2)"
      ],
      "execution_count": 50,
      "outputs": [
        {
          "output_type": "execute_result",
          "data": {
            "text/html": [
              "<div>\n",
              "<style scoped>\n",
              "    .dataframe tbody tr th:only-of-type {\n",
              "        vertical-align: middle;\n",
              "    }\n",
              "\n",
              "    .dataframe tbody tr th {\n",
              "        vertical-align: top;\n",
              "    }\n",
              "\n",
              "    .dataframe thead th {\n",
              "        text-align: right;\n",
              "    }\n",
              "</style>\n",
              "<table border=\"1\" class=\"dataframe\">\n",
              "  <thead>\n",
              "    <tr style=\"text-align: right;\">\n",
              "      <th></th>\n",
              "      <th>brand</th>\n",
              "      <th>body</th>\n",
              "      <th>user_rating</th>\n",
              "      <th>review_title</th>\n",
              "      <th>sentiment</th>\n",
              "      <th>text_lemmatized</th>\n",
              "    </tr>\n",
              "  </thead>\n",
              "  <tbody>\n",
              "    <tr>\n",
              "      <th>40713</th>\n",
              "      <td>Samsung</td>\n",
              "      <td>works visible signs prior use speaker sounds b...</td>\n",
              "      <td>4</td>\n",
              "      <td>almost perfect</td>\n",
              "      <td>1</td>\n",
              "      <td>work visible sign prior use speaker sound bit ...</td>\n",
              "    </tr>\n",
              "    <tr>\n",
              "      <th>57544</th>\n",
              "      <td>Motorola</td>\n",
              "      <td>far good enjoyed moto g4 g7 improvement especi...</td>\n",
              "      <td>5</td>\n",
              "      <td>great phone at great price</td>\n",
              "      <td>1</td>\n",
              "      <td>far good enjoyed moto g4 g7 improvement especi...</td>\n",
              "    </tr>\n",
              "  </tbody>\n",
              "</table>\n",
              "</div>"
            ],
            "text/plain": [
              "          brand                                               body  \\\n",
              "40713   Samsung  works visible signs prior use speaker sounds b...   \n",
              "57544  Motorola  far good enjoyed moto g4 g7 improvement especi...   \n",
              "\n",
              "       user_rating                review_title  sentiment  \\\n",
              "40713            4              almost perfect          1   \n",
              "57544            5  great phone at great price          1   \n",
              "\n",
              "                                         text_lemmatized  \n",
              "40713  work visible sign prior use speaker sound bit ...  \n",
              "57544  far good enjoyed moto g4 g7 improvement especi...  "
            ]
          },
          "metadata": {
            "tags": []
          },
          "execution_count": 50
        }
      ]
    },
    {
      "cell_type": "markdown",
      "metadata": {
        "id": "OzweL_fA3DiN"
      },
      "source": [
        "### 5.5 Write a function to check word frequency of the text"
      ]
    },
    {
      "cell_type": "code",
      "metadata": {
        "colab": {
          "base_uri": "https://localhost:8080/"
        },
        "id": "xVfAwGigm_ma",
        "outputId": "ab143d62-66fd-4cea-cf4f-0bffb4de809d"
      },
      "source": [
        "from collections import Counter\n",
        "counts = Counter(df_v['body']).most_common(10)\n",
        "print(counts)"
      ],
      "execution_count": 51,
      "outputs": [
        {
          "output_type": "stream",
          "text": [
            "[('good', 737), ('great phone', 409), ('love', 373), ('great', 248), ('love phone', 225), ('excellent', 221), ('excelente', 198), ('good phone', 176), ('perfect', 169), ('ok', 144)]\n"
          ],
          "name": "stdout"
        }
      ]
    },
    {
      "cell_type": "markdown",
      "metadata": {
        "id": "s0UgcEo_6l8O"
      },
      "source": [
        "### 5.6 Check word frequency of review having top ratings (sentiment = 1) and display output of few samples"
      ]
    },
    {
      "cell_type": "code",
      "metadata": {
        "id": "BLEEFEmv60mU"
      },
      "source": [
        "df_new_top = df_v[df_v['sentiment']==1]['body']"
      ],
      "execution_count": 52,
      "outputs": []
    },
    {
      "cell_type": "code",
      "metadata": {
        "colab": {
          "base_uri": "https://localhost:8080/"
        },
        "id": "s4omMgqCt2DT",
        "outputId": "a7453fec-a68d-4755-f1ff-df0124a7e9d4"
      },
      "source": [
        "counts = Counter(df_new_top).most_common(10)\n",
        "print(counts)"
      ],
      "execution_count": 53,
      "outputs": [
        {
          "output_type": "stream",
          "text": [
            "[('good', 683), ('great phone', 408), ('love', 369), ('great', 247), ('love phone', 225), ('excellent', 221), ('excelente', 198), ('good phone', 171), ('perfect', 169), ('nice', 129)]\n"
          ],
          "name": "stdout"
        }
      ]
    },
    {
      "cell_type": "markdown",
      "metadata": {
        "id": "9UbdTGsv60t1"
      },
      "source": [
        "### 5.7 Initialize tf-idf vectorizer and transform the preprocessed body text"
      ]
    },
    {
      "cell_type": "code",
      "metadata": {
        "id": "_Jfo6go_69yh"
      },
      "source": [
        "# import and instantiate TF-IDF Vectorizer (with the default parameters)\n",
        "from sklearn.feature_extraction.text import TfidfVectorizer\n",
        "tvect = TfidfVectorizer()"
      ],
      "execution_count": 54,
      "outputs": []
    },
    {
      "cell_type": "code",
      "metadata": {
        "id": "V69jK96OfUwK"
      },
      "source": [
        "X = tvect.fit_transform(df_v['body'])"
      ],
      "execution_count": 55,
      "outputs": []
    },
    {
      "cell_type": "code",
      "metadata": {
        "colab": {
          "base_uri": "https://localhost:8080/"
        },
        "id": "kXTjLRcnfoXX",
        "outputId": "857a6bfe-bf71-4666-fa9e-62b7ff61b3ac"
      },
      "source": [
        "X"
      ],
      "execution_count": 56,
      "outputs": [
        {
          "output_type": "execute_result",
          "data": {
            "text/plain": [
              "<61225x38370 sparse matrix of type '<class 'numpy.float64'>'\n",
              "\twith 1190428 stored elements in Compressed Sparse Row format>"
            ]
          },
          "metadata": {
            "tags": []
          },
          "execution_count": 56
        }
      ]
    },
    {
      "cell_type": "code",
      "metadata": {
        "id": "rSdFDe4F0Opa"
      },
      "source": [
        "X_new = tvect.fit_transform(df_v['text_lemmatized'])"
      ],
      "execution_count": 57,
      "outputs": []
    },
    {
      "cell_type": "markdown",
      "metadata": {
        "id": "5dqPXETLKN0h"
      },
      "source": [
        "### 5.8 Segregate the data into dependent (sentiment) and independent (transformed body using tf-idf) features for building a classifier. "
      ]
    },
    {
      "cell_type": "code",
      "metadata": {
        "id": "mpOLAYn07W6F"
      },
      "source": [
        "y = df_v['sentiment']"
      ],
      "execution_count": 58,
      "outputs": []
    },
    {
      "cell_type": "markdown",
      "metadata": {
        "id": "4K03FO0q7XBP"
      },
      "source": [
        "### 5.9 Split the data into Train & Test Sets"
      ]
    },
    {
      "cell_type": "code",
      "metadata": {
        "id": "D548-7cE7dZa"
      },
      "source": [
        "from sklearn.model_selection import train_test_split"
      ],
      "execution_count": 59,
      "outputs": []
    },
    {
      "cell_type": "code",
      "metadata": {
        "id": "cfVSDmqvgZ-6"
      },
      "source": [
        "X_train, X_test, y_train, y_test = train_test_split(X,y, test_size =  0.3, random_state = 42)"
      ],
      "execution_count": 60,
      "outputs": []
    },
    {
      "cell_type": "code",
      "metadata": {
        "id": "HIliHYqf0e9s"
      },
      "source": [
        "X_train_new, X_test_new, y_train_new, y_test_new = train_test_split(X_new,y, test_size =  0.3, random_state = 42)"
      ],
      "execution_count": 61,
      "outputs": []
    },
    {
      "cell_type": "code",
      "metadata": {
        "colab": {
          "base_uri": "https://localhost:8080/"
        },
        "id": "5GC19IpUhBPN",
        "outputId": "c2f17d2d-7b49-4cc8-9a02-28bfa58f5e5d"
      },
      "source": [
        "print(\"Shape of Train data: \",X_train.shape)\n",
        "print(\"Shape of Test data: \",X_test.shape)"
      ],
      "execution_count": 62,
      "outputs": [
        {
          "output_type": "stream",
          "text": [
            "Shape of Train data:  (42857, 38370)\n",
            "Shape of Test data:  (18368, 38370)\n"
          ],
          "name": "stdout"
        }
      ]
    },
    {
      "cell_type": "code",
      "metadata": {
        "colab": {
          "base_uri": "https://localhost:8080/"
        },
        "id": "Xh9i0nWLhSHN",
        "outputId": "3fa7d16a-eb98-43c7-80ec-39a66ce6fd89"
      },
      "source": [
        "print(\"Shape of Train label: \",y_train.shape)\n",
        "print(\"Shape of Test label: \",y_test.shape)"
      ],
      "execution_count": 63,
      "outputs": [
        {
          "output_type": "stream",
          "text": [
            "Shape of Train label:  (42857,)\n",
            "Shape of Test label:  (18368,)\n"
          ],
          "name": "stdout"
        }
      ]
    },
    {
      "cell_type": "markdown",
      "metadata": {
        "id": "rhD1a-beKvE7"
      },
      "source": [
        "## 6. Model building"
      ]
    },
    {
      "cell_type": "markdown",
      "metadata": {
        "id": "UPFovmN03exD"
      },
      "source": [
        "### 6.1 Build a random forest classifier to predict the 'sentiment'\n",
        "### 6.2 Predict on test set\n",
        "### 6.3 Check accuracy and confusion matrix"
      ]
    },
    {
      "cell_type": "code",
      "metadata": {
        "colab": {
          "base_uri": "https://localhost:8080/"
        },
        "id": "B4cHVAUN2fJr",
        "outputId": "a651ac2d-2c73-4b64-9838-ff05b62c7c57"
      },
      "source": [
        "#Creating DataFrame for storing the accuracies of all different models\n",
        "col_names = ['Model', 'Accuracy']\n",
        "resultsdf = pd.DataFrame(columns = col_names)\n",
        "print(resultsdf)"
      ],
      "execution_count": 64,
      "outputs": [
        {
          "output_type": "stream",
          "text": [
            "Empty DataFrame\n",
            "Columns: [Model, Accuracy]\n",
            "Index: []\n"
          ],
          "name": "stdout"
        }
      ]
    },
    {
      "cell_type": "markdown",
      "metadata": {
        "id": "FpRvdRQn1a_C"
      },
      "source": [
        "### Training model without lemmatization"
      ]
    },
    {
      "cell_type": "code",
      "metadata": {
        "id": "y0ytdD-_30P9",
        "colab": {
          "base_uri": "https://localhost:8080/"
        },
        "outputId": "1461543d-8df5-4258-f7b4-d753c7d4aab0"
      },
      "source": [
        "from sklearn.ensemble import RandomForestClassifier\n",
        "rf=RandomForestClassifier(n_estimators=50)\n",
        "rf.fit(X_train,y_train)"
      ],
      "execution_count": 65,
      "outputs": [
        {
          "output_type": "execute_result",
          "data": {
            "text/plain": [
              "RandomForestClassifier(bootstrap=True, ccp_alpha=0.0, class_weight=None,\n",
              "                       criterion='gini', max_depth=None, max_features='auto',\n",
              "                       max_leaf_nodes=None, max_samples=None,\n",
              "                       min_impurity_decrease=0.0, min_impurity_split=None,\n",
              "                       min_samples_leaf=1, min_samples_split=2,\n",
              "                       min_weight_fraction_leaf=0.0, n_estimators=50,\n",
              "                       n_jobs=None, oob_score=False, random_state=None,\n",
              "                       verbose=0, warm_start=False)"
            ]
          },
          "metadata": {
            "tags": []
          },
          "execution_count": 65
        }
      ]
    },
    {
      "cell_type": "code",
      "metadata": {
        "id": "tKh9MW3IiJGQ"
      },
      "source": [
        "r_pred=rf.predict(X_test)"
      ],
      "execution_count": 66,
      "outputs": []
    },
    {
      "cell_type": "code",
      "metadata": {
        "id": "NJ6Ke4hl30Zk",
        "colab": {
          "base_uri": "https://localhost:8080/"
        },
        "outputId": "a814f5e8-e479-4180-b54d-700f97f4bb18"
      },
      "source": [
        "from sklearn.metrics import accuracy_score,confusion_matrix\n",
        "print(\"Accuracy Score of testing set: {}\".format(accuracy_score(y_test,r_pred)))\n",
        "print(\"Accuracy Score of training set: {}\".format(accuracy_score(y_train,rf.predict(X_train))))"
      ],
      "execution_count": 67,
      "outputs": [
        {
          "output_type": "stream",
          "text": [
            "Accuracy Score of testing set: 0.8571428571428571\n",
            "Accuracy Score of training set: 0.9948199827332758\n"
          ],
          "name": "stdout"
        }
      ]
    },
    {
      "cell_type": "code",
      "metadata": {
        "colab": {
          "base_uri": "https://localhost:8080/",
          "height": 924
        },
        "id": "xbJIx5Pj3Gsb",
        "outputId": "2adb8499-6ee2-49d9-acde-a6d8daf42531"
      },
      "source": [
        "cm = confusion_matrix(y_test, r_pred)\n",
        "plt.figure(figsize=(15,15))\n",
        "sns.heatmap(cm, annot = True, fmt = '.3f', linewidths = .5, square = True, cmap='Blues_r')\n",
        "plt.ylabel('Actual Label')\n",
        "plt.xlabel('Predicted Label')\n",
        "all_sample_title = 'Accuracy Score : {0}'.format(accuracy_score(y_test,r_pred))\n",
        "plt.title(all_sample_title, size = 20)"
      ],
      "execution_count": 68,
      "outputs": [
        {
          "output_type": "execute_result",
          "data": {
            "text/plain": [
              "Text(0.5, 1.0, 'Accuracy Score : 0.8571428571428571')"
            ]
          },
          "metadata": {
            "tags": []
          },
          "execution_count": 68
        },
        {
          "output_type": "display_data",
          "data": {
            "image/png": "[encoded data removed]",
            "text/plain": [
              "<Figure size 1080x1080 with 2 Axes>"
            ]
          },
          "metadata": {
            "tags": []
          }
        }
      ]
    },
    {
      "cell_type": "code",
      "metadata": {
        "colab": {
          "base_uri": "https://localhost:8080/",
          "height": 76
        },
        "id": "Wtg4wySu2gpN",
        "outputId": "768181c6-fab8-4f09-93d8-25f671c3ad33"
      },
      "source": [
        "# Adding Final accuracy value to Results DataFrame\n",
        "tempResultsDf = pd.DataFrame({'Model':['RF w/o Lemmatizer'],'Accuracy': (accuracy_score(y_test,r_pred))},index={'1'})\n",
        "resultsdf = pd.concat([resultsdf, tempResultsDf])\n",
        "resultsdf"
      ],
      "execution_count": 69,
      "outputs": [
        {
          "output_type": "execute_result",
          "data": {
            "text/html": [
              "<div>\n",
              "<style scoped>\n",
              "    .dataframe tbody tr th:only-of-type {\n",
              "        vertical-align: middle;\n",
              "    }\n",
              "\n",
              "    .dataframe tbody tr th {\n",
              "        vertical-align: top;\n",
              "    }\n",
              "\n",
              "    .dataframe thead th {\n",
              "        text-align: right;\n",
              "    }\n",
              "</style>\n",
              "<table border=\"1\" class=\"dataframe\">\n",
              "  <thead>\n",
              "    <tr style=\"text-align: right;\">\n",
              "      <th></th>\n",
              "      <th>Model</th>\n",
              "      <th>Accuracy</th>\n",
              "    </tr>\n",
              "  </thead>\n",
              "  <tbody>\n",
              "    <tr>\n",
              "      <th>1</th>\n",
              "      <td>RF w/o Lemmatizer</td>\n",
              "      <td>0.8571429</td>\n",
              "    </tr>\n",
              "  </tbody>\n",
              "</table>\n",
              "</div>"
            ],
            "text/plain": [
              "               Model  Accuracy\n",
              "1  RF w/o Lemmatizer 0.8571429"
            ]
          },
          "metadata": {
            "tags": []
          },
          "execution_count": 69
        }
      ]
    },
    {
      "cell_type": "markdown",
      "metadata": {
        "id": "-hRJcK1X02yl"
      },
      "source": [
        "### Training model with lemmatization"
      ]
    },
    {
      "cell_type": "code",
      "metadata": {
        "colab": {
          "base_uri": "https://localhost:8080/"
        },
        "id": "cx9ok5E-02aJ",
        "outputId": "a8062804-8906-428a-d49c-17f7d9c89c2c"
      },
      "source": [
        "from sklearn.ensemble import RandomForestClassifier\n",
        "rf_1=RandomForestClassifier(n_estimators=50)\n",
        "rf_1.fit(X_train_new,y_train_new)"
      ],
      "execution_count": 70,
      "outputs": [
        {
          "output_type": "execute_result",
          "data": {
            "text/plain": [
              "RandomForestClassifier(bootstrap=True, ccp_alpha=0.0, class_weight=None,\n",
              "                       criterion='gini', max_depth=None, max_features='auto',\n",
              "                       max_leaf_nodes=None, max_samples=None,\n",
              "                       min_impurity_decrease=0.0, min_impurity_split=None,\n",
              "                       min_samples_leaf=1, min_samples_split=2,\n",
              "                       min_weight_fraction_leaf=0.0, n_estimators=50,\n",
              "                       n_jobs=None, oob_score=False, random_state=None,\n",
              "                       verbose=0, warm_start=False)"
            ]
          },
          "metadata": {
            "tags": []
          },
          "execution_count": 70
        }
      ]
    },
    {
      "cell_type": "code",
      "metadata": {
        "id": "d_JA6Agb0-w9"
      },
      "source": [
        "r1_pred=rf_1.predict(X_test_new)"
      ],
      "execution_count": 71,
      "outputs": []
    },
    {
      "cell_type": "code",
      "metadata": {
        "colab": {
          "base_uri": "https://localhost:8080/"
        },
        "id": "74X_wsrq1GMj",
        "outputId": "bca5b5f2-ddc9-4e28-e8df-c0cebdac55ee"
      },
      "source": [
        "print(\"Accuracy Score of lemmatized testing set: {}\".format(accuracy_score(y_test_new,r1_pred)))\n",
        "print(\"Accuracy Score of lemmatized training set: {}\".format(accuracy_score(y_train_new,rf_1.predict(X_train_new))))"
      ],
      "execution_count": 72,
      "outputs": [
        {
          "output_type": "stream",
          "text": [
            "Accuracy Score of lemmatized testing set: 0.8540940766550522\n",
            "Accuracy Score of lemmatized training set: 0.9945866486221621\n"
          ],
          "name": "stdout"
        }
      ]
    },
    {
      "cell_type": "code",
      "metadata": {
        "colab": {
          "base_uri": "https://localhost:8080/",
          "height": 106
        },
        "id": "tGBGiCXe2vAS",
        "outputId": "d4c3d3ce-5ba1-4821-87a0-35efcfd7f006"
      },
      "source": [
        "# Adding Final accuracy value to Results DataFrame\n",
        "tempResultsDf = pd.DataFrame({'Model':['RF w/ Lemmatizer'],'Accuracy': (accuracy_score(y_test_new,r1_pred))},index={'2'})\n",
        "resultsdf = pd.concat([resultsdf, tempResultsDf])\n",
        "resultsdf"
      ],
      "execution_count": 73,
      "outputs": [
        {
          "output_type": "execute_result",
          "data": {
            "text/html": [
              "<div>\n",
              "<style scoped>\n",
              "    .dataframe tbody tr th:only-of-type {\n",
              "        vertical-align: middle;\n",
              "    }\n",
              "\n",
              "    .dataframe tbody tr th {\n",
              "        vertical-align: top;\n",
              "    }\n",
              "\n",
              "    .dataframe thead th {\n",
              "        text-align: right;\n",
              "    }\n",
              "</style>\n",
              "<table border=\"1\" class=\"dataframe\">\n",
              "  <thead>\n",
              "    <tr style=\"text-align: right;\">\n",
              "      <th></th>\n",
              "      <th>Model</th>\n",
              "      <th>Accuracy</th>\n",
              "    </tr>\n",
              "  </thead>\n",
              "  <tbody>\n",
              "    <tr>\n",
              "      <th>1</th>\n",
              "      <td>RF w/o Lemmatizer</td>\n",
              "      <td>0.8571429</td>\n",
              "    </tr>\n",
              "    <tr>\n",
              "      <th>2</th>\n",
              "      <td>RF w/ Lemmatizer</td>\n",
              "      <td>0.8540941</td>\n",
              "    </tr>\n",
              "  </tbody>\n",
              "</table>\n",
              "</div>"
            ],
            "text/plain": [
              "               Model  Accuracy\n",
              "1  RF w/o Lemmatizer 0.8571429\n",
              "2   RF w/ Lemmatizer 0.8540941"
            ]
          },
          "metadata": {
            "tags": []
          },
          "execution_count": 73
        }
      ]
    },
    {
      "cell_type": "markdown",
      "metadata": {
        "id": "Ey7an7ukLxWB"
      },
      "source": [
        "## 7. Write your conclusion"
      ]
    },
    {
      "cell_type": "code",
      "metadata": {
        "colab": {
          "base_uri": "https://localhost:8080/",
          "height": 106
        },
        "id": "OIOv7NmU220R",
        "outputId": "2da1211c-4de2-4466-b2e4-75703741f333"
      },
      "source": [
        "resultsdf"
      ],
      "execution_count": 74,
      "outputs": [
        {
          "output_type": "execute_result",
          "data": {
            "text/html": [
              "<div>\n",
              "<style scoped>\n",
              "    .dataframe tbody tr th:only-of-type {\n",
              "        vertical-align: middle;\n",
              "    }\n",
              "\n",
              "    .dataframe tbody tr th {\n",
              "        vertical-align: top;\n",
              "    }\n",
              "\n",
              "    .dataframe thead th {\n",
              "        text-align: right;\n",
              "    }\n",
              "</style>\n",
              "<table border=\"1\" class=\"dataframe\">\n",
              "  <thead>\n",
              "    <tr style=\"text-align: right;\">\n",
              "      <th></th>\n",
              "      <th>Model</th>\n",
              "      <th>Accuracy</th>\n",
              "    </tr>\n",
              "  </thead>\n",
              "  <tbody>\n",
              "    <tr>\n",
              "      <th>1</th>\n",
              "      <td>RF w/o Lemmatizer</td>\n",
              "      <td>0.8571429</td>\n",
              "    </tr>\n",
              "    <tr>\n",
              "      <th>2</th>\n",
              "      <td>RF w/ Lemmatizer</td>\n",
              "      <td>0.8540941</td>\n",
              "    </tr>\n",
              "  </tbody>\n",
              "</table>\n",
              "</div>"
            ],
            "text/plain": [
              "               Model  Accuracy\n",
              "1  RF w/o Lemmatizer 0.8571429\n",
              "2   RF w/ Lemmatizer 0.8540941"
            ]
          },
          "metadata": {
            "tags": []
          },
          "execution_count": 74
        }
      ]
    },
    {
      "cell_type": "markdown",
      "metadata": {
        "id": "HqzTcbcP1vc6"
      },
      "source": [
        "### Infernce:- Model with lemmatization is only slightly better which means wordnert lemmatizer wasn't good enough. To improve accuracy various lemmatizers needs to tried out and at last hyper-parameter tunning of ML algorithm will give better result."
      ]
    }
  ]
}