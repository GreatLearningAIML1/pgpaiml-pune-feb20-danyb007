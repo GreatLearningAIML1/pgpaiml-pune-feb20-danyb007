{
  "nbformat": 4,
  "nbformat_minor": 0,
  "metadata": {
    "language_info": {
      "codemirror_mode": {
        "name": "ipython",
        "version": 3
      },
      "file_extension": ".py",
      "mimetype": "text/x-python",
      "name": "python",
      "nbconvert_exporter": "python",
      "pygments_lexer": "ipython3",
      "version": "3.8.5-final"
    },
    "orig_nbformat": 2,
    "kernelspec": {
      "name": "python3",
      "display_name": "Python 3",
      "language": "python"
    },
    "colab": {
      "name": "pgp-aiml-pune-feb20-R6_INNDL_Bank_Churn.ipynb",
      "provenance": [],
      "collapsed_sections": []
    }
  },
  "cells": [
    {
      "cell_type": "code",
      "metadata": {
        "colab": {
          "base_uri": "https://localhost:8080/"
        },
        "id": "kpllQ4ErjujV",
        "outputId": "fccf8fbd-8770-4594-8957-69ed6d09871c"
      },
      "source": [
        "from google.colab import drive\r\n",
        "drive.mount('/content/drive')"
      ],
      "execution_count": 1,
      "outputs": [
        {
          "output_type": "stream",
          "text": [
            "Mounted at /content/drive\n"
          ],
          "name": "stdout"
        }
      ]
    },
    {
      "cell_type": "code",
      "metadata": {
        "id": "1fet7lV1jnlP"
      },
      "source": [
        "#Importing all the necessary libraries\n",
        "import os\n",
        "import numpy as np\n",
        "import pandas as pd\n",
        "import matplotlib.pyplot as plt\n",
        "%matplotlib inline\n",
        "import seaborn as sns\n",
        "import warnings\n",
        "warnings.filterwarnings(\"ignore\") # To ignore any warnings"
      ],
      "execution_count": 2,
      "outputs": []
    },
    {
      "cell_type": "code",
      "metadata": {
        "colab": {
          "base_uri": "https://localhost:8080/",
          "height": 35
        },
        "id": "GwHqiZWckLjb",
        "outputId": "5ee1b3c6-a4c7-4f3f-833e-05304dffd6c7"
      },
      "source": [
        "os.chdir(\"/content/drive/MyDrive/Colab Notebooks/Great_Learning/Intro to Neural Networks & Deep Learning/Project_1\")\r\n",
        "os.getcwd()"
      ],
      "execution_count": 3,
      "outputs": [
        {
          "output_type": "execute_result",
          "data": {
            "application/vnd.google.colaboratory.intrinsic+json": {
              "type": "string"
            },
            "text/plain": [
              "'/content/drive/MyDrive/Colab Notebooks/Great_Learning/Intro to Neural Networks & Deep Learning/Project_1'"
            ]
          },
          "metadata": {
            "tags": []
          },
          "execution_count": 3
        }
      ]
    },
    {
      "cell_type": "markdown",
      "metadata": {
        "id": "BYIIi9m8jnlW"
      },
      "source": [
        "# 1. Read the dataset"
      ]
    },
    {
      "cell_type": "code",
      "metadata": {
        "colab": {
          "base_uri": "https://localhost:8080/",
          "height": 343
        },
        "id": "STu_2tr3jnlW",
        "outputId": "44895646-2ed4-48a9-d488-7046f94a5984"
      },
      "source": [
        "df=pd.read_csv(\"Churn.csv\")\n",
        "df.sample(10)"
      ],
      "execution_count": 4,
      "outputs": [
        {
          "output_type": "execute_result",
          "data": {
            "text/html": [
              "<div>\n",
              "<style scoped>\n",
              "    .dataframe tbody tr th:only-of-type {\n",
              "        vertical-align: middle;\n",
              "    }\n",
              "\n",
              "    .dataframe tbody tr th {\n",
              "        vertical-align: top;\n",
              "    }\n",
              "\n",
              "    .dataframe thead th {\n",
              "        text-align: right;\n",
              "    }\n",
              "</style>\n",
              "<table border=\"1\" class=\"dataframe\">\n",
              "  <thead>\n",
              "    <tr style=\"text-align: right;\">\n",
              "      <th></th>\n",
              "      <th>RowNumber</th>\n",
              "      <th>CustomerId</th>\n",
              "      <th>Surname</th>\n",
              "      <th>CreditScore</th>\n",
              "      <th>Geography</th>\n",
              "      <th>Gender</th>\n",
              "      <th>Age</th>\n",
              "      <th>Tenure</th>\n",
              "      <th>Balance</th>\n",
              "      <th>NumOfProducts</th>\n",
              "      <th>HasCrCard</th>\n",
              "      <th>IsActiveMember</th>\n",
              "      <th>EstimatedSalary</th>\n",
              "      <th>Exited</th>\n",
              "    </tr>\n",
              "  </thead>\n",
              "  <tbody>\n",
              "    <tr>\n",
              "      <th>604</th>\n",
              "      <td>605</td>\n",
              "      <td>15609286</td>\n",
              "      <td>Chadwick</td>\n",
              "      <td>702</td>\n",
              "      <td>France</td>\n",
              "      <td>Male</td>\n",
              "      <td>37</td>\n",
              "      <td>10</td>\n",
              "      <td>150525.80</td>\n",
              "      <td>1</td>\n",
              "      <td>1</td>\n",
              "      <td>1</td>\n",
              "      <td>94728.49</td>\n",
              "      <td>0</td>\n",
              "    </tr>\n",
              "    <tr>\n",
              "      <th>1751</th>\n",
              "      <td>1752</td>\n",
              "      <td>15632256</td>\n",
              "      <td>Schroeder</td>\n",
              "      <td>541</td>\n",
              "      <td>France</td>\n",
              "      <td>Male</td>\n",
              "      <td>29</td>\n",
              "      <td>7</td>\n",
              "      <td>127504.57</td>\n",
              "      <td>1</td>\n",
              "      <td>0</td>\n",
              "      <td>0</td>\n",
              "      <td>86173.92</td>\n",
              "      <td>0</td>\n",
              "    </tr>\n",
              "    <tr>\n",
              "      <th>6006</th>\n",
              "      <td>6007</td>\n",
              "      <td>15636395</td>\n",
              "      <td>King</td>\n",
              "      <td>529</td>\n",
              "      <td>France</td>\n",
              "      <td>Female</td>\n",
              "      <td>31</td>\n",
              "      <td>5</td>\n",
              "      <td>0.00</td>\n",
              "      <td>2</td>\n",
              "      <td>1</td>\n",
              "      <td>0</td>\n",
              "      <td>26817.23</td>\n",
              "      <td>0</td>\n",
              "    </tr>\n",
              "    <tr>\n",
              "      <th>4193</th>\n",
              "      <td>4194</td>\n",
              "      <td>15802362</td>\n",
              "      <td>Newland</td>\n",
              "      <td>550</td>\n",
              "      <td>Spain</td>\n",
              "      <td>Male</td>\n",
              "      <td>45</td>\n",
              "      <td>0</td>\n",
              "      <td>0.00</td>\n",
              "      <td>2</td>\n",
              "      <td>0</td>\n",
              "      <td>1</td>\n",
              "      <td>70399.71</td>\n",
              "      <td>0</td>\n",
              "    </tr>\n",
              "    <tr>\n",
              "      <th>8103</th>\n",
              "      <td>8104</td>\n",
              "      <td>15740223</td>\n",
              "      <td>Walton</td>\n",
              "      <td>479</td>\n",
              "      <td>Germany</td>\n",
              "      <td>Male</td>\n",
              "      <td>51</td>\n",
              "      <td>1</td>\n",
              "      <td>107714.74</td>\n",
              "      <td>3</td>\n",
              "      <td>1</td>\n",
              "      <td>0</td>\n",
              "      <td>86128.21</td>\n",
              "      <td>1</td>\n",
              "    </tr>\n",
              "    <tr>\n",
              "      <th>6715</th>\n",
              "      <td>6716</td>\n",
              "      <td>15763111</td>\n",
              "      <td>Niu</td>\n",
              "      <td>808</td>\n",
              "      <td>Spain</td>\n",
              "      <td>Female</td>\n",
              "      <td>67</td>\n",
              "      <td>10</td>\n",
              "      <td>124577.15</td>\n",
              "      <td>1</td>\n",
              "      <td>0</td>\n",
              "      <td>1</td>\n",
              "      <td>169894.40</td>\n",
              "      <td>0</td>\n",
              "    </tr>\n",
              "    <tr>\n",
              "      <th>1639</th>\n",
              "      <td>1640</td>\n",
              "      <td>15723053</td>\n",
              "      <td>T'ang</td>\n",
              "      <td>504</td>\n",
              "      <td>Germany</td>\n",
              "      <td>Male</td>\n",
              "      <td>32</td>\n",
              "      <td>8</td>\n",
              "      <td>170291.22</td>\n",
              "      <td>2</td>\n",
              "      <td>0</td>\n",
              "      <td>1</td>\n",
              "      <td>15658.99</td>\n",
              "      <td>0</td>\n",
              "    </tr>\n",
              "    <tr>\n",
              "      <th>8645</th>\n",
              "      <td>8646</td>\n",
              "      <td>15669282</td>\n",
              "      <td>Uchechukwu</td>\n",
              "      <td>636</td>\n",
              "      <td>France</td>\n",
              "      <td>Female</td>\n",
              "      <td>20</td>\n",
              "      <td>10</td>\n",
              "      <td>124266.86</td>\n",
              "      <td>1</td>\n",
              "      <td>0</td>\n",
              "      <td>0</td>\n",
              "      <td>100566.81</td>\n",
              "      <td>0</td>\n",
              "    </tr>\n",
              "    <tr>\n",
              "      <th>373</th>\n",
              "      <td>374</td>\n",
              "      <td>15688074</td>\n",
              "      <td>Gregory</td>\n",
              "      <td>802</td>\n",
              "      <td>Germany</td>\n",
              "      <td>Male</td>\n",
              "      <td>31</td>\n",
              "      <td>1</td>\n",
              "      <td>125013.72</td>\n",
              "      <td>1</td>\n",
              "      <td>1</td>\n",
              "      <td>1</td>\n",
              "      <td>187658.09</td>\n",
              "      <td>0</td>\n",
              "    </tr>\n",
              "    <tr>\n",
              "      <th>6423</th>\n",
              "      <td>6424</td>\n",
              "      <td>15600720</td>\n",
              "      <td>Moore</td>\n",
              "      <td>652</td>\n",
              "      <td>Spain</td>\n",
              "      <td>Male</td>\n",
              "      <td>41</td>\n",
              "      <td>8</td>\n",
              "      <td>115144.68</td>\n",
              "      <td>1</td>\n",
              "      <td>1</td>\n",
              "      <td>0</td>\n",
              "      <td>188905.43</td>\n",
              "      <td>0</td>\n",
              "    </tr>\n",
              "  </tbody>\n",
              "</table>\n",
              "</div>"
            ],
            "text/plain": [
              "      RowNumber  CustomerId  ... EstimatedSalary  Exited\n",
              "604         605    15609286  ...        94728.49       0\n",
              "1751       1752    15632256  ...        86173.92       0\n",
              "6006       6007    15636395  ...        26817.23       0\n",
              "4193       4194    15802362  ...        70399.71       0\n",
              "8103       8104    15740223  ...        86128.21       1\n",
              "6715       6716    15763111  ...       169894.40       0\n",
              "1639       1640    15723053  ...        15658.99       0\n",
              "8645       8646    15669282  ...       100566.81       0\n",
              "373         374    15688074  ...       187658.09       0\n",
              "6423       6424    15600720  ...       188905.43       0\n",
              "\n",
              "[10 rows x 14 columns]"
            ]
          },
          "metadata": {
            "tags": []
          },
          "execution_count": 4
        }
      ]
    },
    {
      "cell_type": "markdown",
      "metadata": {
        "id": "MuaeaPVijnlX"
      },
      "source": [
        "# 2. Drop the columns which are unique for all users like IDs (2.5 points)"
      ]
    },
    {
      "cell_type": "code",
      "metadata": {
        "colab": {
          "base_uri": "https://localhost:8080/"
        },
        "id": "6JnVbFfrjnlX",
        "outputId": "3d36d3c4-7203-4ad6-e17a-7f0ade3fe4cd"
      },
      "source": [
        "df.info()"
      ],
      "execution_count": 5,
      "outputs": [
        {
          "output_type": "stream",
          "text": [
            "<class 'pandas.core.frame.DataFrame'>\n",
            "RangeIndex: 10000 entries, 0 to 9999\n",
            "Data columns (total 14 columns):\n",
            " #   Column           Non-Null Count  Dtype  \n",
            "---  ------           --------------  -----  \n",
            " 0   RowNumber        10000 non-null  int64  \n",
            " 1   CustomerId       10000 non-null  int64  \n",
            " 2   Surname          10000 non-null  object \n",
            " 3   CreditScore      10000 non-null  int64  \n",
            " 4   Geography        10000 non-null  object \n",
            " 5   Gender           10000 non-null  object \n",
            " 6   Age              10000 non-null  int64  \n",
            " 7   Tenure           10000 non-null  int64  \n",
            " 8   Balance          10000 non-null  float64\n",
            " 9   NumOfProducts    10000 non-null  int64  \n",
            " 10  HasCrCard        10000 non-null  int64  \n",
            " 11  IsActiveMember   10000 non-null  int64  \n",
            " 12  EstimatedSalary  10000 non-null  float64\n",
            " 13  Exited           10000 non-null  int64  \n",
            "dtypes: float64(2), int64(9), object(3)\n",
            "memory usage: 1.1+ MB\n"
          ],
          "name": "stdout"
        }
      ]
    },
    {
      "cell_type": "markdown",
      "metadata": {
        "id": "TT6ylTE_YN4P"
      },
      "source": [
        "## Inferences:-\r\n",
        "### 1.We have 14 attributes and have very good amount of data(i.e. about 10000 entries) for modelling.\r\n",
        "### 2. We have 13 independent variables and 1 dependent variables/target attribute(i.e. Exited).\r\n",
        "### 3.Except \"Surname\", \"Geography\" and \"Gender\" attribute which is of object datatype, all the other attribute columns are having data type as float64 or int64"
      ]
    },
    {
      "cell_type": "code",
      "metadata": {
        "colab": {
          "base_uri": "https://localhost:8080/",
          "height": 373
        },
        "id": "hVTPu_njjnlY",
        "outputId": "50da54a6-0308-4875-da10-98576b91ff69"
      },
      "source": [
        "df.describe().T"
      ],
      "execution_count": 6,
      "outputs": [
        {
          "output_type": "execute_result",
          "data": {
            "text/html": [
              "<div>\n",
              "<style scoped>\n",
              "    .dataframe tbody tr th:only-of-type {\n",
              "        vertical-align: middle;\n",
              "    }\n",
              "\n",
              "    .dataframe tbody tr th {\n",
              "        vertical-align: top;\n",
              "    }\n",
              "\n",
              "    .dataframe thead th {\n",
              "        text-align: right;\n",
              "    }\n",
              "</style>\n",
              "<table border=\"1\" class=\"dataframe\">\n",
              "  <thead>\n",
              "    <tr style=\"text-align: right;\">\n",
              "      <th></th>\n",
              "      <th>count</th>\n",
              "      <th>mean</th>\n",
              "      <th>std</th>\n",
              "      <th>min</th>\n",
              "      <th>25%</th>\n",
              "      <th>50%</th>\n",
              "      <th>75%</th>\n",
              "      <th>max</th>\n",
              "    </tr>\n",
              "  </thead>\n",
              "  <tbody>\n",
              "    <tr>\n",
              "      <th>RowNumber</th>\n",
              "      <td>10000.0</td>\n",
              "      <td>5.000500e+03</td>\n",
              "      <td>2886.895680</td>\n",
              "      <td>1.00</td>\n",
              "      <td>2500.75</td>\n",
              "      <td>5.000500e+03</td>\n",
              "      <td>7.500250e+03</td>\n",
              "      <td>10000.00</td>\n",
              "    </tr>\n",
              "    <tr>\n",
              "      <th>CustomerId</th>\n",
              "      <td>10000.0</td>\n",
              "      <td>1.569094e+07</td>\n",
              "      <td>71936.186123</td>\n",
              "      <td>15565701.00</td>\n",
              "      <td>15628528.25</td>\n",
              "      <td>1.569074e+07</td>\n",
              "      <td>1.575323e+07</td>\n",
              "      <td>15815690.00</td>\n",
              "    </tr>\n",
              "    <tr>\n",
              "      <th>CreditScore</th>\n",
              "      <td>10000.0</td>\n",
              "      <td>6.505288e+02</td>\n",
              "      <td>96.653299</td>\n",
              "      <td>350.00</td>\n",
              "      <td>584.00</td>\n",
              "      <td>6.520000e+02</td>\n",
              "      <td>7.180000e+02</td>\n",
              "      <td>850.00</td>\n",
              "    </tr>\n",
              "    <tr>\n",
              "      <th>Age</th>\n",
              "      <td>10000.0</td>\n",
              "      <td>3.892180e+01</td>\n",
              "      <td>10.487806</td>\n",
              "      <td>18.00</td>\n",
              "      <td>32.00</td>\n",
              "      <td>3.700000e+01</td>\n",
              "      <td>4.400000e+01</td>\n",
              "      <td>92.00</td>\n",
              "    </tr>\n",
              "    <tr>\n",
              "      <th>Tenure</th>\n",
              "      <td>10000.0</td>\n",
              "      <td>5.012800e+00</td>\n",
              "      <td>2.892174</td>\n",
              "      <td>0.00</td>\n",
              "      <td>3.00</td>\n",
              "      <td>5.000000e+00</td>\n",
              "      <td>7.000000e+00</td>\n",
              "      <td>10.00</td>\n",
              "    </tr>\n",
              "    <tr>\n",
              "      <th>Balance</th>\n",
              "      <td>10000.0</td>\n",
              "      <td>7.648589e+04</td>\n",
              "      <td>62397.405202</td>\n",
              "      <td>0.00</td>\n",
              "      <td>0.00</td>\n",
              "      <td>9.719854e+04</td>\n",
              "      <td>1.276442e+05</td>\n",
              "      <td>250898.09</td>\n",
              "    </tr>\n",
              "    <tr>\n",
              "      <th>NumOfProducts</th>\n",
              "      <td>10000.0</td>\n",
              "      <td>1.530200e+00</td>\n",
              "      <td>0.581654</td>\n",
              "      <td>1.00</td>\n",
              "      <td>1.00</td>\n",
              "      <td>1.000000e+00</td>\n",
              "      <td>2.000000e+00</td>\n",
              "      <td>4.00</td>\n",
              "    </tr>\n",
              "    <tr>\n",
              "      <th>HasCrCard</th>\n",
              "      <td>10000.0</td>\n",
              "      <td>7.055000e-01</td>\n",
              "      <td>0.455840</td>\n",
              "      <td>0.00</td>\n",
              "      <td>0.00</td>\n",
              "      <td>1.000000e+00</td>\n",
              "      <td>1.000000e+00</td>\n",
              "      <td>1.00</td>\n",
              "    </tr>\n",
              "    <tr>\n",
              "      <th>IsActiveMember</th>\n",
              "      <td>10000.0</td>\n",
              "      <td>5.151000e-01</td>\n",
              "      <td>0.499797</td>\n",
              "      <td>0.00</td>\n",
              "      <td>0.00</td>\n",
              "      <td>1.000000e+00</td>\n",
              "      <td>1.000000e+00</td>\n",
              "      <td>1.00</td>\n",
              "    </tr>\n",
              "    <tr>\n",
              "      <th>EstimatedSalary</th>\n",
              "      <td>10000.0</td>\n",
              "      <td>1.000902e+05</td>\n",
              "      <td>57510.492818</td>\n",
              "      <td>11.58</td>\n",
              "      <td>51002.11</td>\n",
              "      <td>1.001939e+05</td>\n",
              "      <td>1.493882e+05</td>\n",
              "      <td>199992.48</td>\n",
              "    </tr>\n",
              "    <tr>\n",
              "      <th>Exited</th>\n",
              "      <td>10000.0</td>\n",
              "      <td>2.037000e-01</td>\n",
              "      <td>0.402769</td>\n",
              "      <td>0.00</td>\n",
              "      <td>0.00</td>\n",
              "      <td>0.000000e+00</td>\n",
              "      <td>0.000000e+00</td>\n",
              "      <td>1.00</td>\n",
              "    </tr>\n",
              "  </tbody>\n",
              "</table>\n",
              "</div>"
            ],
            "text/plain": [
              "                   count          mean  ...           75%          max\n",
              "RowNumber        10000.0  5.000500e+03  ...  7.500250e+03     10000.00\n",
              "CustomerId       10000.0  1.569094e+07  ...  1.575323e+07  15815690.00\n",
              "CreditScore      10000.0  6.505288e+02  ...  7.180000e+02       850.00\n",
              "Age              10000.0  3.892180e+01  ...  4.400000e+01        92.00\n",
              "Tenure           10000.0  5.012800e+00  ...  7.000000e+00        10.00\n",
              "Balance          10000.0  7.648589e+04  ...  1.276442e+05    250898.09\n",
              "NumOfProducts    10000.0  1.530200e+00  ...  2.000000e+00         4.00\n",
              "HasCrCard        10000.0  7.055000e-01  ...  1.000000e+00         1.00\n",
              "IsActiveMember   10000.0  5.151000e-01  ...  1.000000e+00         1.00\n",
              "EstimatedSalary  10000.0  1.000902e+05  ...  1.493882e+05    199992.48\n",
              "Exited           10000.0  2.037000e-01  ...  0.000000e+00         1.00\n",
              "\n",
              "[11 rows x 8 columns]"
            ]
          },
          "metadata": {
            "tags": []
          },
          "execution_count": 6
        }
      ]
    },
    {
      "cell_type": "markdown",
      "metadata": {
        "id": "OU7Oh56BW9FN"
      },
      "source": [
        "## Inferences:-\r\n",
        "### 1. \"CreditScore\", \"Age\", \"Tenure\", \"IsActiveMember\" is normally distributed.\r\n",
        "### 2. \"Balance\" is left skewed.\r\n",
        "### 3. \"NumOfProducts\" , \"HasCrCard\" , \"Estimated Salary\" is right skewed."
      ]
    },
    {
      "cell_type": "code",
      "metadata": {
        "colab": {
          "base_uri": "https://localhost:8080/",
          "height": 81
        },
        "id": "F7rsvDq7jnlY",
        "outputId": "0cbfa3af-cc7f-4a88-e999-b5cf9b3cf688"
      },
      "source": [
        "def missing_zero_values_table(df):\n",
        "        zero_val = (df == 0.00).astype(int).sum(axis=0)\n",
        "        mis_val = df.isnull().sum()\n",
        "        mis_val_percent = 100 * df.isnull().sum() / len(df)\n",
        "        mz_table = pd.concat([zero_val, mis_val, mis_val_percent], axis=1)\n",
        "        mz_table = mz_table.rename(\n",
        "        columns = {0 : 'Zero Values', 1 : 'Missing Values', 2 : '% of Total Values'})\n",
        "        mz_table['Total Zero Missing Values'] = mz_table['Zero Values'] + mz_table['Missing Values']\n",
        "        mz_table['% Total Zero Missing Values'] = 100 * mz_table['Total Zero Missing Values'] / len(df)\n",
        "        mz_table['Data Type'] = df.dtypes\n",
        "        mz_table = mz_table[\n",
        "            mz_table.iloc[:,1] != 0].sort_values(\n",
        "        '% of Total Values', ascending=False).round(1)\n",
        "        print (\"Your selected dataframe has \" + str(df.shape[1]) + \" columns and \" + str(df.shape[0]) + \" Rows.\\n\"      \n",
        "            \"There are \" + str(mz_table.shape[0]) +\n",
        "              \" columns that have missing values.\")\n",
        "        return mz_table\n",
        "\n",
        "missing_zero_values_table(df)"
      ],
      "execution_count": 7,
      "outputs": [
        {
          "output_type": "stream",
          "text": [
            "Your selected dataframe has 14 columns and 10000 Rows.\n",
            "There are 0 columns that have missing values.\n"
          ],
          "name": "stdout"
        },
        {
          "output_type": "execute_result",
          "data": {
            "text/html": [
              "<div>\n",
              "<style scoped>\n",
              "    .dataframe tbody tr th:only-of-type {\n",
              "        vertical-align: middle;\n",
              "    }\n",
              "\n",
              "    .dataframe tbody tr th {\n",
              "        vertical-align: top;\n",
              "    }\n",
              "\n",
              "    .dataframe thead th {\n",
              "        text-align: right;\n",
              "    }\n",
              "</style>\n",
              "<table border=\"1\" class=\"dataframe\">\n",
              "  <thead>\n",
              "    <tr style=\"text-align: right;\">\n",
              "      <th></th>\n",
              "      <th>Zero Values</th>\n",
              "      <th>Missing Values</th>\n",
              "      <th>% of Total Values</th>\n",
              "      <th>Total Zero Missing Values</th>\n",
              "      <th>% Total Zero Missing Values</th>\n",
              "      <th>Data Type</th>\n",
              "    </tr>\n",
              "  </thead>\n",
              "  <tbody>\n",
              "  </tbody>\n",
              "</table>\n",
              "</div>"
            ],
            "text/plain": [
              "Empty DataFrame\n",
              "Columns: [Zero Values, Missing Values, % of Total Values, Total Zero Missing Values, % Total Zero Missing Values, Data Type]\n",
              "Index: []"
            ]
          },
          "metadata": {
            "tags": []
          },
          "execution_count": 7
        }
      ]
    },
    {
      "cell_type": "markdown",
      "metadata": {
        "id": "jJm5CC4lWn3B"
      },
      "source": [
        "## Inference:-\r\n",
        "### This dataset has no missing values."
      ]
    },
    {
      "cell_type": "code",
      "metadata": {
        "colab": {
          "base_uri": "https://localhost:8080/"
        },
        "id": "5q4cy8xDjnlZ",
        "outputId": "f8cf17af-b919-4ee1-fdbc-aef4d0cbbda6"
      },
      "source": [
        "for col in df:\n",
        "    print(col,':',df[col].nunique()) #Finding number of unique values in each column"
      ],
      "execution_count": 8,
      "outputs": [
        {
          "output_type": "stream",
          "text": [
            "RowNumber : 10000\n",
            "CustomerId : 10000\n",
            "Surname : 2932\n",
            "CreditScore : 460\n",
            "Geography : 3\n",
            "Gender : 2\n",
            "Age : 70\n",
            "Tenure : 11\n",
            "Balance : 6382\n",
            "NumOfProducts : 4\n",
            "HasCrCard : 2\n",
            "IsActiveMember : 2\n",
            "EstimatedSalary : 9999\n",
            "Exited : 2\n"
          ],
          "name": "stdout"
        }
      ]
    },
    {
      "cell_type": "code",
      "metadata": {
        "colab": {
          "base_uri": "https://localhost:8080/",
          "height": 296
        },
        "id": "xrtC7vV4jnlZ",
        "outputId": "e1dfd3f8-f579-42aa-c9f9-231f7848b63e"
      },
      "source": [
        "plt.style.use('seaborn-pastel')\n",
        "sns.countplot(df['Exited'])"
      ],
      "execution_count": 9,
      "outputs": [
        {
          "output_type": "execute_result",
          "data": {
            "text/plain": [
              "<matplotlib.axes._subplots.AxesSubplot at 0x7fef1d18bf28>"
            ]
          },
          "metadata": {
            "tags": []
          },
          "execution_count": 9
        },
        {
          "output_type": "display_data",
          "data": {
            "image/png": "[encoded data removed]",
            "text/plain": [
              "<Figure size 432x288 with 1 Axes>"
            ]
          },
          "metadata": {
            "tags": [],
            "needs_background": "light"
          }
        }
      ]
    },
    {
      "cell_type": "code",
      "metadata": {
        "colab": {
          "base_uri": "https://localhost:8080/",
          "height": 321
        },
        "id": "h4bxjBuTjnla",
        "outputId": "a24ecb88-48b5-4061-ff25-dfc0e36a6e1a"
      },
      "source": [
        "plt.style.use('fivethirtyeight')\n",
        "sns.countplot(x='Geography',data=df,hue='Exited')"
      ],
      "execution_count": 10,
      "outputs": [
        {
          "output_type": "execute_result",
          "data": {
            "text/plain": [
              "<matplotlib.axes._subplots.AxesSubplot at 0x7fef1c649e10>"
            ]
          },
          "metadata": {
            "tags": []
          },
          "execution_count": 10
        },
        {
          "output_type": "display_data",
          "data": {
            "image/png": "[encoded data removed]",
            "text/plain": [
              "<Figure size 432x288 with 1 Axes>"
            ]
          },
          "metadata": {
            "tags": []
          }
        }
      ]
    },
    {
      "cell_type": "code",
      "metadata": {
        "colab": {
          "base_uri": "https://localhost:8080/",
          "height": 321
        },
        "id": "jVAUei30jnla",
        "outputId": "6aae00da-f25e-4ae6-cd66-ce3f147ecce7"
      },
      "source": [
        "plt.style.use('bmh')\n",
        "sns.countplot(x='Gender',data=df,hue='Exited')"
      ],
      "execution_count": 11,
      "outputs": [
        {
          "output_type": "execute_result",
          "data": {
            "text/plain": [
              "<matplotlib.axes._subplots.AxesSubplot at 0x7fef1c191c50>"
            ]
          },
          "metadata": {
            "tags": []
          },
          "execution_count": 11
        },
        {
          "output_type": "display_data",
          "data": {
            "image/png": "[encoded data removed]",
            "text/plain": [
              "<Figure size 432x288 with 1 Axes>"
            ]
          },
          "metadata": {
            "tags": []
          }
        }
      ]
    },
    {
      "cell_type": "code",
      "metadata": {
        "colab": {
          "base_uri": "https://localhost:8080/",
          "height": 1000
        },
        "id": "-9X4264Gjnla",
        "outputId": "fe92134b-f573-44a8-f04b-37bc7236dd2c"
      },
      "source": [
        "numerical_distribution = ['CreditScore', 'Age', 'Tenure', 'Balance', 'EstimatedSalary']\n",
        "for i in numerical_distribution:\n",
        "    plt.style.use('seaborn')\n",
        "    plt.hist(df[i])\n",
        "    plt.title(i)\n",
        "    plt.show()"
      ],
      "execution_count": 12,
      "outputs": [
        {
          "output_type": "display_data",
          "data": {
            "image/png": "[encoded data removed]",
            "text/plain": [
              "<Figure size 576x396 with 1 Axes>"
            ]
          },
          "metadata": {
            "tags": []
          }
        },
        {
          "output_type": "display_data",
          "data": {
            "image/png": "[encoded data removed]",
            "text/plain": [
              "<Figure size 576x396 with 1 Axes>"
            ]
          },
          "metadata": {
            "tags": []
          }
        },
        {
          "output_type": "display_data",
          "data": {
            "image/png": "[encoded data removed]",
            "text/plain": [
              "<Figure size 576x396 with 1 Axes>"
            ]
          },
          "metadata": {
            "tags": []
          }
        },
        {
          "output_type": "display_data",
          "data": {
            "image/png": "[encoded data removed]",
            "text/plain": [
              "<Figure size 576x396 with 1 Axes>"
            ]
          },
          "metadata": {
            "tags": []
          }
        },
        {
          "output_type": "display_data",
          "data": {
            "image/png": "[encoded data removed]",
            "text/plain": [
              "<Figure size 576x396 with 1 Axes>"
            ]
          },
          "metadata": {
            "tags": []
          }
        }
      ]
    },
    {
      "cell_type": "code",
      "metadata": {
        "colab": {
          "base_uri": "https://localhost:8080/",
          "height": 136
        },
        "id": "ogB8SWAsjnlb",
        "outputId": "b6b13e0f-6325-4db2-fceb-59fcd294b477"
      },
      "source": [
        "data=df.drop(['RowNumber', 'CustomerId', 'Surname'], axis =1)\n",
        "data.sample(3)"
      ],
      "execution_count": 13,
      "outputs": [
        {
          "output_type": "execute_result",
          "data": {
            "text/html": [
              "<div>\n",
              "<style scoped>\n",
              "    .dataframe tbody tr th:only-of-type {\n",
              "        vertical-align: middle;\n",
              "    }\n",
              "\n",
              "    .dataframe tbody tr th {\n",
              "        vertical-align: top;\n",
              "    }\n",
              "\n",
              "    .dataframe thead th {\n",
              "        text-align: right;\n",
              "    }\n",
              "</style>\n",
              "<table border=\"1\" class=\"dataframe\">\n",
              "  <thead>\n",
              "    <tr style=\"text-align: right;\">\n",
              "      <th></th>\n",
              "      <th>CreditScore</th>\n",
              "      <th>Geography</th>\n",
              "      <th>Gender</th>\n",
              "      <th>Age</th>\n",
              "      <th>Tenure</th>\n",
              "      <th>Balance</th>\n",
              "      <th>NumOfProducts</th>\n",
              "      <th>HasCrCard</th>\n",
              "      <th>IsActiveMember</th>\n",
              "      <th>EstimatedSalary</th>\n",
              "      <th>Exited</th>\n",
              "    </tr>\n",
              "  </thead>\n",
              "  <tbody>\n",
              "    <tr>\n",
              "      <th>6378</th>\n",
              "      <td>562</td>\n",
              "      <td>France</td>\n",
              "      <td>Male</td>\n",
              "      <td>37</td>\n",
              "      <td>2</td>\n",
              "      <td>0.00</td>\n",
              "      <td>1</td>\n",
              "      <td>0</td>\n",
              "      <td>1</td>\n",
              "      <td>52525.15</td>\n",
              "      <td>1</td>\n",
              "    </tr>\n",
              "    <tr>\n",
              "      <th>4494</th>\n",
              "      <td>850</td>\n",
              "      <td>Spain</td>\n",
              "      <td>Male</td>\n",
              "      <td>31</td>\n",
              "      <td>6</td>\n",
              "      <td>82613.56</td>\n",
              "      <td>2</td>\n",
              "      <td>1</td>\n",
              "      <td>0</td>\n",
              "      <td>149170.92</td>\n",
              "      <td>0</td>\n",
              "    </tr>\n",
              "    <tr>\n",
              "      <th>8517</th>\n",
              "      <td>688</td>\n",
              "      <td>France</td>\n",
              "      <td>Male</td>\n",
              "      <td>20</td>\n",
              "      <td>8</td>\n",
              "      <td>137624.40</td>\n",
              "      <td>2</td>\n",
              "      <td>1</td>\n",
              "      <td>1</td>\n",
              "      <td>197582.79</td>\n",
              "      <td>0</td>\n",
              "    </tr>\n",
              "  </tbody>\n",
              "</table>\n",
              "</div>"
            ],
            "text/plain": [
              "      CreditScore Geography Gender  ...  IsActiveMember  EstimatedSalary  Exited\n",
              "6378          562    France   Male  ...               1         52525.15       1\n",
              "4494          850     Spain   Male  ...               0        149170.92       0\n",
              "8517          688    France   Male  ...               1        197582.79       0\n",
              "\n",
              "[3 rows x 11 columns]"
            ]
          },
          "metadata": {
            "tags": []
          },
          "execution_count": 13
        }
      ]
    },
    {
      "cell_type": "markdown",
      "metadata": {
        "id": "3rfzIUGgjnlb"
      },
      "source": [
        "### Removing CustomerId, RowNumber and Surname. Removing Surname is basically because One Hot Encoding will behave unusual if this column is retained(can give error)"
      ]
    },
    {
      "cell_type": "markdown",
      "metadata": {
        "id": "NqK2gG5zjnlb"
      },
      "source": [
        "# 3. Distinguish the feature and target set (2.5 points)"
      ]
    },
    {
      "cell_type": "code",
      "metadata": {
        "colab": {
          "base_uri": "https://localhost:8080/",
          "height": 136
        },
        "id": "dE68oLd8jnlc",
        "outputId": "ec007149-d32b-4446-84b2-9416861bb622"
      },
      "source": [
        "#using labelencoder to encode the data\n",
        "from sklearn.preprocessing import LabelEncoder\n",
        "le=LabelEncoder()\n",
        "data['Geography']=le.fit_transform(data['Geography'])\n",
        "data['Gender']=le.fit_transform(data['Gender'])\n",
        "data.sample(3)"
      ],
      "execution_count": 14,
      "outputs": [
        {
          "output_type": "execute_result",
          "data": {
            "text/html": [
              "<div>\n",
              "<style scoped>\n",
              "    .dataframe tbody tr th:only-of-type {\n",
              "        vertical-align: middle;\n",
              "    }\n",
              "\n",
              "    .dataframe tbody tr th {\n",
              "        vertical-align: top;\n",
              "    }\n",
              "\n",
              "    .dataframe thead th {\n",
              "        text-align: right;\n",
              "    }\n",
              "</style>\n",
              "<table border=\"1\" class=\"dataframe\">\n",
              "  <thead>\n",
              "    <tr style=\"text-align: right;\">\n",
              "      <th></th>\n",
              "      <th>CreditScore</th>\n",
              "      <th>Geography</th>\n",
              "      <th>Gender</th>\n",
              "      <th>Age</th>\n",
              "      <th>Tenure</th>\n",
              "      <th>Balance</th>\n",
              "      <th>NumOfProducts</th>\n",
              "      <th>HasCrCard</th>\n",
              "      <th>IsActiveMember</th>\n",
              "      <th>EstimatedSalary</th>\n",
              "      <th>Exited</th>\n",
              "    </tr>\n",
              "  </thead>\n",
              "  <tbody>\n",
              "    <tr>\n",
              "      <th>2361</th>\n",
              "      <td>686</td>\n",
              "      <td>1</td>\n",
              "      <td>0</td>\n",
              "      <td>43</td>\n",
              "      <td>5</td>\n",
              "      <td>154846.24</td>\n",
              "      <td>2</td>\n",
              "      <td>1</td>\n",
              "      <td>1</td>\n",
              "      <td>151903.60</td>\n",
              "      <td>0</td>\n",
              "    </tr>\n",
              "    <tr>\n",
              "      <th>1473</th>\n",
              "      <td>552</td>\n",
              "      <td>0</td>\n",
              "      <td>1</td>\n",
              "      <td>36</td>\n",
              "      <td>8</td>\n",
              "      <td>0.00</td>\n",
              "      <td>2</td>\n",
              "      <td>0</td>\n",
              "      <td>0</td>\n",
              "      <td>132547.02</td>\n",
              "      <td>0</td>\n",
              "    </tr>\n",
              "    <tr>\n",
              "      <th>2693</th>\n",
              "      <td>662</td>\n",
              "      <td>0</td>\n",
              "      <td>1</td>\n",
              "      <td>34</td>\n",
              "      <td>2</td>\n",
              "      <td>0.00</td>\n",
              "      <td>2</td>\n",
              "      <td>0</td>\n",
              "      <td>1</td>\n",
              "      <td>21497.27</td>\n",
              "      <td>0</td>\n",
              "    </tr>\n",
              "  </tbody>\n",
              "</table>\n",
              "</div>"
            ],
            "text/plain": [
              "      CreditScore  Geography  Gender  ...  IsActiveMember  EstimatedSalary  Exited\n",
              "2361          686          1       0  ...               1        151903.60       0\n",
              "1473          552          0       1  ...               0        132547.02       0\n",
              "2693          662          0       1  ...               1         21497.27       0\n",
              "\n",
              "[3 rows x 11 columns]"
            ]
          },
          "metadata": {
            "tags": []
          },
          "execution_count": 14
        }
      ]
    },
    {
      "cell_type": "code",
      "metadata": {
        "colab": {
          "base_uri": "https://localhost:8080/"
        },
        "id": "8YVlLLOpjnlc",
        "outputId": "0091828b-4e8a-4b6c-cf59-acb36f5790a0"
      },
      "source": [
        "data.info()"
      ],
      "execution_count": 15,
      "outputs": [
        {
          "output_type": "stream",
          "text": [
            "<class 'pandas.core.frame.DataFrame'>\n",
            "RangeIndex: 10000 entries, 0 to 9999\n",
            "Data columns (total 11 columns):\n",
            " #   Column           Non-Null Count  Dtype  \n",
            "---  ------           --------------  -----  \n",
            " 0   CreditScore      10000 non-null  int64  \n",
            " 1   Geography        10000 non-null  int64  \n",
            " 2   Gender           10000 non-null  int64  \n",
            " 3   Age              10000 non-null  int64  \n",
            " 4   Tenure           10000 non-null  int64  \n",
            " 5   Balance          10000 non-null  float64\n",
            " 6   NumOfProducts    10000 non-null  int64  \n",
            " 7   HasCrCard        10000 non-null  int64  \n",
            " 8   IsActiveMember   10000 non-null  int64  \n",
            " 9   EstimatedSalary  10000 non-null  float64\n",
            " 10  Exited           10000 non-null  int64  \n",
            "dtypes: float64(2), int64(9)\n",
            "memory usage: 859.5 KB\n"
          ],
          "name": "stdout"
        }
      ]
    },
    {
      "cell_type": "markdown",
      "metadata": {
        "id": "KQJaqBfsUE1T"
      },
      "source": [
        "## Inference:-\r\n",
        "### Final dataset has 10 features and 1 target column."
      ]
    },
    {
      "cell_type": "code",
      "metadata": {
        "id": "V3dsRSuVjnlc"
      },
      "source": [
        "X=data.iloc[:,:-1] #feature\n",
        "y=data.Exited #target"
      ],
      "execution_count": 16,
      "outputs": []
    },
    {
      "cell_type": "markdown",
      "metadata": {
        "id": "787Y-n9Rjnld"
      },
      "source": [
        "# 4. Divide the data set into training and test sets ( 2.5 points)"
      ]
    },
    {
      "cell_type": "code",
      "metadata": {
        "colab": {
          "base_uri": "https://localhost:8080/"
        },
        "id": "5kLlgIl4jnld",
        "outputId": "746cefda-6236-4139-f036-658a592c9f03"
      },
      "source": [
        "from sklearn.model_selection import train_test_split\n",
        "X_train, X_test, y_train, y_test = train_test_split(X, y, test_size=0.30, random_state=42, stratify=data['Exited'])\n",
        "print('X_train:',X_train.shape)\n",
        "print('X_test:',X_test.shape)"
      ],
      "execution_count": 17,
      "outputs": [
        {
          "output_type": "stream",
          "text": [
            "X_train: (7000, 10)\n",
            "X_test: (3000, 10)\n"
          ],
          "name": "stdout"
        }
      ]
    },
    {
      "cell_type": "markdown",
      "metadata": {
        "id": "iHVZ7SXqjnld"
      },
      "source": [
        "# 5. Normalize the train and test data (5 points)"
      ]
    },
    {
      "cell_type": "code",
      "metadata": {
        "id": "6yGlCwm-jnld"
      },
      "source": [
        "from sklearn.preprocessing import StandardScaler\n",
        "scaler = StandardScaler().fit(X_train)\n",
        "\n",
        "# Scale the train set\n",
        "X_train = scaler.transform(X_train)\n",
        "\n",
        "# Scale the test set\n",
        "X_test = scaler.transform(X_test)"
      ],
      "execution_count": 18,
      "outputs": []
    },
    {
      "cell_type": "markdown",
      "metadata": {
        "id": "Jl3KSl6ajnld"
      },
      "source": [
        "# 6. Initialize & build the model. { Make sure that you add 2 to 5 hidden dense layers in this model } (10 points)"
      ]
    },
    {
      "cell_type": "code",
      "metadata": {
        "colab": {
          "base_uri": "https://localhost:8080/"
        },
        "id": "je54nsBjjnle",
        "outputId": "e2839dd5-0981-4169-f4b6-71deb2caf27e"
      },
      "source": [
        "from tensorflow.keras import Sequential\n",
        "from tensorflow.keras.layers import Dense\n",
        "from tensorflow.keras.layers import ReLU\n",
        "\n",
        "# defining the model architecture\n",
        "\n",
        "# Initialize the constructor\n",
        "model = Sequential()\n",
        "\n",
        "# Add an input layer \n",
        "model.add(Dense(50, activation='relu', input_shape=(10,)))\n",
        "model.add(Dense(25, activation='relu'))\n",
        "model.add(Dense(10, activation='relu'))\n",
        "model.add(Dense(5, activation='relu'))\n",
        "# Add an output layer \n",
        "model.add(Dense(1, activation='sigmoid'))\n",
        "\n",
        "model.compile(loss='binary_crossentropy',optimizer='adam',metrics=['accuracy'])\n",
        "model.summary()"
      ],
      "execution_count": 19,
      "outputs": [
        {
          "output_type": "stream",
          "text": [
            "Model: \"sequential\"\n",
            "_________________________________________________________________\n",
            "Layer (type)                 Output Shape              Param #   \n",
            "=================================================================\n",
            "dense (Dense)                (None, 50)                550       \n",
            "_________________________________________________________________\n",
            "dense_1 (Dense)              (None, 25)                1275      \n",
            "_________________________________________________________________\n",
            "dense_2 (Dense)              (None, 10)                260       \n",
            "_________________________________________________________________\n",
            "dense_3 (Dense)              (None, 5)                 55        \n",
            "_________________________________________________________________\n",
            "dense_4 (Dense)              (None, 1)                 6         \n",
            "=================================================================\n",
            "Total params: 2,146\n",
            "Trainable params: 2,146\n",
            "Non-trainable params: 0\n",
            "_________________________________________________________________\n"
          ],
          "name": "stdout"
        }
      ]
    },
    {
      "cell_type": "code",
      "metadata": {
        "colab": {
          "base_uri": "https://localhost:8080/"
        },
        "id": "H3LIkGyTly8R",
        "outputId": "3d7c402d-1b9e-4bc7-baff-79aca41f71aa"
      },
      "source": [
        "epochs = 50\r\n",
        "batch_size = 256\r\n",
        "\r\n",
        "\r\n",
        "history = model.fit(X_train, y_train, batch_size=batch_size, epochs=epochs, validation_split=.3, verbose=True)\r\n",
        "loss,accuracy  = model.evaluate(X_test, y_test, verbose=False)"
      ],
      "execution_count": 20,
      "outputs": [
        {
          "output_type": "stream",
          "text": [
            "Epoch 1/50\n",
            "20/20 [==============================] - 1s 27ms/step - loss: 0.7343 - accuracy: 0.2935 - val_loss: 0.6669 - val_accuracy: 0.7348\n",
            "Epoch 2/50\n",
            "20/20 [==============================] - 0s 3ms/step - loss: 0.6451 - accuracy: 0.7764 - val_loss: 0.5818 - val_accuracy: 0.7886\n",
            "Epoch 3/50\n",
            "20/20 [==============================] - 0s 4ms/step - loss: 0.5527 - accuracy: 0.8011 - val_loss: 0.5091 - val_accuracy: 0.7886\n",
            "Epoch 4/50\n",
            "20/20 [==============================] - 0s 3ms/step - loss: 0.4862 - accuracy: 0.8021 - val_loss: 0.4815 - val_accuracy: 0.7886\n",
            "Epoch 5/50\n",
            "20/20 [==============================] - 0s 3ms/step - loss: 0.4617 - accuracy: 0.7972 - val_loss: 0.4601 - val_accuracy: 0.7900\n",
            "Epoch 6/50\n",
            "20/20 [==============================] - 0s 3ms/step - loss: 0.4441 - accuracy: 0.7978 - val_loss: 0.4467 - val_accuracy: 0.7957\n",
            "Epoch 7/50\n",
            "20/20 [==============================] - 0s 3ms/step - loss: 0.4260 - accuracy: 0.8062 - val_loss: 0.4356 - val_accuracy: 0.8019\n",
            "Epoch 8/50\n",
            "20/20 [==============================] - 0s 4ms/step - loss: 0.4209 - accuracy: 0.8159 - val_loss: 0.4270 - val_accuracy: 0.8071\n",
            "Epoch 9/50\n",
            "20/20 [==============================] - 0s 3ms/step - loss: 0.3982 - accuracy: 0.8254 - val_loss: 0.4171 - val_accuracy: 0.8138\n",
            "Epoch 10/50\n",
            "20/20 [==============================] - 0s 3ms/step - loss: 0.3899 - accuracy: 0.8330 - val_loss: 0.4075 - val_accuracy: 0.8219\n",
            "Epoch 11/50\n",
            "20/20 [==============================] - 0s 3ms/step - loss: 0.3952 - accuracy: 0.8283 - val_loss: 0.3988 - val_accuracy: 0.8281\n",
            "Epoch 12/50\n",
            "20/20 [==============================] - 0s 3ms/step - loss: 0.3749 - accuracy: 0.8425 - val_loss: 0.3905 - val_accuracy: 0.8305\n",
            "Epoch 13/50\n",
            "20/20 [==============================] - 0s 3ms/step - loss: 0.3725 - accuracy: 0.8457 - val_loss: 0.3836 - val_accuracy: 0.8357\n",
            "Epoch 14/50\n",
            "20/20 [==============================] - 0s 3ms/step - loss: 0.3704 - accuracy: 0.8483 - val_loss: 0.3792 - val_accuracy: 0.8424\n",
            "Epoch 15/50\n",
            "20/20 [==============================] - 0s 9ms/step - loss: 0.3615 - accuracy: 0.8531 - val_loss: 0.3731 - val_accuracy: 0.8452\n",
            "Epoch 16/50\n",
            "20/20 [==============================] - 0s 4ms/step - loss: 0.3533 - accuracy: 0.8520 - val_loss: 0.3703 - val_accuracy: 0.8462\n",
            "Epoch 17/50\n",
            "20/20 [==============================] - 0s 4ms/step - loss: 0.3623 - accuracy: 0.8450 - val_loss: 0.3672 - val_accuracy: 0.8486\n",
            "Epoch 18/50\n",
            "20/20 [==============================] - 0s 3ms/step - loss: 0.3579 - accuracy: 0.8526 - val_loss: 0.3648 - val_accuracy: 0.8500\n",
            "Epoch 19/50\n",
            "20/20 [==============================] - 0s 3ms/step - loss: 0.3612 - accuracy: 0.8561 - val_loss: 0.3642 - val_accuracy: 0.8514\n",
            "Epoch 20/50\n",
            "20/20 [==============================] - 0s 3ms/step - loss: 0.3485 - accuracy: 0.8567 - val_loss: 0.3620 - val_accuracy: 0.8505\n",
            "Epoch 21/50\n",
            "20/20 [==============================] - 0s 3ms/step - loss: 0.3471 - accuracy: 0.8593 - val_loss: 0.3612 - val_accuracy: 0.8524\n",
            "Epoch 22/50\n",
            "20/20 [==============================] - 0s 3ms/step - loss: 0.3377 - accuracy: 0.8596 - val_loss: 0.3596 - val_accuracy: 0.8510\n",
            "Epoch 23/50\n",
            "20/20 [==============================] - 0s 3ms/step - loss: 0.3411 - accuracy: 0.8653 - val_loss: 0.3592 - val_accuracy: 0.8524\n",
            "Epoch 24/50\n",
            "20/20 [==============================] - 0s 3ms/step - loss: 0.3373 - accuracy: 0.8633 - val_loss: 0.3587 - val_accuracy: 0.8500\n",
            "Epoch 25/50\n",
            "20/20 [==============================] - 0s 3ms/step - loss: 0.3365 - accuracy: 0.8642 - val_loss: 0.3583 - val_accuracy: 0.8495\n",
            "Epoch 26/50\n",
            "20/20 [==============================] - 0s 3ms/step - loss: 0.3387 - accuracy: 0.8616 - val_loss: 0.3564 - val_accuracy: 0.8510\n",
            "Epoch 27/50\n",
            "20/20 [==============================] - 0s 3ms/step - loss: 0.3222 - accuracy: 0.8700 - val_loss: 0.3571 - val_accuracy: 0.8529\n",
            "Epoch 28/50\n",
            "20/20 [==============================] - 0s 3ms/step - loss: 0.3387 - accuracy: 0.8640 - val_loss: 0.3554 - val_accuracy: 0.8529\n",
            "Epoch 29/50\n",
            "20/20 [==============================] - 0s 4ms/step - loss: 0.3351 - accuracy: 0.8611 - val_loss: 0.3577 - val_accuracy: 0.8495\n",
            "Epoch 30/50\n",
            "20/20 [==============================] - 0s 3ms/step - loss: 0.3378 - accuracy: 0.8646 - val_loss: 0.3551 - val_accuracy: 0.8514\n",
            "Epoch 31/50\n",
            "20/20 [==============================] - 0s 3ms/step - loss: 0.3188 - accuracy: 0.8697 - val_loss: 0.3551 - val_accuracy: 0.8524\n",
            "Epoch 32/50\n",
            "20/20 [==============================] - 0s 3ms/step - loss: 0.3287 - accuracy: 0.8636 - val_loss: 0.3541 - val_accuracy: 0.8519\n",
            "Epoch 33/50\n",
            "20/20 [==============================] - 0s 3ms/step - loss: 0.3295 - accuracy: 0.8633 - val_loss: 0.3529 - val_accuracy: 0.8524\n",
            "Epoch 34/50\n",
            "20/20 [==============================] - 0s 3ms/step - loss: 0.3285 - accuracy: 0.8670 - val_loss: 0.3537 - val_accuracy: 0.8514\n",
            "Epoch 35/50\n",
            "20/20 [==============================] - 0s 3ms/step - loss: 0.3235 - accuracy: 0.8679 - val_loss: 0.3539 - val_accuracy: 0.8524\n",
            "Epoch 36/50\n",
            "20/20 [==============================] - 0s 4ms/step - loss: 0.3241 - accuracy: 0.8653 - val_loss: 0.3533 - val_accuracy: 0.8495\n",
            "Epoch 37/50\n",
            "20/20 [==============================] - 0s 3ms/step - loss: 0.3268 - accuracy: 0.8608 - val_loss: 0.3531 - val_accuracy: 0.8514\n",
            "Epoch 38/50\n",
            "20/20 [==============================] - 0s 4ms/step - loss: 0.3282 - accuracy: 0.8633 - val_loss: 0.3515 - val_accuracy: 0.8552\n",
            "Epoch 39/50\n",
            "20/20 [==============================] - 0s 3ms/step - loss: 0.3182 - accuracy: 0.8681 - val_loss: 0.3513 - val_accuracy: 0.8519\n",
            "Epoch 40/50\n",
            "20/20 [==============================] - 0s 3ms/step - loss: 0.3136 - accuracy: 0.8780 - val_loss: 0.3511 - val_accuracy: 0.8490\n",
            "Epoch 41/50\n",
            "20/20 [==============================] - 0s 3ms/step - loss: 0.3251 - accuracy: 0.8656 - val_loss: 0.3536 - val_accuracy: 0.8505\n",
            "Epoch 42/50\n",
            "20/20 [==============================] - 0s 3ms/step - loss: 0.3193 - accuracy: 0.8687 - val_loss: 0.3519 - val_accuracy: 0.8524\n",
            "Epoch 43/50\n",
            "20/20 [==============================] - 0s 3ms/step - loss: 0.3161 - accuracy: 0.8702 - val_loss: 0.3529 - val_accuracy: 0.8543\n",
            "Epoch 44/50\n",
            "20/20 [==============================] - 0s 3ms/step - loss: 0.3105 - accuracy: 0.8747 - val_loss: 0.3515 - val_accuracy: 0.8543\n",
            "Epoch 45/50\n",
            "20/20 [==============================] - 0s 4ms/step - loss: 0.3200 - accuracy: 0.8687 - val_loss: 0.3536 - val_accuracy: 0.8495\n",
            "Epoch 46/50\n",
            "20/20 [==============================] - 0s 4ms/step - loss: 0.3211 - accuracy: 0.8759 - val_loss: 0.3540 - val_accuracy: 0.8510\n",
            "Epoch 47/50\n",
            "20/20 [==============================] - 0s 3ms/step - loss: 0.3177 - accuracy: 0.8670 - val_loss: 0.3549 - val_accuracy: 0.8486\n",
            "Epoch 48/50\n",
            "20/20 [==============================] - 0s 3ms/step - loss: 0.3230 - accuracy: 0.8679 - val_loss: 0.3543 - val_accuracy: 0.8519\n",
            "Epoch 49/50\n",
            "20/20 [==============================] - 0s 4ms/step - loss: 0.3050 - accuracy: 0.8779 - val_loss: 0.3534 - val_accuracy: 0.8533\n",
            "Epoch 50/50\n",
            "20/20 [==============================] - 0s 3ms/step - loss: 0.3096 - accuracy: 0.8725 - val_loss: 0.3543 - val_accuracy: 0.8538\n"
          ],
          "name": "stdout"
        }
      ]
    },
    {
      "cell_type": "markdown",
      "metadata": {
        "id": "_TwNfxBkjnle"
      },
      "source": [
        "#7. Predict the results (5 points)"
      ]
    },
    {
      "cell_type": "code",
      "metadata": {
        "colab": {
          "base_uri": "https://localhost:8080/",
          "height": 439
        },
        "id": "t_Wpw7uTjnle",
        "outputId": "a712da12-8c96-485e-e177-7c3f0b105d9f"
      },
      "source": [
        "print(history.history['val_accuracy'])\n",
        "\n",
        "print(history.history['accuracy'])\n",
        "\n",
        "ta = pd.DataFrame(history.history['accuracy'])\n",
        "va = pd.DataFrame(history.history['val_accuracy'])\n",
        "\n",
        "tva = pd.concat([ta,va] , axis=1)\n",
        "\n",
        "tva.boxplot()"
      ],
      "execution_count": 21,
      "outputs": [
        {
          "output_type": "stream",
          "text": [
            "[0.7347618937492371, 0.7885714173316956, 0.7885714173316956, 0.7885714173316956, 0.7900000214576721, 0.795714259147644, 0.8019047379493713, 0.8071428537368774, 0.8138095140457153, 0.8219047784805298, 0.8280952572822571, 0.8304761648178101, 0.8357142806053162, 0.842380940914154, 0.8452380895614624, 0.8461904525756836, 0.8485714197158813, 0.8500000238418579, 0.8514285683631897, 0.8504762053489685, 0.8523809313774109, 0.8509523868560791, 0.8523809313774109, 0.8500000238418579, 0.8495237827301025, 0.8509523868560791, 0.8528571724891663, 0.8528571724891663, 0.8495237827301025, 0.8514285683631897, 0.8523809313774109, 0.8519047498703003, 0.8523809313774109, 0.8514285683631897, 0.8523809313774109, 0.8495237827301025, 0.8514285683631897, 0.8552380800247192, 0.8519047498703003, 0.8490476012229919, 0.8504762053489685, 0.8523809313774109, 0.854285717010498, 0.854285717010498, 0.8495237827301025, 0.8509523868560791, 0.8485714197158813, 0.8519047498703003, 0.8533333539962769, 0.8538095355033875]\n",
            "[0.40816327929496765, 0.7900000214576721, 0.7995918393135071, 0.7995918393135071, 0.7995918393135071, 0.8020408153533936, 0.8077551126480103, 0.8187755346298218, 0.8222448825836182, 0.8293877840042114, 0.8342857360839844, 0.8383673429489136, 0.8438775539398193, 0.8487755060195923, 0.849591851234436, 0.8500000238418579, 0.8524489998817444, 0.8536734580993652, 0.8563265204429626, 0.8559183478355408, 0.8567346930503845, 0.8563265204429626, 0.8593877553939819, 0.8579592108726501, 0.8595918416976929, 0.8595918416976929, 0.8593877553939819, 0.8624489903450012, 0.8593877553939819, 0.8616326451301575, 0.8624489903450012, 0.8606122732162476, 0.864081621170044, 0.863265335559845, 0.8622449040412903, 0.8628571629524231, 0.8644897937774658, 0.8644897937774658, 0.8646938800811768, 0.8665305972099304, 0.8671428561210632, 0.8693877458572388, 0.8704081773757935, 0.8706122636795044, 0.8700000047683716, 0.8722448945045471, 0.867959201335907, 0.8716326355934143, 0.8724489808082581, 0.8706122636795044]\n"
          ],
          "name": "stdout"
        },
        {
          "output_type": "execute_result",
          "data": {
            "text/plain": [
              "<matplotlib.axes._subplots.AxesSubplot at 0x7feedffc2ac8>"
            ]
          },
          "metadata": {
            "tags": []
          },
          "execution_count": 21
        },
        {
          "output_type": "display_data",
          "data": {
            "image/png": "[encoded data removed]",
            "text/plain": [
              "<Figure size 576x396 with 1 Axes>"
            ]
          },
          "metadata": {
            "tags": []
          }
        }
      ]
    },
    {
      "cell_type": "code",
      "metadata": {
        "id": "iKiAL__qoE4s"
      },
      "source": [
        "y_pred = np.round(model.predict(X_test))"
      ],
      "execution_count": 22,
      "outputs": []
    },
    {
      "cell_type": "code",
      "metadata": {
        "colab": {
          "base_uri": "https://localhost:8080/"
        },
        "id": "RmwVmIdKRLDq",
        "outputId": "e8b4eb14-7a44-4700-fe3e-c3689778765e"
      },
      "source": [
        "y_pred[0:10]"
      ],
      "execution_count": 23,
      "outputs": [
        {
          "output_type": "execute_result",
          "data": {
            "text/plain": [
              "array([[0.],\n",
              "       [0.],\n",
              "       [0.],\n",
              "       [0.],\n",
              "       [0.],\n",
              "       [1.],\n",
              "       [0.],\n",
              "       [1.],\n",
              "       [0.],\n",
              "       [0.]], dtype=float32)"
            ]
          },
          "metadata": {
            "tags": []
          },
          "execution_count": 23
        }
      ]
    },
    {
      "cell_type": "markdown",
      "metadata": {
        "id": "ax6JO-Z7jnle"
      },
      "source": [
        "# 8. Print the Accuracy score and confusion matrix (2.5 points)"
      ]
    },
    {
      "cell_type": "code",
      "metadata": {
        "colab": {
          "base_uri": "https://localhost:8080/"
        },
        "id": "99GiorKpjnlf",
        "outputId": "61c4e1b6-9765-4edf-e55b-a7f2c8ff7011"
      },
      "source": [
        "loss, acc = model.evaluate(X_test, y_test, verbose=0)\n",
        "print('Test Accuracy: %.3f' % acc)\n",
        "\n",
        "\n",
        "loss, acc = model.evaluate(X_train, y_train, verbose=0)\n",
        "print('Train Accuracy: %.3f' % acc)"
      ],
      "execution_count": 24,
      "outputs": [
        {
          "output_type": "stream",
          "text": [
            "Test Accuracy: 0.863\n",
            "Train Accuracy: 0.867\n"
          ],
          "name": "stdout"
        }
      ]
    },
    {
      "cell_type": "markdown",
      "metadata": {
        "id": "PTqA73oiRZU1"
      },
      "source": [
        "## Inferences:-\r\n",
        "### 1.Train and Test accuracy is same so the model is neither overfit or underfit.\r\n",
        "### 2. 86.3% of testing data was classified correctly."
      ]
    },
    {
      "cell_type": "code",
      "metadata": {
        "colab": {
          "base_uri": "https://localhost:8080/"
        },
        "id": "Lmm6jJPqjnlf",
        "outputId": "c77a2665-9cb0-4981-90c5-3de151a16f93"
      },
      "source": [
        "from sklearn import metrics\n",
        "\n",
        "print(pd.DataFrame(metrics.confusion_matrix(y_test, y_pred, labels=[0 ,1]), index=['true:0', 'true:1'], columns=['pred:0', 'pred:1']))"
      ],
      "execution_count": 25,
      "outputs": [
        {
          "output_type": "stream",
          "text": [
            "        pred:0  pred:1\n",
            "true:0    2278     111\n",
            "true:1     299     312\n"
          ],
          "name": "stdout"
        }
      ]
    },
    {
      "cell_type": "markdown",
      "metadata": {
        "id": "xFMp3N97Sf0A"
      },
      "source": [
        "## Inference:- \r\n",
        "### 1.The accuracy based on the Confusion Matrixis is 86.3 %(APPROX). which matches with the score calculated through various EPOCH\r\n",
        "### 2. Recall is 88.40% and Precision is 95.35%."
      ]
    }
  ]
}